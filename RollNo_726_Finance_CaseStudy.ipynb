{
  "cells": [
    {
      "cell_type": "markdown",
      "metadata": {
        "papermill": {
          "duration": 0.11726,
          "end_time": "2021-03-07T13:50:04.137663",
          "exception": false,
          "start_time": "2021-03-07T13:50:04.020403",
          "status": "completed"
        },
        "tags": [],
        "id": "xofRieMEAJGi"
      },
      "source": [
        "# **PROPENSITY MODEL**"
      ]
    },
    {
      "cell_type": "markdown",
      "source": [
        "# 1. Importing and Data Warehousing "
      ],
      "metadata": {
        "id": "_hlIQ_gnCkQ7"
      }
    },
    {
      "cell_type": "markdown",
      "metadata": {
        "papermill": {
          "duration": 0.108677,
          "end_time": "2021-03-07T13:50:04.792251",
          "exception": false,
          "start_time": "2021-03-07T13:50:04.683574",
          "status": "completed"
        },
        "tags": [],
        "id": "KPQ7Xw1TAJGo"
      },
      "source": [
        "# Importing Necessary Packages"
      ]
    },
    {
      "cell_type": "code",
      "execution_count": 1,
      "metadata": {
        "execution": {
          "iopub.execute_input": "2021-03-07T13:50:05.027102Z",
          "iopub.status.busy": "2021-03-07T13:50:05.026403Z",
          "iopub.status.idle": "2021-03-07T13:50:06.721604Z",
          "shell.execute_reply": "2021-03-07T13:50:06.722099Z"
        },
        "papermill": {
          "duration": 1.821219,
          "end_time": "2021-03-07T13:50:06.722460",
          "exception": false,
          "start_time": "2021-03-07T13:50:04.901241",
          "status": "completed"
        },
        "tags": [],
        "id": "IzpwfUOCAJGp"
      },
      "outputs": [],
      "source": [
        "# General\n",
        "import pandas as pd\n",
        "import os\n",
        "import numpy as np\n",
        "\n",
        "# Data Visualization\n",
        "import seaborn as sns\n",
        "import matplotlib.pyplot as plt\n",
        "%matplotlib inline\n",
        "sns.set_style('darkgrid')\n",
        "%matplotlib inline\n",
        "\n",
        "# Data Manipulation and PreProcessing\n",
        "from sklearn.preprocessing import LabelEncoder\n",
        "from scipy import stats\n",
        "from sklearn.preprocessing import MinMaxScaler\n",
        "from scipy.stats import zscore\n",
        "from sklearn.model_selection import train_test_split\n",
        "\n",
        "# Sampling\n",
        "from imblearn.over_sampling import SMOTENC\n",
        "from imblearn.over_sampling import SMOTE\n",
        "\n",
        "# Model Building\n",
        "from sklearn.neighbors import KNeighborsClassifier\n",
        "from sklearn.metrics import accuracy_score, confusion_matrix\n",
        "from sklearn.linear_model import LogisticRegression\n",
        "from sklearn.naive_bayes import GaussianNB\n",
        "from sklearn.svm import SVC\n",
        "from sklearn.metrics import classification_report\n",
        "from sklearn import model_selection\n",
        "import warnings\n",
        "warnings.filterwarnings(\"ignore\")\n",
        "from collections import Counter\n",
        "\n",
        "#Model Evaluation\n",
        "from sklearn.model_selection import cross_val_score\n",
        "from sklearn.metrics import accuracy_score, precision_score, recall_score\n",
        "from imblearn.over_sampling import RandomOverSampler"
      ]
    },
    {
      "cell_type": "code",
      "execution_count": 2,
      "metadata": {
        "execution": {
          "iopub.execute_input": "2021-03-07T13:50:07.381339Z",
          "iopub.status.busy": "2021-03-07T13:50:07.380478Z",
          "iopub.status.idle": "2021-03-07T13:50:07.408011Z",
          "shell.execute_reply": "2021-03-07T13:50:07.408703Z"
        },
        "papermill": {
          "duration": 0.140735,
          "end_time": "2021-03-07T13:50:07.408927",
          "exception": false,
          "start_time": "2021-03-07T13:50:07.268192",
          "status": "completed"
        },
        "tags": [],
        "colab": {
          "base_uri": "https://localhost:8080/",
          "height": 206
        },
        "id": "Nw1D-rKtAJGr",
        "outputId": "c3f9792e-2853-44dc-babd-12ae04f27b17"
      },
      "outputs": [
        {
          "output_type": "execute_result",
          "data": {
            "text/plain": [
              "   ID  Age  CustomerSince  HighestSpend  ZipCode  HiddenScore  \\\n",
              "0   1   25              1            49    91107            4   \n",
              "1   2   45             19            34    90089            3   \n",
              "2   3   39             15            11    94720            1   \n",
              "3   4   35              9           100    94112            1   \n",
              "4   5   35              8            45    91330            4   \n",
              "\n",
              "   MonthlyAverageSpend  Level  \n",
              "0                  1.6      1  \n",
              "1                  1.5      1  \n",
              "2                  1.0      1  \n",
              "3                  2.7      2  \n",
              "4                  1.0      2  "
            ],
            "text/html": [
              "\n",
              "  <div id=\"df-bfb68d33-f2b6-4f2d-bb3f-8ed1460bdd64\">\n",
              "    <div class=\"colab-df-container\">\n",
              "      <div>\n",
              "<style scoped>\n",
              "    .dataframe tbody tr th:only-of-type {\n",
              "        vertical-align: middle;\n",
              "    }\n",
              "\n",
              "    .dataframe tbody tr th {\n",
              "        vertical-align: top;\n",
              "    }\n",
              "\n",
              "    .dataframe thead th {\n",
              "        text-align: right;\n",
              "    }\n",
              "</style>\n",
              "<table border=\"1\" class=\"dataframe\">\n",
              "  <thead>\n",
              "    <tr style=\"text-align: right;\">\n",
              "      <th></th>\n",
              "      <th>ID</th>\n",
              "      <th>Age</th>\n",
              "      <th>CustomerSince</th>\n",
              "      <th>HighestSpend</th>\n",
              "      <th>ZipCode</th>\n",
              "      <th>HiddenScore</th>\n",
              "      <th>MonthlyAverageSpend</th>\n",
              "      <th>Level</th>\n",
              "    </tr>\n",
              "  </thead>\n",
              "  <tbody>\n",
              "    <tr>\n",
              "      <th>0</th>\n",
              "      <td>1</td>\n",
              "      <td>25</td>\n",
              "      <td>1</td>\n",
              "      <td>49</td>\n",
              "      <td>91107</td>\n",
              "      <td>4</td>\n",
              "      <td>1.6</td>\n",
              "      <td>1</td>\n",
              "    </tr>\n",
              "    <tr>\n",
              "      <th>1</th>\n",
              "      <td>2</td>\n",
              "      <td>45</td>\n",
              "      <td>19</td>\n",
              "      <td>34</td>\n",
              "      <td>90089</td>\n",
              "      <td>3</td>\n",
              "      <td>1.5</td>\n",
              "      <td>1</td>\n",
              "    </tr>\n",
              "    <tr>\n",
              "      <th>2</th>\n",
              "      <td>3</td>\n",
              "      <td>39</td>\n",
              "      <td>15</td>\n",
              "      <td>11</td>\n",
              "      <td>94720</td>\n",
              "      <td>1</td>\n",
              "      <td>1.0</td>\n",
              "      <td>1</td>\n",
              "    </tr>\n",
              "    <tr>\n",
              "      <th>3</th>\n",
              "      <td>4</td>\n",
              "      <td>35</td>\n",
              "      <td>9</td>\n",
              "      <td>100</td>\n",
              "      <td>94112</td>\n",
              "      <td>1</td>\n",
              "      <td>2.7</td>\n",
              "      <td>2</td>\n",
              "    </tr>\n",
              "    <tr>\n",
              "      <th>4</th>\n",
              "      <td>5</td>\n",
              "      <td>35</td>\n",
              "      <td>8</td>\n",
              "      <td>45</td>\n",
              "      <td>91330</td>\n",
              "      <td>4</td>\n",
              "      <td>1.0</td>\n",
              "      <td>2</td>\n",
              "    </tr>\n",
              "  </tbody>\n",
              "</table>\n",
              "</div>\n",
              "      <button class=\"colab-df-convert\" onclick=\"convertToInteractive('df-bfb68d33-f2b6-4f2d-bb3f-8ed1460bdd64')\"\n",
              "              title=\"Convert this dataframe to an interactive table.\"\n",
              "              style=\"display:none;\">\n",
              "        \n",
              "  <svg xmlns=\"http://www.w3.org/2000/svg\" height=\"24px\"viewBox=\"0 0 24 24\"\n",
              "       width=\"24px\">\n",
              "    <path d=\"M0 0h24v24H0V0z\" fill=\"none\"/>\n",
              "    <path d=\"M18.56 5.44l.94 2.06.94-2.06 2.06-.94-2.06-.94-.94-2.06-.94 2.06-2.06.94zm-11 1L8.5 8.5l.94-2.06 2.06-.94-2.06-.94L8.5 2.5l-.94 2.06-2.06.94zm10 10l.94 2.06.94-2.06 2.06-.94-2.06-.94-.94-2.06-.94 2.06-2.06.94z\"/><path d=\"M17.41 7.96l-1.37-1.37c-.4-.4-.92-.59-1.43-.59-.52 0-1.04.2-1.43.59L10.3 9.45l-7.72 7.72c-.78.78-.78 2.05 0 2.83L4 21.41c.39.39.9.59 1.41.59.51 0 1.02-.2 1.41-.59l7.78-7.78 2.81-2.81c.8-.78.8-2.07 0-2.86zM5.41 20L4 18.59l7.72-7.72 1.47 1.35L5.41 20z\"/>\n",
              "  </svg>\n",
              "      </button>\n",
              "      \n",
              "  <style>\n",
              "    .colab-df-container {\n",
              "      display:flex;\n",
              "      flex-wrap:wrap;\n",
              "      gap: 12px;\n",
              "    }\n",
              "\n",
              "    .colab-df-convert {\n",
              "      background-color: #E8F0FE;\n",
              "      border: none;\n",
              "      border-radius: 50%;\n",
              "      cursor: pointer;\n",
              "      display: none;\n",
              "      fill: #1967D2;\n",
              "      height: 32px;\n",
              "      padding: 0 0 0 0;\n",
              "      width: 32px;\n",
              "    }\n",
              "\n",
              "    .colab-df-convert:hover {\n",
              "      background-color: #E2EBFA;\n",
              "      box-shadow: 0px 1px 2px rgba(60, 64, 67, 0.3), 0px 1px 3px 1px rgba(60, 64, 67, 0.15);\n",
              "      fill: #174EA6;\n",
              "    }\n",
              "\n",
              "    [theme=dark] .colab-df-convert {\n",
              "      background-color: #3B4455;\n",
              "      fill: #D2E3FC;\n",
              "    }\n",
              "\n",
              "    [theme=dark] .colab-df-convert:hover {\n",
              "      background-color: #434B5C;\n",
              "      box-shadow: 0px 1px 3px 1px rgba(0, 0, 0, 0.15);\n",
              "      filter: drop-shadow(0px 1px 2px rgba(0, 0, 0, 0.3));\n",
              "      fill: #FFFFFF;\n",
              "    }\n",
              "  </style>\n",
              "\n",
              "      <script>\n",
              "        const buttonEl =\n",
              "          document.querySelector('#df-bfb68d33-f2b6-4f2d-bb3f-8ed1460bdd64 button.colab-df-convert');\n",
              "        buttonEl.style.display =\n",
              "          google.colab.kernel.accessAllowed ? 'block' : 'none';\n",
              "\n",
              "        async function convertToInteractive(key) {\n",
              "          const element = document.querySelector('#df-bfb68d33-f2b6-4f2d-bb3f-8ed1460bdd64');\n",
              "          const dataTable =\n",
              "            await google.colab.kernel.invokeFunction('convertToInteractive',\n",
              "                                                     [key], {});\n",
              "          if (!dataTable) return;\n",
              "\n",
              "          const docLinkHtml = 'Like what you see? Visit the ' +\n",
              "            '<a target=\"_blank\" href=https://colab.research.google.com/notebooks/data_table.ipynb>data table notebook</a>'\n",
              "            + ' to learn more about interactive tables.';\n",
              "          element.innerHTML = '';\n",
              "          dataTable['output_type'] = 'display_data';\n",
              "          await google.colab.output.renderOutput(dataTable, element);\n",
              "          const docLink = document.createElement('div');\n",
              "          docLink.innerHTML = docLinkHtml;\n",
              "          element.appendChild(docLink);\n",
              "        }\n",
              "      </script>\n",
              "    </div>\n",
              "  </div>\n",
              "  "
            ]
          },
          "metadata": {},
          "execution_count": 2
        }
      ],
      "source": [
        "# Importing Data (Part 1)\n",
        "df1 = pd.read_csv('Part2 - Data1.csv')\n",
        "\n",
        "# Printing first 5 rows of the data\n",
        "df1.head()"
      ]
    },
    {
      "cell_type": "code",
      "execution_count": 3,
      "metadata": {
        "execution": {
          "iopub.execute_input": "2021-03-07T13:50:08.383603Z",
          "iopub.status.busy": "2021-03-07T13:50:08.382649Z",
          "iopub.status.idle": "2021-03-07T13:50:08.387629Z",
          "shell.execute_reply": "2021-03-07T13:50:08.386929Z"
        },
        "papermill": {
          "duration": 0.120787,
          "end_time": "2021-03-07T13:50:08.387779",
          "exception": false,
          "start_time": "2021-03-07T13:50:08.266992",
          "status": "completed"
        },
        "scrolled": true,
        "tags": [],
        "colab": {
          "base_uri": "https://localhost:8080/"
        },
        "id": "koL3PFTOAJGt",
        "outputId": "b6e7d1c4-85e0-4455-ed76-ff9c4af435e2"
      },
      "outputs": [
        {
          "output_type": "execute_result",
          "data": {
            "text/plain": [
              "(5000, 8)"
            ]
          },
          "metadata": {},
          "execution_count": 3
        }
      ],
      "source": [
        "# Dataset shape\n",
        "df1.shape\n",
        "# There are 5000 rows and 8 columns in our dataset"
      ]
    },
    {
      "cell_type": "code",
      "execution_count": 4,
      "metadata": {
        "execution": {
          "iopub.execute_input": "2021-03-07T13:50:09.305891Z",
          "iopub.status.busy": "2021-03-07T13:50:09.305236Z",
          "iopub.status.idle": "2021-03-07T13:50:09.327080Z",
          "shell.execute_reply": "2021-03-07T13:50:09.326429Z"
        },
        "papermill": {
          "duration": 0.139595,
          "end_time": "2021-03-07T13:50:09.327270",
          "exception": false,
          "start_time": "2021-03-07T13:50:09.187675",
          "status": "completed"
        },
        "tags": [],
        "colab": {
          "base_uri": "https://localhost:8080/",
          "height": 206
        },
        "id": "zGUIx8pmAJGu",
        "outputId": "614d0a0b-fa05-4f24-c209-04ccb5aa86cd"
      },
      "outputs": [
        {
          "output_type": "execute_result",
          "data": {
            "text/plain": [
              "   ID  Mortgage  Security  FixedDepositAccount  InternetBanking  CreditCard  \\\n",
              "0   1         0         1                    0                0           0   \n",
              "1   2         0         1                    0                0           0   \n",
              "2   3         0         0                    0                0           0   \n",
              "3   4         0         0                    0                0           0   \n",
              "4   5         0         0                    0                0           1   \n",
              "\n",
              "   LoanOnCard  \n",
              "0         NaN  \n",
              "1         NaN  \n",
              "2         NaN  \n",
              "3         NaN  \n",
              "4         NaN  "
            ],
            "text/html": [
              "\n",
              "  <div id=\"df-7d68aeda-5541-422d-aa4a-93057dabdd19\">\n",
              "    <div class=\"colab-df-container\">\n",
              "      <div>\n",
              "<style scoped>\n",
              "    .dataframe tbody tr th:only-of-type {\n",
              "        vertical-align: middle;\n",
              "    }\n",
              "\n",
              "    .dataframe tbody tr th {\n",
              "        vertical-align: top;\n",
              "    }\n",
              "\n",
              "    .dataframe thead th {\n",
              "        text-align: right;\n",
              "    }\n",
              "</style>\n",
              "<table border=\"1\" class=\"dataframe\">\n",
              "  <thead>\n",
              "    <tr style=\"text-align: right;\">\n",
              "      <th></th>\n",
              "      <th>ID</th>\n",
              "      <th>Mortgage</th>\n",
              "      <th>Security</th>\n",
              "      <th>FixedDepositAccount</th>\n",
              "      <th>InternetBanking</th>\n",
              "      <th>CreditCard</th>\n",
              "      <th>LoanOnCard</th>\n",
              "    </tr>\n",
              "  </thead>\n",
              "  <tbody>\n",
              "    <tr>\n",
              "      <th>0</th>\n",
              "      <td>1</td>\n",
              "      <td>0</td>\n",
              "      <td>1</td>\n",
              "      <td>0</td>\n",
              "      <td>0</td>\n",
              "      <td>0</td>\n",
              "      <td>NaN</td>\n",
              "    </tr>\n",
              "    <tr>\n",
              "      <th>1</th>\n",
              "      <td>2</td>\n",
              "      <td>0</td>\n",
              "      <td>1</td>\n",
              "      <td>0</td>\n",
              "      <td>0</td>\n",
              "      <td>0</td>\n",
              "      <td>NaN</td>\n",
              "    </tr>\n",
              "    <tr>\n",
              "      <th>2</th>\n",
              "      <td>3</td>\n",
              "      <td>0</td>\n",
              "      <td>0</td>\n",
              "      <td>0</td>\n",
              "      <td>0</td>\n",
              "      <td>0</td>\n",
              "      <td>NaN</td>\n",
              "    </tr>\n",
              "    <tr>\n",
              "      <th>3</th>\n",
              "      <td>4</td>\n",
              "      <td>0</td>\n",
              "      <td>0</td>\n",
              "      <td>0</td>\n",
              "      <td>0</td>\n",
              "      <td>0</td>\n",
              "      <td>NaN</td>\n",
              "    </tr>\n",
              "    <tr>\n",
              "      <th>4</th>\n",
              "      <td>5</td>\n",
              "      <td>0</td>\n",
              "      <td>0</td>\n",
              "      <td>0</td>\n",
              "      <td>0</td>\n",
              "      <td>1</td>\n",
              "      <td>NaN</td>\n",
              "    </tr>\n",
              "  </tbody>\n",
              "</table>\n",
              "</div>\n",
              "      <button class=\"colab-df-convert\" onclick=\"convertToInteractive('df-7d68aeda-5541-422d-aa4a-93057dabdd19')\"\n",
              "              title=\"Convert this dataframe to an interactive table.\"\n",
              "              style=\"display:none;\">\n",
              "        \n",
              "  <svg xmlns=\"http://www.w3.org/2000/svg\" height=\"24px\"viewBox=\"0 0 24 24\"\n",
              "       width=\"24px\">\n",
              "    <path d=\"M0 0h24v24H0V0z\" fill=\"none\"/>\n",
              "    <path d=\"M18.56 5.44l.94 2.06.94-2.06 2.06-.94-2.06-.94-.94-2.06-.94 2.06-2.06.94zm-11 1L8.5 8.5l.94-2.06 2.06-.94-2.06-.94L8.5 2.5l-.94 2.06-2.06.94zm10 10l.94 2.06.94-2.06 2.06-.94-2.06-.94-.94-2.06-.94 2.06-2.06.94z\"/><path d=\"M17.41 7.96l-1.37-1.37c-.4-.4-.92-.59-1.43-.59-.52 0-1.04.2-1.43.59L10.3 9.45l-7.72 7.72c-.78.78-.78 2.05 0 2.83L4 21.41c.39.39.9.59 1.41.59.51 0 1.02-.2 1.41-.59l7.78-7.78 2.81-2.81c.8-.78.8-2.07 0-2.86zM5.41 20L4 18.59l7.72-7.72 1.47 1.35L5.41 20z\"/>\n",
              "  </svg>\n",
              "      </button>\n",
              "      \n",
              "  <style>\n",
              "    .colab-df-container {\n",
              "      display:flex;\n",
              "      flex-wrap:wrap;\n",
              "      gap: 12px;\n",
              "    }\n",
              "\n",
              "    .colab-df-convert {\n",
              "      background-color: #E8F0FE;\n",
              "      border: none;\n",
              "      border-radius: 50%;\n",
              "      cursor: pointer;\n",
              "      display: none;\n",
              "      fill: #1967D2;\n",
              "      height: 32px;\n",
              "      padding: 0 0 0 0;\n",
              "      width: 32px;\n",
              "    }\n",
              "\n",
              "    .colab-df-convert:hover {\n",
              "      background-color: #E2EBFA;\n",
              "      box-shadow: 0px 1px 2px rgba(60, 64, 67, 0.3), 0px 1px 3px 1px rgba(60, 64, 67, 0.15);\n",
              "      fill: #174EA6;\n",
              "    }\n",
              "\n",
              "    [theme=dark] .colab-df-convert {\n",
              "      background-color: #3B4455;\n",
              "      fill: #D2E3FC;\n",
              "    }\n",
              "\n",
              "    [theme=dark] .colab-df-convert:hover {\n",
              "      background-color: #434B5C;\n",
              "      box-shadow: 0px 1px 3px 1px rgba(0, 0, 0, 0.15);\n",
              "      filter: drop-shadow(0px 1px 2px rgba(0, 0, 0, 0.3));\n",
              "      fill: #FFFFFF;\n",
              "    }\n",
              "  </style>\n",
              "\n",
              "      <script>\n",
              "        const buttonEl =\n",
              "          document.querySelector('#df-7d68aeda-5541-422d-aa4a-93057dabdd19 button.colab-df-convert');\n",
              "        buttonEl.style.display =\n",
              "          google.colab.kernel.accessAllowed ? 'block' : 'none';\n",
              "\n",
              "        async function convertToInteractive(key) {\n",
              "          const element = document.querySelector('#df-7d68aeda-5541-422d-aa4a-93057dabdd19');\n",
              "          const dataTable =\n",
              "            await google.colab.kernel.invokeFunction('convertToInteractive',\n",
              "                                                     [key], {});\n",
              "          if (!dataTable) return;\n",
              "\n",
              "          const docLinkHtml = 'Like what you see? Visit the ' +\n",
              "            '<a target=\"_blank\" href=https://colab.research.google.com/notebooks/data_table.ipynb>data table notebook</a>'\n",
              "            + ' to learn more about interactive tables.';\n",
              "          element.innerHTML = '';\n",
              "          dataTable['output_type'] = 'display_data';\n",
              "          await google.colab.output.renderOutput(dataTable, element);\n",
              "          const docLink = document.createElement('div');\n",
              "          docLink.innerHTML = docLinkHtml;\n",
              "          element.appendChild(docLink);\n",
              "        }\n",
              "      </script>\n",
              "    </div>\n",
              "  </div>\n",
              "  "
            ]
          },
          "metadata": {},
          "execution_count": 4
        }
      ],
      "source": [
        "# Importing dataset (Part 2)\n",
        "df2=pd.read_csv('Part2 -Data2.csv')\n",
        "\n",
        "# Printing first 5 rows\n",
        "df2.head()"
      ]
    },
    {
      "cell_type": "code",
      "execution_count": 5,
      "metadata": {
        "execution": {
          "iopub.execute_input": "2021-03-07T13:50:09.779960Z",
          "iopub.status.busy": "2021-03-07T13:50:09.778890Z",
          "iopub.status.idle": "2021-03-07T13:50:09.783173Z",
          "shell.execute_reply": "2021-03-07T13:50:09.782600Z"
        },
        "papermill": {
          "duration": 0.120056,
          "end_time": "2021-03-07T13:50:09.783331",
          "exception": false,
          "start_time": "2021-03-07T13:50:09.663275",
          "status": "completed"
        },
        "tags": [],
        "colab": {
          "base_uri": "https://localhost:8080/"
        },
        "id": "pNoHeFWkAJGu",
        "outputId": "761a048d-6dd9-44ad-f49c-b891703f2eb2"
      },
      "outputs": [
        {
          "output_type": "execute_result",
          "data": {
            "text/plain": [
              "(5000, 7)"
            ]
          },
          "metadata": {},
          "execution_count": 5
        }
      ],
      "source": [
        "# Dataset shape\n",
        "df2.shape\n",
        "# There are 5000 rows and 8 columns in our dataset"
      ]
    },
    {
      "cell_type": "markdown",
      "metadata": {
        "papermill": {
          "duration": 0.112725,
          "end_time": "2021-03-07T13:50:10.478623",
          "exception": false,
          "start_time": "2021-03-07T13:50:10.365898",
          "status": "completed"
        },
        "tags": [],
        "id": "YtEJJMuDAJGv"
      },
      "source": [
        "# Merging the dataset"
      ]
    },
    {
      "cell_type": "code",
      "execution_count": 6,
      "metadata": {
        "execution": {
          "iopub.execute_input": "2021-03-07T13:50:10.706678Z",
          "iopub.status.busy": "2021-03-07T13:50:10.706014Z",
          "iopub.status.idle": "2021-03-07T13:50:10.721980Z",
          "shell.execute_reply": "2021-03-07T13:50:10.721420Z"
        },
        "papermill": {
          "duration": 0.129794,
          "end_time": "2021-03-07T13:50:10.722142",
          "exception": false,
          "start_time": "2021-03-07T13:50:10.592348",
          "status": "completed"
        },
        "tags": [],
        "colab": {
          "base_uri": "https://localhost:8080/",
          "height": 270
        },
        "id": "AHQ62leyAJGv",
        "outputId": "06397ab4-01e6-47d0-ee6f-f15b817fe8d4"
      },
      "outputs": [
        {
          "output_type": "execute_result",
          "data": {
            "text/plain": [
              "   ID  Age  CustomerSince  HighestSpend  ZipCode  HiddenScore  \\\n",
              "0   1   25              1            49    91107            4   \n",
              "1   2   45             19            34    90089            3   \n",
              "2   3   39             15            11    94720            1   \n",
              "3   4   35              9           100    94112            1   \n",
              "4   5   35              8            45    91330            4   \n",
              "\n",
              "   MonthlyAverageSpend  Level  Mortgage  Security  FixedDepositAccount  \\\n",
              "0                  1.6      1         0         1                    0   \n",
              "1                  1.5      1         0         1                    0   \n",
              "2                  1.0      1         0         0                    0   \n",
              "3                  2.7      2         0         0                    0   \n",
              "4                  1.0      2         0         0                    0   \n",
              "\n",
              "   InternetBanking  CreditCard  LoanOnCard  \n",
              "0                0           0         NaN  \n",
              "1                0           0         NaN  \n",
              "2                0           0         NaN  \n",
              "3                0           0         NaN  \n",
              "4                0           1         NaN  "
            ],
            "text/html": [
              "\n",
              "  <div id=\"df-d914e5c3-eb0c-47a7-adb8-0660ea82a86f\">\n",
              "    <div class=\"colab-df-container\">\n",
              "      <div>\n",
              "<style scoped>\n",
              "    .dataframe tbody tr th:only-of-type {\n",
              "        vertical-align: middle;\n",
              "    }\n",
              "\n",
              "    .dataframe tbody tr th {\n",
              "        vertical-align: top;\n",
              "    }\n",
              "\n",
              "    .dataframe thead th {\n",
              "        text-align: right;\n",
              "    }\n",
              "</style>\n",
              "<table border=\"1\" class=\"dataframe\">\n",
              "  <thead>\n",
              "    <tr style=\"text-align: right;\">\n",
              "      <th></th>\n",
              "      <th>ID</th>\n",
              "      <th>Age</th>\n",
              "      <th>CustomerSince</th>\n",
              "      <th>HighestSpend</th>\n",
              "      <th>ZipCode</th>\n",
              "      <th>HiddenScore</th>\n",
              "      <th>MonthlyAverageSpend</th>\n",
              "      <th>Level</th>\n",
              "      <th>Mortgage</th>\n",
              "      <th>Security</th>\n",
              "      <th>FixedDepositAccount</th>\n",
              "      <th>InternetBanking</th>\n",
              "      <th>CreditCard</th>\n",
              "      <th>LoanOnCard</th>\n",
              "    </tr>\n",
              "  </thead>\n",
              "  <tbody>\n",
              "    <tr>\n",
              "      <th>0</th>\n",
              "      <td>1</td>\n",
              "      <td>25</td>\n",
              "      <td>1</td>\n",
              "      <td>49</td>\n",
              "      <td>91107</td>\n",
              "      <td>4</td>\n",
              "      <td>1.6</td>\n",
              "      <td>1</td>\n",
              "      <td>0</td>\n",
              "      <td>1</td>\n",
              "      <td>0</td>\n",
              "      <td>0</td>\n",
              "      <td>0</td>\n",
              "      <td>NaN</td>\n",
              "    </tr>\n",
              "    <tr>\n",
              "      <th>1</th>\n",
              "      <td>2</td>\n",
              "      <td>45</td>\n",
              "      <td>19</td>\n",
              "      <td>34</td>\n",
              "      <td>90089</td>\n",
              "      <td>3</td>\n",
              "      <td>1.5</td>\n",
              "      <td>1</td>\n",
              "      <td>0</td>\n",
              "      <td>1</td>\n",
              "      <td>0</td>\n",
              "      <td>0</td>\n",
              "      <td>0</td>\n",
              "      <td>NaN</td>\n",
              "    </tr>\n",
              "    <tr>\n",
              "      <th>2</th>\n",
              "      <td>3</td>\n",
              "      <td>39</td>\n",
              "      <td>15</td>\n",
              "      <td>11</td>\n",
              "      <td>94720</td>\n",
              "      <td>1</td>\n",
              "      <td>1.0</td>\n",
              "      <td>1</td>\n",
              "      <td>0</td>\n",
              "      <td>0</td>\n",
              "      <td>0</td>\n",
              "      <td>0</td>\n",
              "      <td>0</td>\n",
              "      <td>NaN</td>\n",
              "    </tr>\n",
              "    <tr>\n",
              "      <th>3</th>\n",
              "      <td>4</td>\n",
              "      <td>35</td>\n",
              "      <td>9</td>\n",
              "      <td>100</td>\n",
              "      <td>94112</td>\n",
              "      <td>1</td>\n",
              "      <td>2.7</td>\n",
              "      <td>2</td>\n",
              "      <td>0</td>\n",
              "      <td>0</td>\n",
              "      <td>0</td>\n",
              "      <td>0</td>\n",
              "      <td>0</td>\n",
              "      <td>NaN</td>\n",
              "    </tr>\n",
              "    <tr>\n",
              "      <th>4</th>\n",
              "      <td>5</td>\n",
              "      <td>35</td>\n",
              "      <td>8</td>\n",
              "      <td>45</td>\n",
              "      <td>91330</td>\n",
              "      <td>4</td>\n",
              "      <td>1.0</td>\n",
              "      <td>2</td>\n",
              "      <td>0</td>\n",
              "      <td>0</td>\n",
              "      <td>0</td>\n",
              "      <td>0</td>\n",
              "      <td>1</td>\n",
              "      <td>NaN</td>\n",
              "    </tr>\n",
              "  </tbody>\n",
              "</table>\n",
              "</div>\n",
              "      <button class=\"colab-df-convert\" onclick=\"convertToInteractive('df-d914e5c3-eb0c-47a7-adb8-0660ea82a86f')\"\n",
              "              title=\"Convert this dataframe to an interactive table.\"\n",
              "              style=\"display:none;\">\n",
              "        \n",
              "  <svg xmlns=\"http://www.w3.org/2000/svg\" height=\"24px\"viewBox=\"0 0 24 24\"\n",
              "       width=\"24px\">\n",
              "    <path d=\"M0 0h24v24H0V0z\" fill=\"none\"/>\n",
              "    <path d=\"M18.56 5.44l.94 2.06.94-2.06 2.06-.94-2.06-.94-.94-2.06-.94 2.06-2.06.94zm-11 1L8.5 8.5l.94-2.06 2.06-.94-2.06-.94L8.5 2.5l-.94 2.06-2.06.94zm10 10l.94 2.06.94-2.06 2.06-.94-2.06-.94-.94-2.06-.94 2.06-2.06.94z\"/><path d=\"M17.41 7.96l-1.37-1.37c-.4-.4-.92-.59-1.43-.59-.52 0-1.04.2-1.43.59L10.3 9.45l-7.72 7.72c-.78.78-.78 2.05 0 2.83L4 21.41c.39.39.9.59 1.41.59.51 0 1.02-.2 1.41-.59l7.78-7.78 2.81-2.81c.8-.78.8-2.07 0-2.86zM5.41 20L4 18.59l7.72-7.72 1.47 1.35L5.41 20z\"/>\n",
              "  </svg>\n",
              "      </button>\n",
              "      \n",
              "  <style>\n",
              "    .colab-df-container {\n",
              "      display:flex;\n",
              "      flex-wrap:wrap;\n",
              "      gap: 12px;\n",
              "    }\n",
              "\n",
              "    .colab-df-convert {\n",
              "      background-color: #E8F0FE;\n",
              "      border: none;\n",
              "      border-radius: 50%;\n",
              "      cursor: pointer;\n",
              "      display: none;\n",
              "      fill: #1967D2;\n",
              "      height: 32px;\n",
              "      padding: 0 0 0 0;\n",
              "      width: 32px;\n",
              "    }\n",
              "\n",
              "    .colab-df-convert:hover {\n",
              "      background-color: #E2EBFA;\n",
              "      box-shadow: 0px 1px 2px rgba(60, 64, 67, 0.3), 0px 1px 3px 1px rgba(60, 64, 67, 0.15);\n",
              "      fill: #174EA6;\n",
              "    }\n",
              "\n",
              "    [theme=dark] .colab-df-convert {\n",
              "      background-color: #3B4455;\n",
              "      fill: #D2E3FC;\n",
              "    }\n",
              "\n",
              "    [theme=dark] .colab-df-convert:hover {\n",
              "      background-color: #434B5C;\n",
              "      box-shadow: 0px 1px 3px 1px rgba(0, 0, 0, 0.15);\n",
              "      filter: drop-shadow(0px 1px 2px rgba(0, 0, 0, 0.3));\n",
              "      fill: #FFFFFF;\n",
              "    }\n",
              "  </style>\n",
              "\n",
              "      <script>\n",
              "        const buttonEl =\n",
              "          document.querySelector('#df-d914e5c3-eb0c-47a7-adb8-0660ea82a86f button.colab-df-convert');\n",
              "        buttonEl.style.display =\n",
              "          google.colab.kernel.accessAllowed ? 'block' : 'none';\n",
              "\n",
              "        async function convertToInteractive(key) {\n",
              "          const element = document.querySelector('#df-d914e5c3-eb0c-47a7-adb8-0660ea82a86f');\n",
              "          const dataTable =\n",
              "            await google.colab.kernel.invokeFunction('convertToInteractive',\n",
              "                                                     [key], {});\n",
              "          if (!dataTable) return;\n",
              "\n",
              "          const docLinkHtml = 'Like what you see? Visit the ' +\n",
              "            '<a target=\"_blank\" href=https://colab.research.google.com/notebooks/data_table.ipynb>data table notebook</a>'\n",
              "            + ' to learn more about interactive tables.';\n",
              "          element.innerHTML = '';\n",
              "          dataTable['output_type'] = 'display_data';\n",
              "          await google.colab.output.renderOutput(dataTable, element);\n",
              "          const docLink = document.createElement('div');\n",
              "          docLink.innerHTML = docLinkHtml;\n",
              "          element.appendChild(docLink);\n",
              "        }\n",
              "      </script>\n",
              "    </div>\n",
              "  </div>\n",
              "  "
            ]
          },
          "metadata": {},
          "execution_count": 6
        }
      ],
      "source": [
        "# Merging the dataset on ID column\n",
        "df = df1.merge(df2,left_on='ID',right_on='ID')\n",
        "\n",
        "# Printing dataset\n",
        "df.head()"
      ]
    },
    {
      "cell_type": "code",
      "execution_count": 7,
      "metadata": {
        "execution": {
          "iopub.execute_input": "2021-03-07T13:50:10.951456Z",
          "iopub.status.busy": "2021-03-07T13:50:10.950473Z",
          "iopub.status.idle": "2021-03-07T13:50:10.954855Z",
          "shell.execute_reply": "2021-03-07T13:50:10.955341Z"
        },
        "papermill": {
          "duration": 0.122561,
          "end_time": "2021-03-07T13:50:10.955526",
          "exception": false,
          "start_time": "2021-03-07T13:50:10.832965",
          "status": "completed"
        },
        "tags": [],
        "colab": {
          "base_uri": "https://localhost:8080/"
        },
        "id": "7vdYG-sWAJGw",
        "outputId": "20389b30-29bb-49c9-a38e-156efa79fdcc"
      },
      "outputs": [
        {
          "output_type": "execute_result",
          "data": {
            "text/plain": [
              "(5000, 14)"
            ]
          },
          "metadata": {},
          "execution_count": 7
        }
      ],
      "source": [
        "# Dataset shape\n",
        "df.shape\n",
        "# Combined dataframe has 14 columns (since ID is common in both datasets) and 5000 rows"
      ]
    },
    {
      "cell_type": "markdown",
      "metadata": {
        "papermill": {
          "duration": 0.11424,
          "end_time": "2021-03-07T13:50:11.657246",
          "exception": false,
          "start_time": "2021-03-07T13:50:11.543006",
          "status": "completed"
        },
        "tags": [],
        "id": "XOCAA_CKAJGx"
      },
      "source": [
        "# 2. Data Cleansing"
      ]
    },
    {
      "cell_type": "code",
      "source": [
        "# Info of the dataset\n",
        "df.info()"
      ],
      "metadata": {
        "colab": {
          "base_uri": "https://localhost:8080/"
        },
        "id": "t9km9_TiE11w",
        "outputId": "26c8656a-3715-40b1-8f1c-7261b3f33ba9"
      },
      "execution_count": 8,
      "outputs": [
        {
          "output_type": "stream",
          "name": "stdout",
          "text": [
            "<class 'pandas.core.frame.DataFrame'>\n",
            "Int64Index: 5000 entries, 0 to 4999\n",
            "Data columns (total 14 columns):\n",
            " #   Column               Non-Null Count  Dtype  \n",
            "---  ------               --------------  -----  \n",
            " 0   ID                   5000 non-null   int64  \n",
            " 1   Age                  5000 non-null   int64  \n",
            " 2   CustomerSince        5000 non-null   int64  \n",
            " 3   HighestSpend         5000 non-null   int64  \n",
            " 4   ZipCode              5000 non-null   int64  \n",
            " 5   HiddenScore          5000 non-null   int64  \n",
            " 6   MonthlyAverageSpend  5000 non-null   float64\n",
            " 7   Level                5000 non-null   int64  \n",
            " 8   Mortgage             5000 non-null   int64  \n",
            " 9   Security             5000 non-null   int64  \n",
            " 10  FixedDepositAccount  5000 non-null   int64  \n",
            " 11  InternetBanking      5000 non-null   int64  \n",
            " 12  CreditCard           5000 non-null   int64  \n",
            " 13  LoanOnCard           4980 non-null   float64\n",
            "dtypes: float64(2), int64(12)\n",
            "memory usage: 585.9 KB\n"
          ]
        }
      ]
    },
    {
      "cell_type": "code",
      "execution_count": 9,
      "metadata": {
        "execution": {
          "iopub.execute_input": "2021-03-07T13:50:12.133876Z",
          "iopub.status.busy": "2021-03-07T13:50:12.132573Z",
          "iopub.status.idle": "2021-03-07T13:50:12.137394Z",
          "shell.execute_reply": "2021-03-07T13:50:12.136766Z"
        },
        "papermill": {
          "duration": 0.130648,
          "end_time": "2021-03-07T13:50:12.137537",
          "exception": false,
          "start_time": "2021-03-07T13:50:12.006889",
          "status": "completed"
        },
        "tags": [],
        "colab": {
          "base_uri": "https://localhost:8080/"
        },
        "id": "YCRYiWpWAJGx",
        "outputId": "0ebbe595-a8bf-4a21-c350-5fb4885ea2e1"
      },
      "outputs": [
        {
          "output_type": "execute_result",
          "data": {
            "text/plain": [
              "ID                       int64\n",
              "Age                      int64\n",
              "CustomerSince            int64\n",
              "HighestSpend             int64\n",
              "ZipCode                  int64\n",
              "HiddenScore              int64\n",
              "MonthlyAverageSpend    float64\n",
              "Level                    int64\n",
              "Mortgage                 int64\n",
              "Security                 int64\n",
              "FixedDepositAccount      int64\n",
              "InternetBanking          int64\n",
              "CreditCard               int64\n",
              "LoanOnCard             float64\n",
              "dtype: object"
            ]
          },
          "metadata": {},
          "execution_count": 9
        }
      ],
      "source": [
        "# Checking datatypes of all columns in the dataset\n",
        "df.dtypes"
      ]
    },
    {
      "cell_type": "code",
      "execution_count": 10,
      "metadata": {
        "execution": {
          "iopub.execute_input": "2021-03-07T13:50:12.599154Z",
          "iopub.status.busy": "2021-03-07T13:50:12.597985Z",
          "iopub.status.idle": "2021-03-07T13:50:12.610959Z",
          "shell.execute_reply": "2021-03-07T13:50:12.610184Z"
        },
        "papermill": {
          "duration": 0.132447,
          "end_time": "2021-03-07T13:50:12.611141",
          "exception": false,
          "start_time": "2021-03-07T13:50:12.478694",
          "status": "completed"
        },
        "tags": [],
        "colab": {
          "base_uri": "https://localhost:8080/"
        },
        "id": "t6g3sVL4AJGx",
        "outputId": "a5822622-5ef6-4cd3-abc5-5e9f16858b65"
      },
      "outputs": [
        {
          "output_type": "execute_result",
          "data": {
            "text/plain": [
              "ID                        int64\n",
              "Age                       int64\n",
              "CustomerSince             int64\n",
              "HighestSpend              int64\n",
              "ZipCode                   int64\n",
              "HiddenScore            category\n",
              "MonthlyAverageSpend     float64\n",
              "Level                  category\n",
              "Mortgage                  int64\n",
              "Security               category\n",
              "FixedDepositAccount    category\n",
              "InternetBanking        category\n",
              "CreditCard             category\n",
              "LoanOnCard             category\n",
              "dtype: object"
            ]
          },
          "metadata": {},
          "execution_count": 10
        }
      ],
      "source": [
        "# Changing datatypes of categorical features\n",
        "col=['HiddenScore','Level','Security','FixedDepositAccount', 'InternetBanking', 'CreditCard', 'LoanOnCard']\n",
        "for i in col:\n",
        "    df[i]=df[i].astype('category')\n",
        "\n",
        "df.dtypes\n",
        "# We can see all categorical columns datatypes are changed"
      ]
    },
    {
      "cell_type": "code",
      "execution_count": 11,
      "metadata": {
        "execution": {
          "iopub.execute_input": "2021-03-07T13:50:14.187740Z",
          "iopub.status.busy": "2021-03-07T13:50:14.183278Z",
          "iopub.status.idle": "2021-03-07T13:50:14.192357Z",
          "shell.execute_reply": "2021-03-07T13:50:14.192884Z"
        },
        "papermill": {
          "duration": 0.130959,
          "end_time": "2021-03-07T13:50:14.193062",
          "exception": false,
          "start_time": "2021-03-07T13:50:14.062103",
          "status": "completed"
        },
        "tags": [],
        "colab": {
          "base_uri": "https://localhost:8080/"
        },
        "id": "TfczD0ntAJGz",
        "outputId": "e114bc0a-a911-4884-b242-af2ef0395643"
      },
      "outputs": [
        {
          "output_type": "execute_result",
          "data": {
            "text/plain": [
              "ID                      0\n",
              "Age                     0\n",
              "CustomerSince           0\n",
              "HighestSpend            0\n",
              "ZipCode                 0\n",
              "HiddenScore             0\n",
              "MonthlyAverageSpend     0\n",
              "Level                   0\n",
              "Mortgage                0\n",
              "Security                0\n",
              "FixedDepositAccount     0\n",
              "InternetBanking         0\n",
              "CreditCard              0\n",
              "LoanOnCard             20\n",
              "dtype: int64"
            ]
          },
          "metadata": {},
          "execution_count": 11
        }
      ],
      "source": [
        "# Checking Null values in the dataset\n",
        "df.isnull().sum()\n",
        "\n",
        "# Target variable Loanoncard having few missing records"
      ]
    },
    {
      "cell_type": "code",
      "execution_count": 12,
      "metadata": {
        "execution": {
          "iopub.execute_input": "2021-03-07T13:50:14.672450Z",
          "iopub.status.busy": "2021-03-07T13:50:14.671100Z",
          "iopub.status.idle": "2021-03-07T13:50:14.699515Z",
          "shell.execute_reply": "2021-03-07T13:50:14.698831Z"
        },
        "papermill": {
          "duration": 0.154018,
          "end_time": "2021-03-07T13:50:14.699674",
          "exception": false,
          "start_time": "2021-03-07T13:50:14.545656",
          "status": "completed"
        },
        "tags": [],
        "id": "jY8s0DQQAJG0"
      },
      "outputs": [],
      "source": [
        "# Treating the missing values \n",
        "# LoanOnCard has 20 missing values so we drop them.\n",
        "df.dropna(axis=0,inplace=True)"
      ]
    },
    {
      "cell_type": "code",
      "execution_count": 13,
      "metadata": {
        "execution": {
          "iopub.execute_input": "2021-03-07T13:50:14.963589Z",
          "iopub.status.busy": "2021-03-07T13:50:14.962531Z",
          "iopub.status.idle": "2021-03-07T13:50:14.972796Z",
          "shell.execute_reply": "2021-03-07T13:50:14.972181Z"
        },
        "papermill": {
          "duration": 0.14754,
          "end_time": "2021-03-07T13:50:14.972949",
          "exception": false,
          "start_time": "2021-03-07T13:50:14.825409",
          "status": "completed"
        },
        "tags": [],
        "colab": {
          "base_uri": "https://localhost:8080/"
        },
        "id": "HubE1sUbAJG0",
        "outputId": "b621ff91-7ea8-4fce-f7e8-6797f34434ae"
      },
      "outputs": [
        {
          "output_type": "execute_result",
          "data": {
            "text/plain": [
              "ID                     0\n",
              "Age                    0\n",
              "CustomerSince          0\n",
              "HighestSpend           0\n",
              "ZipCode                0\n",
              "HiddenScore            0\n",
              "MonthlyAverageSpend    0\n",
              "Level                  0\n",
              "Mortgage               0\n",
              "Security               0\n",
              "FixedDepositAccount    0\n",
              "InternetBanking        0\n",
              "CreditCard             0\n",
              "LoanOnCard             0\n",
              "dtype: int64"
            ]
          },
          "metadata": {},
          "execution_count": 13
        }
      ],
      "source": [
        "# Checking null values again.\n",
        "df.isnull().sum()\n",
        "\n",
        "# All the missing records of LoanOnCard column are dropped."
      ]
    },
    {
      "cell_type": "code",
      "execution_count": 14,
      "metadata": {
        "execution": {
          "iopub.execute_input": "2021-03-07T13:50:15.717349Z",
          "iopub.status.busy": "2021-03-07T13:50:15.716339Z",
          "iopub.status.idle": "2021-03-07T13:50:15.724516Z",
          "shell.execute_reply": "2021-03-07T13:50:15.725091Z"
        },
        "papermill": {
          "duration": 0.143449,
          "end_time": "2021-03-07T13:50:15.725622",
          "exception": false,
          "start_time": "2021-03-07T13:50:15.582173",
          "status": "completed"
        },
        "tags": [],
        "id": "ZyYzVAzKAJG0"
      },
      "outputs": [],
      "source": [
        "df.drop('ID',axis=1,inplace=True)"
      ]
    },
    {
      "cell_type": "markdown",
      "metadata": {
        "papermill": {
          "duration": 0.118555,
          "end_time": "2021-03-07T13:50:15.962610",
          "exception": false,
          "start_time": "2021-03-07T13:50:15.844055",
          "status": "completed"
        },
        "tags": [],
        "id": "GeQzAvsxAJG1"
      },
      "source": [
        "# 3.Data Analysis & Visulaization"
      ]
    },
    {
      "cell_type": "code",
      "execution_count": 15,
      "metadata": {
        "execution": {
          "iopub.execute_input": "2021-03-07T13:50:16.458524Z",
          "iopub.status.busy": "2021-03-07T13:50:16.457849Z",
          "iopub.status.idle": "2021-03-07T13:50:16.488555Z",
          "shell.execute_reply": "2021-03-07T13:50:16.489036Z"
        },
        "papermill": {
          "duration": 0.161526,
          "end_time": "2021-03-07T13:50:16.489227",
          "exception": false,
          "start_time": "2021-03-07T13:50:16.327701",
          "status": "completed"
        },
        "tags": [],
        "colab": {
          "base_uri": "https://localhost:8080/",
          "height": 0
        },
        "id": "5G15IGXlAJG1",
        "outputId": "238fee2a-71c7-4faa-f0f8-8804d6d2a591"
      },
      "outputs": [
        {
          "output_type": "execute_result",
          "data": {
            "text/plain": [
              "               Age  CustomerSince  HighestSpend       ZipCode  \\\n",
              "count  4980.000000    4980.000000    4980.00000   4980.000000   \n",
              "mean     45.352610      20.117671      73.85241  93152.420482   \n",
              "std      11.464212      11.468716      46.07009   2123.660073   \n",
              "min      23.000000      -3.000000       8.00000   9307.000000   \n",
              "25%      35.000000      10.000000      39.00000  91911.000000   \n",
              "50%      45.000000      20.000000      64.00000  93407.000000   \n",
              "75%      55.000000      30.000000      98.00000  94608.000000   \n",
              "max      67.000000      43.000000     224.00000  96651.000000   \n",
              "\n",
              "       MonthlyAverageSpend     Mortgage  \n",
              "count          4980.000000  4980.000000  \n",
              "mean              1.939536    56.589759  \n",
              "std               1.750006   101.836758  \n",
              "min               0.000000     0.000000  \n",
              "25%               0.700000     0.000000  \n",
              "50%               1.500000     0.000000  \n",
              "75%               2.525000   101.000000  \n",
              "max              10.000000   635.000000  "
            ],
            "text/html": [
              "\n",
              "  <div id=\"df-9bb0e890-b993-4df8-9997-6c919b65263d\">\n",
              "    <div class=\"colab-df-container\">\n",
              "      <div>\n",
              "<style scoped>\n",
              "    .dataframe tbody tr th:only-of-type {\n",
              "        vertical-align: middle;\n",
              "    }\n",
              "\n",
              "    .dataframe tbody tr th {\n",
              "        vertical-align: top;\n",
              "    }\n",
              "\n",
              "    .dataframe thead th {\n",
              "        text-align: right;\n",
              "    }\n",
              "</style>\n",
              "<table border=\"1\" class=\"dataframe\">\n",
              "  <thead>\n",
              "    <tr style=\"text-align: right;\">\n",
              "      <th></th>\n",
              "      <th>Age</th>\n",
              "      <th>CustomerSince</th>\n",
              "      <th>HighestSpend</th>\n",
              "      <th>ZipCode</th>\n",
              "      <th>MonthlyAverageSpend</th>\n",
              "      <th>Mortgage</th>\n",
              "    </tr>\n",
              "  </thead>\n",
              "  <tbody>\n",
              "    <tr>\n",
              "      <th>count</th>\n",
              "      <td>4980.000000</td>\n",
              "      <td>4980.000000</td>\n",
              "      <td>4980.00000</td>\n",
              "      <td>4980.000000</td>\n",
              "      <td>4980.000000</td>\n",
              "      <td>4980.000000</td>\n",
              "    </tr>\n",
              "    <tr>\n",
              "      <th>mean</th>\n",
              "      <td>45.352610</td>\n",
              "      <td>20.117671</td>\n",
              "      <td>73.85241</td>\n",
              "      <td>93152.420482</td>\n",
              "      <td>1.939536</td>\n",
              "      <td>56.589759</td>\n",
              "    </tr>\n",
              "    <tr>\n",
              "      <th>std</th>\n",
              "      <td>11.464212</td>\n",
              "      <td>11.468716</td>\n",
              "      <td>46.07009</td>\n",
              "      <td>2123.660073</td>\n",
              "      <td>1.750006</td>\n",
              "      <td>101.836758</td>\n",
              "    </tr>\n",
              "    <tr>\n",
              "      <th>min</th>\n",
              "      <td>23.000000</td>\n",
              "      <td>-3.000000</td>\n",
              "      <td>8.00000</td>\n",
              "      <td>9307.000000</td>\n",
              "      <td>0.000000</td>\n",
              "      <td>0.000000</td>\n",
              "    </tr>\n",
              "    <tr>\n",
              "      <th>25%</th>\n",
              "      <td>35.000000</td>\n",
              "      <td>10.000000</td>\n",
              "      <td>39.00000</td>\n",
              "      <td>91911.000000</td>\n",
              "      <td>0.700000</td>\n",
              "      <td>0.000000</td>\n",
              "    </tr>\n",
              "    <tr>\n",
              "      <th>50%</th>\n",
              "      <td>45.000000</td>\n",
              "      <td>20.000000</td>\n",
              "      <td>64.00000</td>\n",
              "      <td>93407.000000</td>\n",
              "      <td>1.500000</td>\n",
              "      <td>0.000000</td>\n",
              "    </tr>\n",
              "    <tr>\n",
              "      <th>75%</th>\n",
              "      <td>55.000000</td>\n",
              "      <td>30.000000</td>\n",
              "      <td>98.00000</td>\n",
              "      <td>94608.000000</td>\n",
              "      <td>2.525000</td>\n",
              "      <td>101.000000</td>\n",
              "    </tr>\n",
              "    <tr>\n",
              "      <th>max</th>\n",
              "      <td>67.000000</td>\n",
              "      <td>43.000000</td>\n",
              "      <td>224.00000</td>\n",
              "      <td>96651.000000</td>\n",
              "      <td>10.000000</td>\n",
              "      <td>635.000000</td>\n",
              "    </tr>\n",
              "  </tbody>\n",
              "</table>\n",
              "</div>\n",
              "      <button class=\"colab-df-convert\" onclick=\"convertToInteractive('df-9bb0e890-b993-4df8-9997-6c919b65263d')\"\n",
              "              title=\"Convert this dataframe to an interactive table.\"\n",
              "              style=\"display:none;\">\n",
              "        \n",
              "  <svg xmlns=\"http://www.w3.org/2000/svg\" height=\"24px\"viewBox=\"0 0 24 24\"\n",
              "       width=\"24px\">\n",
              "    <path d=\"M0 0h24v24H0V0z\" fill=\"none\"/>\n",
              "    <path d=\"M18.56 5.44l.94 2.06.94-2.06 2.06-.94-2.06-.94-.94-2.06-.94 2.06-2.06.94zm-11 1L8.5 8.5l.94-2.06 2.06-.94-2.06-.94L8.5 2.5l-.94 2.06-2.06.94zm10 10l.94 2.06.94-2.06 2.06-.94-2.06-.94-.94-2.06-.94 2.06-2.06.94z\"/><path d=\"M17.41 7.96l-1.37-1.37c-.4-.4-.92-.59-1.43-.59-.52 0-1.04.2-1.43.59L10.3 9.45l-7.72 7.72c-.78.78-.78 2.05 0 2.83L4 21.41c.39.39.9.59 1.41.59.51 0 1.02-.2 1.41-.59l7.78-7.78 2.81-2.81c.8-.78.8-2.07 0-2.86zM5.41 20L4 18.59l7.72-7.72 1.47 1.35L5.41 20z\"/>\n",
              "  </svg>\n",
              "      </button>\n",
              "      \n",
              "  <style>\n",
              "    .colab-df-container {\n",
              "      display:flex;\n",
              "      flex-wrap:wrap;\n",
              "      gap: 12px;\n",
              "    }\n",
              "\n",
              "    .colab-df-convert {\n",
              "      background-color: #E8F0FE;\n",
              "      border: none;\n",
              "      border-radius: 50%;\n",
              "      cursor: pointer;\n",
              "      display: none;\n",
              "      fill: #1967D2;\n",
              "      height: 32px;\n",
              "      padding: 0 0 0 0;\n",
              "      width: 32px;\n",
              "    }\n",
              "\n",
              "    .colab-df-convert:hover {\n",
              "      background-color: #E2EBFA;\n",
              "      box-shadow: 0px 1px 2px rgba(60, 64, 67, 0.3), 0px 1px 3px 1px rgba(60, 64, 67, 0.15);\n",
              "      fill: #174EA6;\n",
              "    }\n",
              "\n",
              "    [theme=dark] .colab-df-convert {\n",
              "      background-color: #3B4455;\n",
              "      fill: #D2E3FC;\n",
              "    }\n",
              "\n",
              "    [theme=dark] .colab-df-convert:hover {\n",
              "      background-color: #434B5C;\n",
              "      box-shadow: 0px 1px 3px 1px rgba(0, 0, 0, 0.15);\n",
              "      filter: drop-shadow(0px 1px 2px rgba(0, 0, 0, 0.3));\n",
              "      fill: #FFFFFF;\n",
              "    }\n",
              "  </style>\n",
              "\n",
              "      <script>\n",
              "        const buttonEl =\n",
              "          document.querySelector('#df-9bb0e890-b993-4df8-9997-6c919b65263d button.colab-df-convert');\n",
              "        buttonEl.style.display =\n",
              "          google.colab.kernel.accessAllowed ? 'block' : 'none';\n",
              "\n",
              "        async function convertToInteractive(key) {\n",
              "          const element = document.querySelector('#df-9bb0e890-b993-4df8-9997-6c919b65263d');\n",
              "          const dataTable =\n",
              "            await google.colab.kernel.invokeFunction('convertToInteractive',\n",
              "                                                     [key], {});\n",
              "          if (!dataTable) return;\n",
              "\n",
              "          const docLinkHtml = 'Like what you see? Visit the ' +\n",
              "            '<a target=\"_blank\" href=https://colab.research.google.com/notebooks/data_table.ipynb>data table notebook</a>'\n",
              "            + ' to learn more about interactive tables.';\n",
              "          element.innerHTML = '';\n",
              "          dataTable['output_type'] = 'display_data';\n",
              "          await google.colab.output.renderOutput(dataTable, element);\n",
              "          const docLink = document.createElement('div');\n",
              "          docLink.innerHTML = docLinkHtml;\n",
              "          element.appendChild(docLink);\n",
              "        }\n",
              "      </script>\n",
              "    </div>\n",
              "  </div>\n",
              "  "
            ]
          },
          "metadata": {},
          "execution_count": 15
        }
      ],
      "source": [
        "# Data Description\n",
        "df.describe()"
      ]
    },
    {
      "cell_type": "code",
      "source": [
        "fig = sns.heatmap(data = df.corr())"
      ],
      "metadata": {
        "colab": {
          "base_uri": "https://localhost:8080/",
          "height": 0
        },
        "id": "I62u3kZqi2J5",
        "outputId": "3a8fbc6e-0330-464f-fd28-04a9477ec8a7"
      },
      "execution_count": 16,
      "outputs": [
        {
          "output_type": "display_data",
          "data": {
            "text/plain": [
              "<Figure size 432x288 with 2 Axes>"
            ],
            "image/png": "[encoded data removed]"
          },
          "metadata": {
            "needs_background": "light"
          }
        }
      ]
    },
    {
      "cell_type": "code",
      "source": [
        "# Mortgage column has outliers as the largest value and mean are differing by large values.\n",
        "# Mean is greater than Median in highestspend and monthly average spend.So Positive skewness will exist**"
      ],
      "metadata": {
        "id": "MFfMCDleG6l-"
      },
      "execution_count": 17,
      "outputs": []
    },
    {
      "cell_type": "markdown",
      "metadata": {
        "papermill": {
          "duration": 0.120748,
          "end_time": "2021-03-07T13:50:16.964730",
          "exception": false,
          "start_time": "2021-03-07T13:50:16.843982",
          "status": "completed"
        },
        "tags": [],
        "id": "scNjtV1VAJG1"
      },
      "source": [
        "# Univariate Analysis"
      ]
    },
    {
      "cell_type": "markdown",
      "metadata": {
        "papermill": {
          "duration": 0.116348,
          "end_time": "2021-03-07T13:50:17.430804",
          "exception": false,
          "start_time": "2021-03-07T13:50:17.314456",
          "status": "completed"
        },
        "tags": [],
        "id": "5YnsZzrVAJG1"
      },
      "source": [
        "**Age**"
      ]
    },
    {
      "cell_type": "code",
      "source": [
        "# Outlier Analysis for Age Column\n",
        "plt = sns.boxplot(x='Age', data=df)\n",
        "plt.set_title('Boxplot for Age column', fontsize= 14, fontweight='bold')\n",
        "plt"
      ],
      "metadata": {
        "colab": {
          "base_uri": "https://localhost:8080/",
          "height": 313
        },
        "id": "MZ3-FeKEKTxx",
        "outputId": "0f6c025a-d62a-4062-a4d0-c21dd303e971"
      },
      "execution_count": 18,
      "outputs": [
        {
          "output_type": "execute_result",
          "data": {
            "text/plain": [
              "<AxesSubplot:title={'center':'Boxplot for Age column'}, xlabel='Age'>"
            ]
          },
          "metadata": {},
          "execution_count": 18
        },
        {
          "output_type": "display_data",
          "data": {
            "text/plain": [
              "<Figure size 432x288 with 1 Axes>"
            ],
            "image/png": "[encoded data removed]"
          },
          "metadata": {
            "needs_background": "light"
          }
        }
      ]
    },
    {
      "cell_type": "code",
      "source": [
        "# Checking count of outliers.\n",
        "q25,q75=np.percentile(df['Age'],25),np.percentile(df['Age'],75)\n",
        "IQR=q75-q25\n",
        "Threshold=IQR*1.5\n",
        "lower,upper=q25-Threshold,q75+Threshold\n",
        "Outliers=[i for i in df['Age'] if i < lower or i > upper]\n",
        "print('Total Number of outliers in Age:',len(Outliers))"
      ],
      "metadata": {
        "colab": {
          "base_uri": "https://localhost:8080/"
        },
        "id": "jva7giHlK5uo",
        "outputId": "ccc54424-30e3-4851-d107-c208a10170da"
      },
      "execution_count": 19,
      "outputs": [
        {
          "output_type": "stream",
          "name": "stdout",
          "text": [
            "Total Number of outliers in Age: 0\n"
          ]
        }
      ]
    },
    {
      "cell_type": "code",
      "source": [
        "# Distribution of Age column\n",
        "plt = sns.distplot(df['Age'])\n",
        "plt.set_title('Distribution for Age column', fontsize= 14, fontweight='bold')\n",
        "plt"
      ],
      "metadata": {
        "colab": {
          "base_uri": "https://localhost:8080/",
          "height": 313
        },
        "id": "4tbkClTeKZuQ",
        "outputId": "e9f971a7-ece8-4c37-dee7-5945134ed7d8"
      },
      "execution_count": 20,
      "outputs": [
        {
          "output_type": "execute_result",
          "data": {
            "text/plain": [
              "<AxesSubplot:title={'center':'Distribution for Age column'}, xlabel='Age', ylabel='Density'>"
            ]
          },
          "metadata": {},
          "execution_count": 20
        },
        {
          "output_type": "display_data",
          "data": {
            "text/plain": [
              "<Figure size 432x288 with 1 Axes>"
            ],
            "image/png": "[encoded data removed]"
          },
          "metadata": {
            "needs_background": "light"
          }
        }
      ]
    },
    {
      "cell_type": "markdown",
      "metadata": {
        "papermill": {
          "duration": 0.120655,
          "end_time": "2021-03-07T13:50:18.459327",
          "exception": false,
          "start_time": "2021-03-07T13:50:18.338672",
          "status": "completed"
        },
        "tags": [],
        "id": "AUbQ6kejAJG2"
      },
      "source": [
        "**Conclusions:**\n",
        "*   No outliers in this column.\n",
        "*   There is normality maintained in age column.\n",
        "*   People with age between 35 to 65 are more."
      ]
    },
    {
      "cell_type": "markdown",
      "metadata": {
        "papermill": {
          "duration": 0.119195,
          "end_time": "2021-03-07T13:50:18.700094",
          "exception": false,
          "start_time": "2021-03-07T13:50:18.580899",
          "status": "completed"
        },
        "tags": [],
        "id": "BMKspMSyAJG2"
      },
      "source": [
        "**CustomerSince**"
      ]
    },
    {
      "cell_type": "code",
      "source": [
        "# Outlier Analysis for CustomerSince Column\n",
        "plt = sns.boxplot(x='CustomerSince', data=df)\n",
        "plt.set_title('Boxplot for CustomerSince column', fontsize= 14, fontweight='bold')\n",
        "plt"
      ],
      "metadata": {
        "colab": {
          "base_uri": "https://localhost:8080/",
          "height": 313
        },
        "id": "TbxzKrwULPcH",
        "outputId": "66d2013b-cf75-4498-8f9d-11c6eb0350e5"
      },
      "execution_count": 21,
      "outputs": [
        {
          "output_type": "execute_result",
          "data": {
            "text/plain": [
              "<AxesSubplot:title={'center':'Boxplot for CustomerSince column'}, xlabel='CustomerSince'>"
            ]
          },
          "metadata": {},
          "execution_count": 21
        },
        {
          "output_type": "display_data",
          "data": {
            "text/plain": [
              "<Figure size 432x288 with 1 Axes>"
            ],
            "image/png": "[encoded data removed]"
          },
          "metadata": {
            "needs_background": "light"
          }
        }
      ]
    },
    {
      "cell_type": "code",
      "source": [
        "# checking count of outliers.\n",
        "q25,q75=np.percentile(df['CustomerSince'],25),np.percentile(df['CustomerSince'],75)\n",
        "IQR=q75-q25\n",
        "Threshold=IQR*1.5\n",
        "lower,upper=q25-Threshold,q75+Threshold\n",
        "Outliers=[i for i in df['CustomerSince'] if i < lower or i > upper]\n",
        "print('Total Number of outliers in CustomerSince:',len(Outliers))"
      ],
      "metadata": {
        "colab": {
          "base_uri": "https://localhost:8080/"
        },
        "id": "-QdybhetLVUe",
        "outputId": "dd417a07-7460-436e-fe42-4b8558f0f3e5"
      },
      "execution_count": 22,
      "outputs": [
        {
          "output_type": "stream",
          "name": "stdout",
          "text": [
            "Total Number of outliers in CustomerSince: 0\n"
          ]
        }
      ]
    },
    {
      "cell_type": "code",
      "source": [
        "# Distribution of CustomerSince column\n",
        "plt = sns.distplot(df['CustomerSince'])\n",
        "plt.set_title('Distribution for CustomerSince column', fontsize= 14, fontweight='bold')\n",
        "plt"
      ],
      "metadata": {
        "colab": {
          "base_uri": "https://localhost:8080/",
          "height": 313
        },
        "id": "1wbON0hCLfdV",
        "outputId": "8d7461de-a2ee-4328-9fa0-17e2c30720be"
      },
      "execution_count": 23,
      "outputs": [
        {
          "output_type": "execute_result",
          "data": {
            "text/plain": [
              "<AxesSubplot:title={'center':'Distribution for CustomerSince column'}, xlabel='CustomerSince', ylabel='Density'>"
            ]
          },
          "metadata": {},
          "execution_count": 23
        },
        {
          "output_type": "display_data",
          "data": {
            "text/plain": [
              "<Figure size 432x288 with 1 Axes>"
            ],
            "image/png": "[encoded data removed]"
          },
          "metadata": {
            "needs_background": "light"
          }
        }
      ]
    },
    {
      "cell_type": "markdown",
      "metadata": {
        "papermill": {
          "duration": 0.131375,
          "end_time": "2021-03-07T13:50:19.711061",
          "exception": false,
          "start_time": "2021-03-07T13:50:19.579686",
          "status": "completed"
        },
        "tags": [],
        "id": "Ra_KGwTcAJG2"
      },
      "source": [
        "\n",
        "**Conclusions:**\n",
        "\n",
        "*   No outliers\n",
        "*   There are more customers since 10 to 30."
      ]
    },
    {
      "cell_type": "markdown",
      "metadata": {
        "papermill": {
          "duration": 0.124364,
          "end_time": "2021-03-07T13:50:19.959249",
          "exception": false,
          "start_time": "2021-03-07T13:50:19.834885",
          "status": "completed"
        },
        "tags": [],
        "id": "7clrlg14AJG3"
      },
      "source": [
        "**HighestSpend**"
      ]
    },
    {
      "cell_type": "code",
      "source": [
        "# Outlier Analysis for HighestSpend Column\n",
        "plt = sns.boxplot(x='HighestSpend', data=df)\n",
        "plt.set_title('Boxplot for HighestSpend column', fontsize= 14, fontweight='bold')\n",
        "plt"
      ],
      "metadata": {
        "colab": {
          "base_uri": "https://localhost:8080/",
          "height": 313
        },
        "id": "DXPQo-zaLx6n",
        "outputId": "3e84d2c2-0be9-4039-99c8-6897fcb0d541"
      },
      "execution_count": 24,
      "outputs": [
        {
          "output_type": "execute_result",
          "data": {
            "text/plain": [
              "<AxesSubplot:title={'center':'Boxplot for HighestSpend column'}, xlabel='HighestSpend'>"
            ]
          },
          "metadata": {},
          "execution_count": 24
        },
        {
          "output_type": "display_data",
          "data": {
            "text/plain": [
              "<Figure size 432x288 with 1 Axes>"
            ],
            "image/png": "[encoded data removed]"
          },
          "metadata": {
            "needs_background": "light"
          }
        }
      ]
    },
    {
      "cell_type": "code",
      "source": [
        "# Distribution of HighestSpend column\n",
        "plt = sns.distplot(df['HighestSpend'])\n",
        "plt.set_title('Distribution for HighestSpend column', fontsize= 14, fontweight='bold')\n",
        "plt"
      ],
      "metadata": {
        "colab": {
          "base_uri": "https://localhost:8080/",
          "height": 313
        },
        "id": "5Uh1KmIpL2Vc",
        "outputId": "caaf9bb9-fdab-4b67-d3bf-ee405bae6acc"
      },
      "execution_count": 25,
      "outputs": [
        {
          "output_type": "execute_result",
          "data": {
            "text/plain": [
              "<AxesSubplot:title={'center':'Distribution for HighestSpend column'}, xlabel='HighestSpend', ylabel='Density'>"
            ]
          },
          "metadata": {},
          "execution_count": 25
        },
        {
          "output_type": "display_data",
          "data": {
            "text/plain": [
              "<Figure size 432x288 with 1 Axes>"
            ],
            "image/png": "[encoded data removed]"
          },
          "metadata": {
            "needs_background": "light"
          }
        }
      ]
    },
    {
      "cell_type": "markdown",
      "metadata": {
        "papermill": {
          "duration": 0.128116,
          "end_time": "2021-03-07T13:50:20.955151",
          "exception": false,
          "start_time": "2021-03-07T13:50:20.827035",
          "status": "completed"
        },
        "tags": [],
        "id": "FSfkN6i7AJG3"
      },
      "source": [
        "**Conclusion**\n",
        "\n",
        "\n",
        "*  96 Outliers, some spendings are more than 200.\n",
        "*  Positively skewed.\n",
        "*  In one transaction highest spend amount is between 45 to 100\n",
        "\n",
        "\n",
        "\n",
        "\n"
      ]
    },
    {
      "cell_type": "markdown",
      "metadata": {
        "papermill": {
          "duration": 0.126502,
          "end_time": "2021-03-07T13:50:21.211933",
          "exception": false,
          "start_time": "2021-03-07T13:50:21.085431",
          "status": "completed"
        },
        "tags": [],
        "id": "JekpCw2vAJG3"
      },
      "source": [
        "**MonthlyAverageSpend**"
      ]
    },
    {
      "cell_type": "code",
      "source": [
        "# Outlier Analysis for MonthlyAverageSpend Column\n",
        "plt = sns.boxplot(x='MonthlyAverageSpend', data=df)\n",
        "plt.set_title('Boxplot for MonthlyAverageSpend column', fontsize= 14, fontweight='bold')\n",
        "plt"
      ],
      "metadata": {
        "colab": {
          "base_uri": "https://localhost:8080/",
          "height": 313
        },
        "id": "-k-FEgGxNYYR",
        "outputId": "9496ac4c-1001-443f-fea9-a3f22627594f"
      },
      "execution_count": 26,
      "outputs": [
        {
          "output_type": "execute_result",
          "data": {
            "text/plain": [
              "<AxesSubplot:title={'center':'Boxplot for MonthlyAverageSpend column'}, xlabel='MonthlyAverageSpend'>"
            ]
          },
          "metadata": {},
          "execution_count": 26
        },
        {
          "output_type": "display_data",
          "data": {
            "text/plain": [
              "<Figure size 432x288 with 1 Axes>"
            ],
            "image/png": "[encoded data removed]"
          },
          "metadata": {
            "needs_background": "light"
          }
        }
      ]
    },
    {
      "cell_type": "code",
      "source": [
        "# checking count of outliers.\n",
        "q25,q75=np.percentile(df['MonthlyAverageSpend'],25),np.percentile(df['MonthlyAverageSpend'],75)\n",
        "IQR=q75-q25\n",
        "Threshold=IQR*1.5\n",
        "lower,upper=q25-Threshold,q75+Threshold\n",
        "Outliers=[i for i in df['MonthlyAverageSpend'] if i < lower or i > upper]\n",
        "print('Total Number of outliers in MonthlyAverageSpend:',len(Outliers))"
      ],
      "metadata": {
        "colab": {
          "base_uri": "https://localhost:8080/"
        },
        "id": "6IhBOEVENnva",
        "outputId": "c3bd1eda-e036-430b-f96d-386cc6b28e61"
      },
      "execution_count": 27,
      "outputs": [
        {
          "output_type": "stream",
          "name": "stdout",
          "text": [
            "Total Number of outliers in MonthlyAverageSpend: 324\n"
          ]
        }
      ]
    },
    {
      "cell_type": "code",
      "source": [
        "# Distribution of MonthlyAverageSpend column\n",
        "plt = sns.distplot(df['MonthlyAverageSpend'])\n",
        "plt.set_title('Distribution for MonthlyAverageSpend column', fontsize= 14, fontweight='bold')\n",
        "plt"
      ],
      "metadata": {
        "colab": {
          "base_uri": "https://localhost:8080/",
          "height": 313
        },
        "id": "UU4kuXc6NeBa",
        "outputId": "508df19d-bf02-4e9b-e2db-145e9bb1b5c6"
      },
      "execution_count": 28,
      "outputs": [
        {
          "output_type": "execute_result",
          "data": {
            "text/plain": [
              "<AxesSubplot:title={'center':'Distribution for MonthlyAverageSpend column'}, xlabel='MonthlyAverageSpend', ylabel='Density'>"
            ]
          },
          "metadata": {},
          "execution_count": 28
        },
        {
          "output_type": "display_data",
          "data": {
            "text/plain": [
              "<Figure size 432x288 with 1 Axes>"
            ],
            "image/png": "[encoded data removed]"
          },
          "metadata": {
            "needs_background": "light"
          }
        }
      ]
    },
    {
      "cell_type": "markdown",
      "metadata": {
        "papermill": {
          "duration": 0.12651,
          "end_time": "2021-03-07T13:50:22.242142",
          "exception": false,
          "start_time": "2021-03-07T13:50:22.115632",
          "status": "completed"
        },
        "tags": [],
        "id": "w0V6fjoIAJG3"
      },
      "source": [
        "\n",
        "**Conclusions:**\n",
        "\n",
        "\n",
        "*   Positively skewed.\n",
        "*   324 outliers, so customers spent huge amount.\n",
        "*   Monthly average spend of the customer are mostly between 1 to 3\n",
        "\n",
        "\n"
      ]
    },
    {
      "cell_type": "markdown",
      "metadata": {
        "papermill": {
          "duration": 0.122963,
          "end_time": "2021-03-07T13:50:22.488012",
          "exception": false,
          "start_time": "2021-03-07T13:50:22.365049",
          "status": "completed"
        },
        "tags": [],
        "id": "AsvW_Nb_AJG4"
      },
      "source": [
        "**ZipCode**"
      ]
    },
    {
      "cell_type": "code",
      "source": [
        "# Outlier Analysis for ZipCode Column\n",
        "plt = sns.boxplot(x='ZipCode', data=df)\n",
        "plt.set_title('Boxplot for ZipCode column', fontsize= 14, fontweight='bold')\n",
        "plt"
      ],
      "metadata": {
        "colab": {
          "base_uri": "https://localhost:8080/",
          "height": 313
        },
        "id": "cNz8owQfOjKJ",
        "outputId": "d28ab5d0-e3ca-4721-a968-e8206d484031"
      },
      "execution_count": 29,
      "outputs": [
        {
          "output_type": "execute_result",
          "data": {
            "text/plain": [
              "<AxesSubplot:title={'center':'Boxplot for ZipCode column'}, xlabel='ZipCode'>"
            ]
          },
          "metadata": {},
          "execution_count": 29
        },
        {
          "output_type": "display_data",
          "data": {
            "text/plain": [
              "<Figure size 432x288 with 1 Axes>"
            ],
            "image/png": "[encoded data removed]"
          },
          "metadata": {
            "needs_background": "light"
          }
        }
      ]
    },
    {
      "cell_type": "code",
      "source": [
        "# checking count of outliers.\n",
        "q25,q75=np.percentile(df['ZipCode'],25),np.percentile(df['ZipCode'],75)\n",
        "IQR=q75-q25\n",
        "Threshold=IQR*1.5\n",
        "lower,upper=q25-Threshold,q75+Threshold\n",
        "Outliers=[i for i in df['ZipCode'] if i < lower or i > upper]\n",
        "print('Total Number of outliers in ZipCode:',len(Outliers))"
      ],
      "metadata": {
        "colab": {
          "base_uri": "https://localhost:8080/"
        },
        "id": "45L0HTZkOj5g",
        "outputId": "858d34d0-244d-4157-d655-007d24d4ff2f"
      },
      "execution_count": 30,
      "outputs": [
        {
          "output_type": "stream",
          "name": "stdout",
          "text": [
            "Total Number of outliers in ZipCode: 1\n"
          ]
        }
      ]
    },
    {
      "cell_type": "code",
      "source": [
        "# Distribution of ZipCode column\n",
        "plt = sns.distplot(df['ZipCode'])\n",
        "plt.set_title('Distribution for ZipCode column', fontsize= 14, fontweight='bold')\n",
        "plt"
      ],
      "metadata": {
        "colab": {
          "base_uri": "https://localhost:8080/",
          "height": 313
        },
        "id": "l0ajQuu9OnBF",
        "outputId": "a641973f-9380-4495-d371-035a46f2e3fb"
      },
      "execution_count": 31,
      "outputs": [
        {
          "output_type": "execute_result",
          "data": {
            "text/plain": [
              "<AxesSubplot:title={'center':'Distribution for ZipCode column'}, xlabel='ZipCode', ylabel='Density'>"
            ]
          },
          "metadata": {},
          "execution_count": 31
        },
        {
          "output_type": "display_data",
          "data": {
            "text/plain": [
              "<Figure size 432x288 with 1 Axes>"
            ],
            "image/png": "[encoded data removed]"
          },
          "metadata": {
            "needs_background": "light"
          }
        }
      ]
    },
    {
      "cell_type": "markdown",
      "metadata": {
        "papermill": {
          "duration": 0.125336,
          "end_time": "2021-03-07T13:50:23.625915",
          "exception": false,
          "start_time": "2021-03-07T13:50:23.500579",
          "status": "completed"
        },
        "tags": [],
        "id": "4sO-ydBZAJG4"
      },
      "source": [
        "\n",
        "\n",
        "**Conclusions**\n",
        "*   No proper distribution\n",
        "\n"
      ]
    },
    {
      "cell_type": "markdown",
      "metadata": {
        "papermill": {
          "duration": 0.126175,
          "end_time": "2021-03-07T13:50:23.876694",
          "exception": false,
          "start_time": "2021-03-07T13:50:23.750519",
          "status": "completed"
        },
        "tags": [],
        "id": "CbiwfU6wAJG4"
      },
      "source": [
        "**Mortgage** "
      ]
    },
    {
      "cell_type": "code",
      "source": [
        "# Outlier Analysis for Mortgage Column\n",
        "plt = sns.boxplot(x='Mortgage', data=df)\n",
        "plt.set_title('Boxplot for Mortgage column', fontsize= 14, fontweight='bold')\n",
        "plt"
      ],
      "metadata": {
        "colab": {
          "base_uri": "https://localhost:8080/",
          "height": 313
        },
        "id": "LF0WWUyXPF_9",
        "outputId": "877ced2d-0b60-4379-ef2e-5563dfa667e6"
      },
      "execution_count": 32,
      "outputs": [
        {
          "output_type": "execute_result",
          "data": {
            "text/plain": [
              "<AxesSubplot:title={'center':'Boxplot for Mortgage column'}, xlabel='Mortgage'>"
            ]
          },
          "metadata": {},
          "execution_count": 32
        },
        {
          "output_type": "display_data",
          "data": {
            "text/plain": [
              "<Figure size 432x288 with 1 Axes>"
            ],
            "image/png": "[encoded data removed]"
          },
          "metadata": {
            "needs_background": "light"
          }
        }
      ]
    },
    {
      "cell_type": "code",
      "source": [
        "# checking count of outliers.\n",
        "q25,q75=np.percentile(df['Mortgage'],25),np.percentile(df['Mortgage'],75)\n",
        "IQR=q75-q25\n",
        "Threshold=IQR*1.5\n",
        "lower,upper=q25-Threshold,q75+Threshold\n",
        "Outliers=[i for i in df['Mortgage'] if i < lower or i > upper]\n",
        "print('Total Number of outliers in Mortgage:',len(Outliers))"
      ],
      "metadata": {
        "colab": {
          "base_uri": "https://localhost:8080/"
        },
        "id": "F3PRsw0XPKLD",
        "outputId": "91c7e7f4-e81b-4d36-b1dd-651f2778b7ee"
      },
      "execution_count": 33,
      "outputs": [
        {
          "output_type": "stream",
          "name": "stdout",
          "text": [
            "Total Number of outliers in Mortgage: 291\n"
          ]
        }
      ]
    },
    {
      "cell_type": "code",
      "source": [
        "# Distribution of Mortgage column\n",
        "plt = sns.distplot(df['Mortgage'])\n",
        "plt.set_title('Distribution for Mortgage column', fontsize= 14, fontweight='bold')\n",
        "plt"
      ],
      "metadata": {
        "colab": {
          "base_uri": "https://localhost:8080/",
          "height": 313
        },
        "id": "ZSp6xcfjPKl_",
        "outputId": "a6a0c8c9-b85e-4d9b-ecde-216988f3283b"
      },
      "execution_count": 34,
      "outputs": [
        {
          "output_type": "execute_result",
          "data": {
            "text/plain": [
              "<AxesSubplot:title={'center':'Distribution for Mortgage column'}, xlabel='Mortgage', ylabel='Density'>"
            ]
          },
          "metadata": {},
          "execution_count": 34
        },
        {
          "output_type": "display_data",
          "data": {
            "text/plain": [
              "<Figure size 432x288 with 1 Axes>"
            ],
            "image/png": "[encoded data removed]"
          },
          "metadata": {
            "needs_background": "light"
          }
        }
      ]
    },
    {
      "cell_type": "markdown",
      "metadata": {
        "papermill": {
          "duration": 0.132974,
          "end_time": "2021-03-07T13:50:24.958393",
          "exception": false,
          "start_time": "2021-03-07T13:50:24.825419",
          "status": "completed"
        },
        "tags": [],
        "id": "_VfRUMbjAJG5"
      },
      "source": [
        "> **Conclusions:** \n",
        "\n",
        "*   No proper distribution."
      ]
    },
    {
      "cell_type": "markdown",
      "metadata": {
        "papermill": {
          "duration": 0.128149,
          "end_time": "2021-03-07T13:50:25.215122",
          "exception": false,
          "start_time": "2021-03-07T13:50:25.086973",
          "status": "completed"
        },
        "tags": [],
        "id": "WIrURXKYAJG5"
      },
      "source": [
        "**Distribution of categorical variables**"
      ]
    },
    {
      "cell_type": "code",
      "source": [
        "def autopct_format(values):\n",
        "        def my_format(pct):\n",
        "            total = sum(values)\n",
        "            val = int(round(pct*total/100.0))\n",
        "            return '{:.1f}%\\n({v:d})'.format(pct, v=val)\n",
        "        return my_format"
      ],
      "metadata": {
        "id": "okNgizq_Q0ZG"
      },
      "execution_count": 35,
      "outputs": []
    },
    {
      "cell_type": "markdown",
      "metadata": {
        "papermill": {
          "duration": 0.12687,
          "end_time": "2021-03-07T13:50:25.471877",
          "exception": false,
          "start_time": "2021-03-07T13:50:25.345007",
          "status": "completed"
        },
        "tags": [],
        "id": "RUQTiN7pAJG5"
      },
      "source": [
        "**HiddenScore**"
      ]
    },
    {
      "cell_type": "code",
      "source": [
        "# Distribution of Hidden Score Column\n",
        "import matplotlib.pyplot as plt\n",
        "s = df['HiddenScore'].value_counts()\n",
        "fig = plt.pie(s,labels = s.index, autopct=autopct_format(s))"
      ],
      "metadata": {
        "colab": {
          "base_uri": "https://localhost:8080/",
          "height": 248
        },
        "id": "0LMeUJAqQ4rN",
        "outputId": "d105283a-85f1-4978-b2a4-ec2c6682946f"
      },
      "execution_count": 36,
      "outputs": [
        {
          "output_type": "display_data",
          "data": {
            "text/plain": [
              "<Figure size 432x288 with 1 Axes>"
            ],
            "image/png": "[encoded data removed]"
          },
          "metadata": {}
        }
      ]
    },
    {
      "cell_type": "markdown",
      "metadata": {
        "papermill": {
          "duration": 0.133538,
          "end_time": "2021-03-07T13:50:26.366821",
          "exception": false,
          "start_time": "2021-03-07T13:50:26.233283",
          "status": "completed"
        },
        "tags": [],
        "id": "ApNX6se5AJG6"
      },
      "source": [
        "**Conclusions:**\n",
        "*   Equally distributed\n",
        "\n",
        "\n",
        "\n",
        "\n"
      ]
    },
    {
      "cell_type": "markdown",
      "metadata": {
        "papermill": {
          "duration": 0.128878,
          "end_time": "2021-03-07T13:50:26.627672",
          "exception": false,
          "start_time": "2021-03-07T13:50:26.498794",
          "status": "completed"
        },
        "tags": [],
        "id": "-JwUMuEHAJG6"
      },
      "source": [
        "**Level**"
      ]
    },
    {
      "cell_type": "code",
      "execution_count": 37,
      "metadata": {
        "execution": {
          "iopub.execute_input": "2021-03-07T13:50:26.904902Z",
          "iopub.status.busy": "2021-03-07T13:50:26.896475Z",
          "iopub.status.idle": "2021-03-07T13:50:27.206547Z",
          "shell.execute_reply": "2021-03-07T13:50:27.205810Z"
        },
        "papermill": {
          "duration": 0.452132,
          "end_time": "2021-03-07T13:50:27.206699",
          "exception": false,
          "start_time": "2021-03-07T13:50:26.754567",
          "status": "completed"
        },
        "tags": [],
        "colab": {
          "base_uri": "https://localhost:8080/",
          "height": 248
        },
        "id": "-PsYNioRAJG6",
        "outputId": "1b5da680-097f-4cc1-d1e5-a123cdd0c720"
      },
      "outputs": [
        {
          "output_type": "display_data",
          "data": {
            "text/plain": [
              "<Figure size 432x288 with 1 Axes>"
            ],
            "image/png": "[encoded data removed]"
          },
          "metadata": {}
        }
      ],
      "source": [
        "# Distribution of Level Column\n",
        "s = df['Level'].value_counts()\n",
        "fig = plt.pie(s,labels = s.index, autopct=autopct_format(s))"
      ]
    },
    {
      "cell_type": "markdown",
      "metadata": {
        "papermill": {
          "duration": 0.134491,
          "end_time": "2021-03-07T13:50:27.477885",
          "exception": false,
          "start_time": "2021-03-07T13:50:27.343394",
          "status": "completed"
        },
        "tags": [],
        "id": "bmZoKM5ZAJG6"
      },
      "source": [
        "> **Conclusions:**\n",
        "\n",
        "*   Distributions of level 1 is more and 2 and 3 are equal.\n",
        "\n"
      ]
    },
    {
      "cell_type": "markdown",
      "metadata": {
        "papermill": {
          "duration": 0.128954,
          "end_time": "2021-03-07T13:50:27.737744",
          "exception": false,
          "start_time": "2021-03-07T13:50:27.608790",
          "status": "completed"
        },
        "tags": [],
        "id": "3PU4TzIfAJG6"
      },
      "source": [
        "**FixedDepositAccount**"
      ]
    },
    {
      "cell_type": "code",
      "execution_count": 38,
      "metadata": {
        "execution": {
          "iopub.execute_input": "2021-03-07T13:50:28.025427Z",
          "iopub.status.busy": "2021-03-07T13:50:28.020376Z",
          "iopub.status.idle": "2021-03-07T13:50:28.291763Z",
          "shell.execute_reply": "2021-03-07T13:50:28.290978Z"
        },
        "papermill": {
          "duration": 0.425494,
          "end_time": "2021-03-07T13:50:28.291917",
          "exception": false,
          "start_time": "2021-03-07T13:50:27.866423",
          "status": "completed"
        },
        "tags": [],
        "colab": {
          "base_uri": "https://localhost:8080/",
          "height": 248
        },
        "id": "Mx-Xg4N_AJG7",
        "outputId": "7af4ba9c-e37a-4aee-f68b-57ab39de7926"
      },
      "outputs": [
        {
          "output_type": "display_data",
          "data": {
            "text/plain": [
              "<Figure size 432x288 with 1 Axes>"
            ],
            "image/png": "[encoded data removed]"
          },
          "metadata": {}
        }
      ],
      "source": [
        "# Distribution of FixedDepositAccount Column\n",
        "s = df['FixedDepositAccount'].value_counts()\n",
        "fig = plt.pie(s,labels = s.index, autopct=autopct_format(s))"
      ]
    },
    {
      "cell_type": "markdown",
      "metadata": {
        "papermill": {
          "duration": 0.133011,
          "end_time": "2021-03-07T13:50:28.557498",
          "exception": false,
          "start_time": "2021-03-07T13:50:28.424487",
          "status": "completed"
        },
        "tags": [],
        "id": "8p_FLXx-AJG7"
      },
      "source": [
        "> **Conclusions:**\n",
        "\n",
        "*   93.9% of customers does not have fixed deposit account."
      ]
    },
    {
      "cell_type": "markdown",
      "metadata": {
        "papermill": {
          "duration": 0.133261,
          "end_time": "2021-03-07T13:50:28.827752",
          "exception": false,
          "start_time": "2021-03-07T13:50:28.694491",
          "status": "completed"
        },
        "tags": [],
        "id": "YXiBtA8zAJG7"
      },
      "source": [
        "**InternetBanking**"
      ]
    },
    {
      "cell_type": "code",
      "execution_count": 39,
      "metadata": {
        "execution": {
          "iopub.execute_input": "2021-03-07T13:50:29.120328Z",
          "iopub.status.busy": "2021-03-07T13:50:29.119272Z",
          "iopub.status.idle": "2021-03-07T13:50:29.396862Z",
          "shell.execute_reply": "2021-03-07T13:50:29.396299Z"
        },
        "papermill": {
          "duration": 0.435047,
          "end_time": "2021-03-07T13:50:29.397018",
          "exception": false,
          "start_time": "2021-03-07T13:50:28.961971",
          "status": "completed"
        },
        "tags": [],
        "colab": {
          "base_uri": "https://localhost:8080/",
          "height": 248
        },
        "id": "i0dI-0qgAJG7",
        "outputId": "d5f72e3a-cac5-428f-c240-a3733c635e95"
      },
      "outputs": [
        {
          "output_type": "display_data",
          "data": {
            "text/plain": [
              "<Figure size 432x288 with 1 Axes>"
            ],
            "image/png": "[encoded data removed]"
          },
          "metadata": {}
        }
      ],
      "source": [
        "# Distribution of InternetBanking Column\n",
        "s = df['InternetBanking'].value_counts()\n",
        "fig = plt.pie(s,labels = s.index, autopct=autopct_format(s))"
      ]
    },
    {
      "cell_type": "markdown",
      "metadata": {
        "papermill": {
          "duration": 0.135302,
          "end_time": "2021-03-07T13:50:29.671625",
          "exception": false,
          "start_time": "2021-03-07T13:50:29.536323",
          "status": "completed"
        },
        "tags": [],
        "id": "FAq73fsuAJG7"
      },
      "source": [
        "> **Conclusions:**\n",
        "\n",
        "*   60 % of people uses internet banking\n",
        "\n",
        "\n"
      ]
    },
    {
      "cell_type": "markdown",
      "metadata": {
        "papermill": {
          "duration": 0.152257,
          "end_time": "2021-03-07T13:50:29.978118",
          "exception": false,
          "start_time": "2021-03-07T13:50:29.825861",
          "status": "completed"
        },
        "tags": [],
        "id": "kk5ThjtjAJG7"
      },
      "source": [
        "**CreditCard**"
      ]
    },
    {
      "cell_type": "code",
      "execution_count": 40,
      "metadata": {
        "execution": {
          "iopub.execute_input": "2021-03-07T13:50:30.331546Z",
          "iopub.status.busy": "2021-03-07T13:50:30.329532Z",
          "iopub.status.idle": "2021-03-07T13:50:30.602264Z",
          "shell.execute_reply": "2021-03-07T13:50:30.601315Z"
        },
        "papermill": {
          "duration": 0.430342,
          "end_time": "2021-03-07T13:50:30.602436",
          "exception": false,
          "start_time": "2021-03-07T13:50:30.172094",
          "status": "completed"
        },
        "tags": [],
        "colab": {
          "base_uri": "https://localhost:8080/",
          "height": 248
        },
        "id": "-5HTfkJCAJG7",
        "outputId": "50820ae5-7920-4c76-dba6-76d79121f67c"
      },
      "outputs": [
        {
          "output_type": "display_data",
          "data": {
            "text/plain": [
              "<Figure size 432x288 with 1 Axes>"
            ],
            "image/png": "[encoded data removed]"
          },
          "metadata": {}
        }
      ],
      "source": [
        "# Distribution of CreditCard Column\n",
        "s = df['CreditCard'].value_counts()\n",
        "fig = plt.pie(s,labels = s.index, autopct=autopct_format(s))"
      ]
    },
    {
      "cell_type": "markdown",
      "metadata": {
        "papermill": {
          "duration": 0.134715,
          "end_time": "2021-03-07T13:50:30.871087",
          "exception": false,
          "start_time": "2021-03-07T13:50:30.736372",
          "status": "completed"
        },
        "tags": [],
        "id": "71mxW7fxAJG7"
      },
      "source": [
        "> **Conclusions:**\n",
        "\n",
        "*   70 % of people uses bank's credit card\n",
        "\n",
        "\n",
        "\n"
      ]
    },
    {
      "cell_type": "markdown",
      "metadata": {
        "papermill": {
          "duration": 0.142429,
          "end_time": "2021-03-07T13:50:31.150791",
          "exception": false,
          "start_time": "2021-03-07T13:50:31.008362",
          "status": "completed"
        },
        "tags": [],
        "id": "XSPqJVzuAJG8"
      },
      "source": [
        "**LoanOnCard**"
      ]
    },
    {
      "cell_type": "code",
      "execution_count": 41,
      "metadata": {
        "execution": {
          "iopub.execute_input": "2021-03-07T13:50:31.443989Z",
          "iopub.status.busy": "2021-03-07T13:50:31.442402Z",
          "iopub.status.idle": "2021-03-07T13:50:31.723521Z",
          "shell.execute_reply": "2021-03-07T13:50:31.723971Z"
        },
        "papermill": {
          "duration": 0.437361,
          "end_time": "2021-03-07T13:50:31.724179",
          "exception": false,
          "start_time": "2021-03-07T13:50:31.286818",
          "status": "completed"
        },
        "tags": [],
        "colab": {
          "base_uri": "https://localhost:8080/",
          "height": 248
        },
        "id": "TzAi-9t2AJG8",
        "outputId": "d3724f83-61b6-4652-e7c8-681818a1f45a"
      },
      "outputs": [
        {
          "output_type": "display_data",
          "data": {
            "text/plain": [
              "<Figure size 432x288 with 1 Axes>"
            ],
            "image/png": "[encoded data removed]"
          },
          "metadata": {}
        }
      ],
      "source": [
        "# Distribution of LoanOnCard Column\n",
        "s = df['LoanOnCard'].value_counts()\n",
        "fig = plt.pie(s,labels = s.index, autopct=autopct_format(s))"
      ]
    },
    {
      "cell_type": "markdown",
      "metadata": {
        "papermill": {
          "duration": 0.151168,
          "end_time": "2021-03-07T13:50:32.022312",
          "exception": false,
          "start_time": "2021-03-07T13:50:31.871144",
          "status": "completed"
        },
        "tags": [],
        "id": "jkBNNl-sAJG8"
      },
      "source": [
        "> **Conlusions:**\n",
        "\n",
        "*   90% of people do not have loan on credit card\n",
        "\n",
        "\n"
      ]
    },
    {
      "cell_type": "markdown",
      "metadata": {
        "papermill": {
          "duration": 0.148597,
          "end_time": "2021-03-07T13:50:32.321261",
          "exception": false,
          "start_time": "2021-03-07T13:50:32.172664",
          "status": "completed"
        },
        "tags": [],
        "id": "rTUGwI6XAJG8"
      },
      "source": [
        " # **Bi Variate Analysis**"
      ]
    },
    {
      "cell_type": "markdown",
      "metadata": {
        "papermill": {
          "duration": 0.154537,
          "end_time": "2021-03-07T13:50:32.622080",
          "exception": false,
          "start_time": "2021-03-07T13:50:32.467543",
          "status": "completed"
        },
        "tags": [],
        "id": "E9jSCJguAJG8"
      },
      "source": [
        "**Numerical vs Category**"
      ]
    },
    {
      "cell_type": "markdown",
      "metadata": {
        "papermill": {
          "duration": 0.138398,
          "end_time": "2021-03-07T13:50:32.901031",
          "exception": false,
          "start_time": "2021-03-07T13:50:32.762633",
          "status": "completed"
        },
        "tags": [],
        "id": "SIhVVTO8AJG8"
      },
      "source": [
        "**LoanOnCard vs CustomerSince**"
      ]
    },
    {
      "cell_type": "code",
      "execution_count": 42,
      "metadata": {
        "execution": {
          "iopub.execute_input": "2021-03-07T13:50:33.188241Z",
          "iopub.status.busy": "2021-03-07T13:50:33.187233Z",
          "iopub.status.idle": "2021-03-07T13:50:33.374892Z",
          "shell.execute_reply": "2021-03-07T13:50:33.375636Z"
        },
        "papermill": {
          "duration": 0.332197,
          "end_time": "2021-03-07T13:50:33.375854",
          "exception": false,
          "start_time": "2021-03-07T13:50:33.043657",
          "status": "completed"
        },
        "scrolled": false,
        "tags": [],
        "colab": {
          "base_uri": "https://localhost:8080/",
          "height": 442
        },
        "id": "IRGYQk6qAJG8",
        "outputId": "0360a605-19e9-4f4a-b0f9-a7fbe6478ff6"
      },
      "outputs": [
        {
          "output_type": "display_data",
          "data": {
            "text/plain": [
              "<Figure size 720x504 with 1 Axes>"
            ],
            "image/png": "[encoded data removed]"
          },
          "metadata": {
            "needs_background": "light"
          }
        }
      ],
      "source": [
        "plt.figure(figsize=(10,7))\n",
        "sns.boxplot(x='LoanOnCard', y='CustomerSince', data= df)\n",
        "plt.show()"
      ]
    },
    {
      "cell_type": "markdown",
      "metadata": {
        "papermill": {
          "duration": 0.137154,
          "end_time": "2021-03-07T13:50:33.653662",
          "exception": false,
          "start_time": "2021-03-07T13:50:33.516508",
          "status": "completed"
        },
        "tags": [],
        "id": "KXCBQXJCAJG8"
      },
      "source": [
        "> **Conclusions**\n",
        "\n",
        "*   Customer of the bank since has equal distribution on loan holders and non-loan holders.\n",
        "\n",
        "\n"
      ]
    },
    {
      "cell_type": "code",
      "execution_count": 43,
      "metadata": {
        "execution": {
          "iopub.execute_input": "2021-03-07T13:50:33.932981Z",
          "iopub.status.busy": "2021-03-07T13:50:33.931961Z",
          "iopub.status.idle": "2021-03-07T13:50:34.276958Z",
          "shell.execute_reply": "2021-03-07T13:50:34.277558Z"
        },
        "papermill": {
          "duration": 0.484571,
          "end_time": "2021-03-07T13:50:34.277756",
          "exception": false,
          "start_time": "2021-03-07T13:50:33.793185",
          "status": "completed"
        },
        "tags": [],
        "colab": {
          "base_uri": "https://localhost:8080/",
          "height": 340
        },
        "id": "3gwOdcC9AJG9",
        "outputId": "01da87e2-1725-4c8f-924e-f8978011dc78"
      },
      "outputs": [
        {
          "output_type": "display_data",
          "data": {
            "text/plain": [
              "<Figure size 1080x360 with 1 Axes>"
            ],
            "image/png": "[encoded data removed]"
          },
          "metadata": {
            "needs_background": "light"
          }
        }
      ],
      "source": [
        "df.groupby(by=['LoanOnCard'])['CustomerSince'].mean().reset_index().sort_values(['CustomerSince']).tail(10).plot(x='LoanOnCard',\n",
        "                                                                                                           y='CustomerSince',\n",
        "                                                                                                           kind='bar',\n",
        "                                                                                                           figsize=(15,5))\n",
        "plt.show()"
      ]
    },
    {
      "cell_type": "markdown",
      "metadata": {
        "papermill": {
          "duration": 0.138477,
          "end_time": "2021-03-07T13:50:34.844384",
          "exception": false,
          "start_time": "2021-03-07T13:50:34.705907",
          "status": "completed"
        },
        "tags": [],
        "id": "VL9Ks4FEAJG9"
      },
      "source": [
        "**HighestSpend vs LoanOnCard**"
      ]
    },
    {
      "cell_type": "code",
      "execution_count": 44,
      "metadata": {
        "execution": {
          "iopub.execute_input": "2021-03-07T13:50:35.134259Z",
          "iopub.status.busy": "2021-03-07T13:50:35.133225Z",
          "iopub.status.idle": "2021-03-07T13:50:35.311499Z",
          "shell.execute_reply": "2021-03-07T13:50:35.311999Z"
        },
        "papermill": {
          "duration": 0.324622,
          "end_time": "2021-03-07T13:50:35.312224",
          "exception": false,
          "start_time": "2021-03-07T13:50:34.987602",
          "status": "completed"
        },
        "tags": [],
        "colab": {
          "base_uri": "https://localhost:8080/",
          "height": 442
        },
        "id": "KykvG98-AJG9",
        "outputId": "a99c45ae-3550-4344-ea3a-2407f2cc6c95"
      },
      "outputs": [
        {
          "output_type": "display_data",
          "data": {
            "text/plain": [
              "<Figure size 1080x504 with 1 Axes>"
            ],
            "image/png": "[encoded data removed]"
          },
          "metadata": {
            "needs_background": "light"
          }
        }
      ],
      "source": [
        "plt.figure(figsize=(15,7))\n",
        "sns.boxplot(x='LoanOnCard', y='HighestSpend', data= df)\n",
        "plt.show()"
      ]
    },
    {
      "cell_type": "code",
      "execution_count": 45,
      "metadata": {
        "execution": {
          "iopub.execute_input": "2021-03-07T13:50:35.897502Z",
          "iopub.status.busy": "2021-03-07T13:50:35.896516Z",
          "iopub.status.idle": "2021-03-07T13:50:36.094974Z",
          "shell.execute_reply": "2021-03-07T13:50:36.095492Z"
        },
        "papermill": {
          "duration": 0.354594,
          "end_time": "2021-03-07T13:50:36.095684",
          "exception": false,
          "start_time": "2021-03-07T13:50:35.741090",
          "status": "completed"
        },
        "tags": [],
        "colab": {
          "base_uri": "https://localhost:8080/",
          "height": 340
        },
        "id": "HyDj3nU8AJG-",
        "outputId": "6a3bc29d-4062-40ca-e061-b919f164efea"
      },
      "outputs": [
        {
          "output_type": "display_data",
          "data": {
            "text/plain": [
              "<Figure size 1080x360 with 1 Axes>"
            ],
            "image/png": "[encoded data removed]"
          },
          "metadata": {
            "needs_background": "light"
          }
        }
      ],
      "source": [
        "df.groupby(by=['LoanOnCard'])['HighestSpend'].mean().reset_index().sort_values(['HighestSpend']).tail(10).plot(x='LoanOnCard',\n",
        "                                                                                                           y='HighestSpend',\n",
        "                                                                                                           kind='bar',\n",
        "                                                                                                           figsize=(15,5))\n",
        "\n",
        "plt.show()"
      ]
    },
    {
      "cell_type": "markdown",
      "metadata": {
        "papermill": {
          "duration": 0.138795,
          "end_time": "2021-03-07T13:50:36.656619",
          "exception": false,
          "start_time": "2021-03-07T13:50:36.517824",
          "status": "completed"
        },
        "tags": [],
        "id": "207ijIH2AJG-"
      },
      "source": [
        "**MonthlyAverageSpend vs LoanOnCard**\n"
      ]
    },
    {
      "cell_type": "code",
      "execution_count": 46,
      "metadata": {
        "execution": {
          "iopub.execute_input": "2021-03-07T13:50:36.936861Z",
          "iopub.status.busy": "2021-03-07T13:50:36.936214Z",
          "iopub.status.idle": "2021-03-07T13:50:37.133287Z",
          "shell.execute_reply": "2021-03-07T13:50:37.133873Z"
        },
        "papermill": {
          "duration": 0.338616,
          "end_time": "2021-03-07T13:50:37.134059",
          "exception": false,
          "start_time": "2021-03-07T13:50:36.795443",
          "status": "completed"
        },
        "tags": [],
        "colab": {
          "base_uri": "https://localhost:8080/",
          "height": 442
        },
        "id": "6zVawbT8AJG-",
        "outputId": "cbf2d87d-174a-4906-d326-aa7535bb6beb"
      },
      "outputs": [
        {
          "output_type": "display_data",
          "data": {
            "text/plain": [
              "<Figure size 1080x504 with 1 Axes>"
            ],
            "image/png": "[encoded data removed]"
          },
          "metadata": {
            "needs_background": "light"
          }
        }
      ],
      "source": [
        "plt.figure(figsize=(15,7))\n",
        "sns.boxplot(x='LoanOnCard', y='MonthlyAverageSpend', data= df)\n",
        "plt.show()"
      ]
    },
    {
      "cell_type": "markdown",
      "metadata": {
        "papermill": {
          "duration": 0.138987,
          "end_time": "2021-03-07T13:50:37.413613",
          "exception": false,
          "start_time": "2021-03-07T13:50:37.274626",
          "status": "completed"
        },
        "tags": [],
        "id": "fx7MkhJqAJG-"
      },
      "source": [
        "> **Conclusions:**\n",
        "\n",
        "*   Directly proportional to highest spend\n",
        "*   Monthly average spend is more for loan holders\n"
      ]
    },
    {
      "cell_type": "code",
      "execution_count": 47,
      "metadata": {
        "execution": {
          "iopub.execute_input": "2021-03-07T13:50:37.697667Z",
          "iopub.status.busy": "2021-03-07T13:50:37.696963Z",
          "iopub.status.idle": "2021-03-07T13:50:37.890806Z",
          "shell.execute_reply": "2021-03-07T13:50:37.891376Z"
        },
        "papermill": {
          "duration": 0.336983,
          "end_time": "2021-03-07T13:50:37.891569",
          "exception": false,
          "start_time": "2021-03-07T13:50:37.554586",
          "status": "completed"
        },
        "tags": [],
        "colab": {
          "base_uri": "https://localhost:8080/",
          "height": 340
        },
        "id": "62b77nz_AJG_",
        "outputId": "5a747cc0-384e-4652-bb6d-e9da6ccaf178"
      },
      "outputs": [
        {
          "output_type": "display_data",
          "data": {
            "text/plain": [
              "<Figure size 1080x360 with 1 Axes>"
            ],
            "image/png": "[encoded data removed]"
          },
          "metadata": {
            "needs_background": "light"
          }
        }
      ],
      "source": [
        "df.groupby(by=['LoanOnCard'])['MonthlyAverageSpend'].mean().reset_index().sort_values(['MonthlyAverageSpend']).tail(10).plot(x='LoanOnCard',\n",
        "                                                                                                           y='MonthlyAverageSpend',\n",
        "                                                                                                           kind='bar',\n",
        "                                                                                                           figsize=(15,5))\n",
        "\n",
        "plt.show()"
      ]
    },
    {
      "cell_type": "markdown",
      "metadata": {
        "papermill": {
          "duration": 0.139512,
          "end_time": "2021-03-07T13:50:38.460394",
          "exception": false,
          "start_time": "2021-03-07T13:50:38.320882",
          "status": "completed"
        },
        "tags": [],
        "id": "rfUWwkJ7AJG_"
      },
      "source": [
        "**Mortgage vs LoanOnCard**"
      ]
    },
    {
      "cell_type": "code",
      "execution_count": 48,
      "metadata": {
        "execution": {
          "iopub.execute_input": "2021-03-07T13:50:38.747713Z",
          "iopub.status.busy": "2021-03-07T13:50:38.747054Z",
          "iopub.status.idle": "2021-03-07T13:50:38.951260Z",
          "shell.execute_reply": "2021-03-07T13:50:38.951854Z"
        },
        "papermill": {
          "duration": 0.351134,
          "end_time": "2021-03-07T13:50:38.952051",
          "exception": false,
          "start_time": "2021-03-07T13:50:38.600917",
          "status": "completed"
        },
        "tags": [],
        "colab": {
          "base_uri": "https://localhost:8080/",
          "height": 442
        },
        "id": "tuSit5zYAJG_",
        "outputId": "bc4edf55-82dd-4beb-8e46-6447935b058e"
      },
      "outputs": [
        {
          "output_type": "display_data",
          "data": {
            "text/plain": [
              "<Figure size 1080x504 with 1 Axes>"
            ],
            "image/png": "[encoded data removed]"
          },
          "metadata": {
            "needs_background": "light"
          }
        }
      ],
      "source": [
        "plt.figure(figsize=(15,7))\n",
        "sns.boxplot(x='LoanOnCard', y='Mortgage', data= df)\n",
        "plt.show()"
      ]
    },
    {
      "cell_type": "markdown",
      "metadata": {
        "papermill": {
          "duration": 0.140788,
          "end_time": "2021-03-07T13:50:39.248987",
          "exception": false,
          "start_time": "2021-03-07T13:50:39.108199",
          "status": "completed"
        },
        "tags": [],
        "id": "kt-RS4XJAJG_"
      },
      "source": [
        "> **Conclusions:**\n",
        "\n",
        "*   Extreme values seen\n",
        "*   Mortage value is high for loan holders\n"
      ]
    },
    {
      "cell_type": "code",
      "execution_count": 49,
      "metadata": {
        "execution": {
          "iopub.execute_input": "2021-03-07T13:50:39.534816Z",
          "iopub.status.busy": "2021-03-07T13:50:39.534175Z",
          "iopub.status.idle": "2021-03-07T13:50:39.720559Z",
          "shell.execute_reply": "2021-03-07T13:50:39.719718Z"
        },
        "papermill": {
          "duration": 0.330953,
          "end_time": "2021-03-07T13:50:39.720750",
          "exception": false,
          "start_time": "2021-03-07T13:50:39.389797",
          "status": "completed"
        },
        "tags": [],
        "colab": {
          "base_uri": "https://localhost:8080/",
          "height": 340
        },
        "id": "XBPR8tcvAJG_",
        "outputId": "4dea6eae-f8c1-4ac4-e592-b3f36ed48cc9"
      },
      "outputs": [
        {
          "output_type": "display_data",
          "data": {
            "text/plain": [
              "<Figure size 1080x360 with 1 Axes>"
            ],
            "image/png": "[encoded data removed]"
          },
          "metadata": {
            "needs_background": "light"
          }
        }
      ],
      "source": [
        "df.groupby(by=['LoanOnCard'])['Mortgage'].mean().reset_index().sort_values(['Mortgage']).tail(10).plot(x='LoanOnCard',\n",
        "                                                                                                           y='Mortgage',\n",
        "                                                                                                           kind='bar',\n",
        "                                                                                                           figsize=(15,5))\n",
        "\n",
        "plt.show()"
      ]
    },
    {
      "cell_type": "markdown",
      "metadata": {
        "papermill": {
          "duration": 0.141351,
          "end_time": "2021-03-07T13:50:40.319954",
          "exception": false,
          "start_time": "2021-03-07T13:50:40.178603",
          "status": "completed"
        },
        "tags": [],
        "id": "w1YYix_-AJHA"
      },
      "source": [
        "**Age vs LoanOnCard**"
      ]
    },
    {
      "cell_type": "code",
      "execution_count": 50,
      "metadata": {
        "execution": {
          "iopub.execute_input": "2021-03-07T13:50:40.610210Z",
          "iopub.status.busy": "2021-03-07T13:50:40.609496Z",
          "iopub.status.idle": "2021-03-07T13:50:40.789604Z",
          "shell.execute_reply": "2021-03-07T13:50:40.790152Z"
        },
        "papermill": {
          "duration": 0.329146,
          "end_time": "2021-03-07T13:50:40.790358",
          "exception": false,
          "start_time": "2021-03-07T13:50:40.461212",
          "status": "completed"
        },
        "tags": [],
        "colab": {
          "base_uri": "https://localhost:8080/",
          "height": 442
        },
        "id": "Yg-A--1GAJHA",
        "outputId": "bd35e8f8-91b2-4413-ea84-d27cf4cc7b42"
      },
      "outputs": [
        {
          "output_type": "display_data",
          "data": {
            "text/plain": [
              "<Figure size 1080x504 with 1 Axes>"
            ],
            "image/png": "[encoded data removed]"
          },
          "metadata": {
            "needs_background": "light"
          }
        }
      ],
      "source": [
        "plt.figure(figsize=(15,7))\n",
        "sns.boxplot(x='LoanOnCard', y='Age', data= df)\n",
        "plt.show()"
      ]
    },
    {
      "cell_type": "code",
      "execution_count": 51,
      "metadata": {
        "execution": {
          "iopub.execute_input": "2021-03-07T13:50:41.409892Z",
          "iopub.status.busy": "2021-03-07T13:50:41.409210Z",
          "iopub.status.idle": "2021-03-07T13:50:41.585838Z",
          "shell.execute_reply": "2021-03-07T13:50:41.586425Z"
        },
        "papermill": {
          "duration": 0.330341,
          "end_time": "2021-03-07T13:50:41.586619",
          "exception": false,
          "start_time": "2021-03-07T13:50:41.256278",
          "status": "completed"
        },
        "tags": [],
        "colab": {
          "base_uri": "https://localhost:8080/",
          "height": 340
        },
        "id": "teI7tPR3AJHA",
        "outputId": "2162779b-5bea-4a9e-d929-da0491191ca9"
      },
      "outputs": [
        {
          "output_type": "display_data",
          "data": {
            "text/plain": [
              "<Figure size 1080x360 with 1 Axes>"
            ],
            "image/png": "[encoded data removed]"
          },
          "metadata": {
            "needs_background": "light"
          }
        }
      ],
      "source": [
        "df.groupby(by=['LoanOnCard'])['Age'].mean().reset_index().sort_values(['Age']).tail(10).plot(x='LoanOnCard',\n",
        "                                                                                                           y='Age',\n",
        "                                                                                                           kind='bar',\n",
        "                                                                                                           figsize=(15,5))\n",
        "\n",
        "plt.show()"
      ]
    },
    {
      "cell_type": "markdown",
      "metadata": {
        "papermill": {
          "duration": 0.166759,
          "end_time": "2021-03-07T13:50:51.158719",
          "exception": false,
          "start_time": "2021-03-07T13:50:50.991960",
          "status": "completed"
        },
        "tags": [],
        "id": "9ysCECSZAJHF"
      },
      "source": [
        "**Categorical Variables**"
      ]
    },
    {
      "cell_type": "markdown",
      "source": [
        "**Level Vs LoanonCard**"
      ],
      "metadata": {
        "id": "gja8KCKuiUpr"
      }
    },
    {
      "cell_type": "code",
      "source": [
        "plt.figure(figsize=(15,7))\n",
        "sns.countplot(df['Level'],hue=df['LoanOnCard'])"
      ],
      "metadata": {
        "colab": {
          "base_uri": "https://localhost:8080/",
          "height": 459
        },
        "id": "TPEDpmOviX5S",
        "outputId": "0c9e5ffe-7ecb-43e3-a662-e2460e9b2969"
      },
      "execution_count": 52,
      "outputs": [
        {
          "output_type": "execute_result",
          "data": {
            "text/plain": [
              "<AxesSubplot:xlabel='Level', ylabel='count'>"
            ]
          },
          "metadata": {},
          "execution_count": 52
        },
        {
          "output_type": "display_data",
          "data": {
            "text/plain": [
              "<Figure size 1080x504 with 1 Axes>"
            ],
            "image/png": "[encoded data removed]"
          },
          "metadata": {
            "needs_background": "light"
          }
        }
      ]
    },
    {
      "cell_type": "markdown",
      "source": [
        "**Conclusions:**\n",
        "\n",
        "\n",
        "*   Level 1 has minimum number of loan holders and equal for 2 and 3.\n",
        "\n"
      ],
      "metadata": {
        "id": "obm8o3BTikoo"
      }
    },
    {
      "cell_type": "markdown",
      "metadata": {
        "papermill": {
          "duration": 0.164938,
          "end_time": "2021-03-07T13:50:51.489303",
          "exception": false,
          "start_time": "2021-03-07T13:50:51.324365",
          "status": "completed"
        },
        "tags": [],
        "id": "zSG5nW2DAJHF"
      },
      "source": [
        "**Hidden Score vs Loan on card**"
      ]
    },
    {
      "cell_type": "code",
      "execution_count": 53,
      "metadata": {
        "execution": {
          "iopub.execute_input": "2021-03-07T13:50:51.866261Z",
          "iopub.status.busy": "2021-03-07T13:50:51.865176Z",
          "iopub.status.idle": "2021-03-07T13:50:52.103003Z",
          "shell.execute_reply": "2021-03-07T13:50:52.102336Z"
        },
        "papermill": {
          "duration": 0.44546,
          "end_time": "2021-03-07T13:50:52.103175",
          "exception": false,
          "start_time": "2021-03-07T13:50:51.657715",
          "status": "completed"
        },
        "tags": [],
        "colab": {
          "base_uri": "https://localhost:8080/",
          "height": 459
        },
        "id": "VtR_1YPzAJHF",
        "outputId": "05fd4683-bc66-479b-e40d-d911a0efbedb"
      },
      "outputs": [
        {
          "output_type": "execute_result",
          "data": {
            "text/plain": [
              "<AxesSubplot:xlabel='HiddenScore', ylabel='count'>"
            ]
          },
          "metadata": {},
          "execution_count": 53
        },
        {
          "output_type": "display_data",
          "data": {
            "text/plain": [
              "<Figure size 1080x504 with 1 Axes>"
            ],
            "image/png": "[encoded data removed]"
          },
          "metadata": {
            "needs_background": "light"
          }
        }
      ],
      "source": [
        "plt.figure(figsize=(15,7))\n",
        "sns.countplot(df['HiddenScore'],hue=df['LoanOnCard'])"
      ]
    },
    {
      "cell_type": "markdown",
      "metadata": {
        "papermill": {
          "duration": 0.168728,
          "end_time": "2021-03-07T13:50:52.443222",
          "exception": false,
          "start_time": "2021-03-07T13:50:52.274494",
          "status": "completed"
        },
        "tags": [],
        "id": "pCWzdZTqAJHF"
      },
      "source": [
        "> **Conclusions**\n",
        "\n",
        "*   Hidden score is more for non-loan holders\n",
        "\n"
      ]
    },
    {
      "cell_type": "markdown",
      "metadata": {
        "papermill": {
          "duration": 0.168124,
          "end_time": "2021-03-07T13:50:54.190161",
          "exception": false,
          "start_time": "2021-03-07T13:50:54.022037",
          "status": "completed"
        },
        "tags": [],
        "id": "rg0dnrLQAJHG"
      },
      "source": [
        "**Security vs Loan on card**"
      ]
    },
    {
      "cell_type": "code",
      "execution_count": 54,
      "metadata": {
        "execution": {
          "iopub.execute_input": "2021-03-07T13:50:54.529206Z",
          "iopub.status.busy": "2021-03-07T13:50:54.528223Z",
          "iopub.status.idle": "2021-03-07T13:50:54.740373Z",
          "shell.execute_reply": "2021-03-07T13:50:54.739787Z"
        },
        "papermill": {
          "duration": 0.382452,
          "end_time": "2021-03-07T13:50:54.740530",
          "exception": false,
          "start_time": "2021-03-07T13:50:54.358078",
          "status": "completed"
        },
        "tags": [],
        "colab": {
          "base_uri": "https://localhost:8080/",
          "height": 459
        },
        "id": "IFlQp7yHAJHG",
        "outputId": "aeb44210-732b-42d9-f90a-8bb1b5ed0bec"
      },
      "outputs": [
        {
          "output_type": "execute_result",
          "data": {
            "text/plain": [
              "<AxesSubplot:xlabel='Security', ylabel='count'>"
            ]
          },
          "metadata": {},
          "execution_count": 54
        },
        {
          "output_type": "display_data",
          "data": {
            "text/plain": [
              "<Figure size 1080x504 with 1 Axes>"
            ],
            "image/png": "[encoded data removed]"
          },
          "metadata": {
            "needs_background": "light"
          }
        }
      ],
      "source": [
        "plt.figure(figsize=(15,7))\n",
        "sns.countplot(df['Security'],hue=df['LoanOnCard'])"
      ]
    },
    {
      "cell_type": "markdown",
      "metadata": {
        "papermill": {
          "duration": 0.168784,
          "end_time": "2021-03-07T13:50:55.435763",
          "exception": false,
          "start_time": "2021-03-07T13:50:55.266979",
          "status": "completed"
        },
        "tags": [],
        "id": "vQ-HSLn9AJHH"
      },
      "source": [
        "**FixedDepositAccount vs  Loanoncard**"
      ]
    },
    {
      "cell_type": "code",
      "execution_count": 55,
      "metadata": {
        "execution": {
          "iopub.execute_input": "2021-03-07T13:50:55.787719Z",
          "iopub.status.busy": "2021-03-07T13:50:55.787009Z",
          "iopub.status.idle": "2021-03-07T13:50:55.975557Z",
          "shell.execute_reply": "2021-03-07T13:50:55.975009Z"
        },
        "papermill": {
          "duration": 0.371249,
          "end_time": "2021-03-07T13:50:55.975793",
          "exception": false,
          "start_time": "2021-03-07T13:50:55.604544",
          "status": "completed"
        },
        "tags": [],
        "colab": {
          "base_uri": "https://localhost:8080/",
          "height": 442
        },
        "id": "WfTWqPUHAJHH",
        "outputId": "6fe013fd-a7f5-434c-88a5-0a0a4fd9a943"
      },
      "outputs": [
        {
          "output_type": "display_data",
          "data": {
            "text/plain": [
              "<Figure size 1080x504 with 1 Axes>"
            ],
            "image/png": "[encoded data removed]"
          },
          "metadata": {
            "needs_background": "light"
          }
        }
      ],
      "source": [
        "plt.figure(figsize=(15,7))\n",
        "sns.countplot(df['FixedDepositAccount'],hue=df['LoanOnCard'])\n",
        "plt.show()"
      ]
    },
    {
      "cell_type": "markdown",
      "metadata": {
        "papermill": {
          "duration": 0.177609,
          "end_time": "2021-03-07T13:50:57.045372",
          "exception": false,
          "start_time": "2021-03-07T13:50:56.867763",
          "status": "completed"
        },
        "tags": [],
        "id": "GYcHmXmyAJHH"
      },
      "source": [
        "# **MultiVariate Analysis**"
      ]
    },
    {
      "cell_type": "markdown",
      "source": [
        "**\"Monthly average spend\" vs \"loan\" vs \"level\"**"
      ],
      "metadata": {
        "id": "5rxwWd7-jLes"
      }
    },
    {
      "cell_type": "code",
      "source": [
        "plt.figure(figsize=(15,5))\n",
        "sns.pointplot(x=\"InternetBanking\", y=\"MonthlyAverageSpend\", hue = 'LoanOnCard',  data=df)\n",
        "plt.show()"
      ],
      "metadata": {
        "colab": {
          "base_uri": "https://localhost:8080/",
          "height": 334
        },
        "id": "jrWPUjD2jKhL",
        "outputId": "187a7be8-a8f1-4c11-ead1-2a03c8cf42f4"
      },
      "execution_count": 56,
      "outputs": [
        {
          "output_type": "display_data",
          "data": {
            "text/plain": [
              "<Figure size 1080x360 with 1 Axes>"
            ],
            "image/png": "[encoded data removed]"
          },
          "metadata": {
            "needs_background": "light"
          }
        }
      ]
    },
    {
      "cell_type": "markdown",
      "metadata": {
        "papermill": {
          "duration": 0.171825,
          "end_time": "2021-03-07T13:50:57.395498",
          "exception": false,
          "start_time": "2021-03-07T13:50:57.223673",
          "status": "completed"
        },
        "tags": [],
        "id": "SSR-MLhfAJHH"
      },
      "source": [
        "**\"Monthly average spend\" vs \"loan\" vs \"level\"**"
      ]
    },
    {
      "cell_type": "code",
      "execution_count": 57,
      "metadata": {
        "execution": {
          "iopub.execute_input": "2021-03-07T13:50:57.753361Z",
          "iopub.status.busy": "2021-03-07T13:50:57.750760Z",
          "iopub.status.idle": "2021-03-07T13:50:58.245981Z",
          "shell.execute_reply": "2021-03-07T13:50:58.246467Z"
        },
        "papermill": {
          "duration": 0.679751,
          "end_time": "2021-03-07T13:50:58.246706",
          "exception": false,
          "start_time": "2021-03-07T13:50:57.566955",
          "status": "completed"
        },
        "tags": [],
        "colab": {
          "base_uri": "https://localhost:8080/",
          "height": 334
        },
        "id": "XUW6xdADAJHH",
        "outputId": "e127ede4-86a4-4c3e-edf1-77de138306a1"
      },
      "outputs": [
        {
          "output_type": "display_data",
          "data": {
            "text/plain": [
              "<Figure size 1080x360 with 1 Axes>"
            ],
            "image/png": "[encoded data removed]"
          },
          "metadata": {
            "needs_background": "light"
          }
        }
      ],
      "source": [
        "plt.figure(figsize=(15,5))\n",
        "sns.pointplot(x=\"Level\", y=\"MonthlyAverageSpend\", hue = 'LoanOnCard',  data=df)\n",
        "plt.show()"
      ]
    },
    {
      "cell_type": "markdown",
      "metadata": {
        "papermill": {
          "duration": 0.170183,
          "end_time": "2021-03-07T13:50:58.931272",
          "exception": false,
          "start_time": "2021-03-07T13:50:58.761089",
          "status": "completed"
        },
        "tags": [],
        "id": "cUwMKXGrAJHI"
      },
      "source": [
        "**\"MonthlyAverageSpend\" vs \"Loan\" vs \"InternetBanking\"**"
      ]
    },
    {
      "cell_type": "code",
      "execution_count": 58,
      "metadata": {
        "execution": {
          "iopub.execute_input": "2021-03-07T13:50:59.286453Z",
          "iopub.status.busy": "2021-03-07T13:50:59.282984Z",
          "iopub.status.idle": "2021-03-07T13:50:59.688712Z",
          "shell.execute_reply": "2021-03-07T13:50:59.687356Z"
        },
        "papermill": {
          "duration": 0.583948,
          "end_time": "2021-03-07T13:50:59.688888",
          "exception": false,
          "start_time": "2021-03-07T13:50:59.104940",
          "status": "completed"
        },
        "tags": [],
        "colab": {
          "base_uri": "https://localhost:8080/",
          "height": 334
        },
        "id": "Drx5FU6zAJHI",
        "outputId": "a64c8a30-3fa5-4a57-8577-b54389d40a4b"
      },
      "outputs": [
        {
          "output_type": "display_data",
          "data": {
            "text/plain": [
              "<Figure size 1080x360 with 1 Axes>"
            ],
            "image/png": "[encoded data removed]"
          },
          "metadata": {
            "needs_background": "light"
          }
        }
      ],
      "source": [
        "plt.figure(figsize=(15,5))\n",
        "sns.pointplot(x=\"InternetBanking\", y=\"MonthlyAverageSpend\", hue = 'LoanOnCard',  data=df)\n",
        "plt.show()"
      ]
    },
    {
      "cell_type": "markdown",
      "metadata": {
        "papermill": {
          "duration": 0.171097,
          "end_time": "2021-03-07T13:51:00.391553",
          "exception": false,
          "start_time": "2021-03-07T13:51:00.220456",
          "status": "completed"
        },
        "tags": [],
        "id": "gX5coL3JAJHI"
      },
      "source": [
        "**\"MonthlyAverageSpend\" vs \"Loan\" vs \"CreditCard\"**"
      ]
    },
    {
      "cell_type": "code",
      "execution_count": 59,
      "metadata": {
        "execution": {
          "iopub.execute_input": "2021-03-07T13:51:00.745059Z",
          "iopub.status.busy": "2021-03-07T13:51:00.743914Z",
          "iopub.status.idle": "2021-03-07T13:51:01.140182Z",
          "shell.execute_reply": "2021-03-07T13:51:01.139377Z"
        },
        "papermill": {
          "duration": 0.576455,
          "end_time": "2021-03-07T13:51:01.140343",
          "exception": false,
          "start_time": "2021-03-07T13:51:00.563888",
          "status": "completed"
        },
        "tags": [],
        "colab": {
          "base_uri": "https://localhost:8080/",
          "height": 334
        },
        "id": "R04BVUX0AJHI",
        "outputId": "622b8c4e-2550-4219-bc84-c64d23a392ea"
      },
      "outputs": [
        {
          "output_type": "display_data",
          "data": {
            "text/plain": [
              "<Figure size 1080x360 with 1 Axes>"
            ],
            "image/png": "[encoded data removed]"
          },
          "metadata": {
            "needs_background": "light"
          }
        }
      ],
      "source": [
        "plt.figure(figsize=(15,5))\n",
        "sns.pointplot(x=\"CreditCard\", y=\"MonthlyAverageSpend\", hue = 'LoanOnCard',  data=df)\n",
        "plt.show()"
      ]
    },
    {
      "cell_type": "markdown",
      "metadata": {
        "papermill": {
          "duration": 0.176642,
          "end_time": "2021-03-07T13:51:01.839214",
          "exception": false,
          "start_time": "2021-03-07T13:51:01.662572",
          "status": "completed"
        },
        "tags": [],
        "id": "jxJN88vAAJHJ"
      },
      "source": [
        "**\"MonthlyAverageSpend\" vs \"Loan\" vs \"FixedDepositAccount\"**"
      ]
    },
    {
      "cell_type": "code",
      "execution_count": 60,
      "metadata": {
        "execution": {
          "iopub.execute_input": "2021-03-07T13:51:02.208552Z",
          "iopub.status.busy": "2021-03-07T13:51:02.200307Z",
          "iopub.status.idle": "2021-03-07T13:51:02.619247Z",
          "shell.execute_reply": "2021-03-07T13:51:02.619864Z"
        },
        "papermill": {
          "duration": 0.605947,
          "end_time": "2021-03-07T13:51:02.620096",
          "exception": false,
          "start_time": "2021-03-07T13:51:02.014149",
          "status": "completed"
        },
        "tags": [],
        "colab": {
          "base_uri": "https://localhost:8080/",
          "height": 334
        },
        "id": "FEQ_AznPAJHJ",
        "outputId": "f1d72a84-f1f7-4a88-ba34-a3146042b8c8"
      },
      "outputs": [
        {
          "output_type": "display_data",
          "data": {
            "text/plain": [
              "<Figure size 1080x360 with 1 Axes>"
            ],
            "image/png": "[encoded data removed]"
          },
          "metadata": {
            "needs_background": "light"
          }
        }
      ],
      "source": [
        "plt.figure(figsize=(15,5))\n",
        "sns.pointplot(x=\"FixedDepositAccount\", y=\"MonthlyAverageSpend\", hue = 'LoanOnCard',  data=df)\n",
        "plt.show()"
      ]
    },
    {
      "cell_type": "markdown",
      "source": [
        "**Conclusions:**\n",
        "\n",
        "*  Spend is slightly more for FD Account holders.\n",
        "\n",
        "*  Spend is slightly more for credit card holders\n",
        "\n",
        "*  Loan holder spend more money. Particulary the spendings are more on level 2 and 3\n",
        "\n",
        "*   Security of loan holders is very less."
      ],
      "metadata": {
        "id": "WmSnugTNjXzR"
      }
    },
    {
      "cell_type": "markdown",
      "metadata": {
        "papermill": {
          "duration": 0.182741,
          "end_time": "2021-03-07T13:51:03.394663",
          "exception": false,
          "start_time": "2021-03-07T13:51:03.211922",
          "status": "completed"
        },
        "tags": [],
        "id": "ZNVTnBliAJHK"
      },
      "source": [
        "# Hypothesis Testing"
      ]
    },
    {
      "cell_type": "code",
      "execution_count": 61,
      "metadata": {
        "execution": {
          "iopub.execute_input": "2021-03-07T13:51:04.121173Z",
          "iopub.status.busy": "2021-03-07T13:51:04.120500Z",
          "iopub.status.idle": "2021-03-07T13:51:04.133077Z",
          "shell.execute_reply": "2021-03-07T13:51:04.132416Z"
        },
        "papermill": {
          "duration": 0.199158,
          "end_time": "2021-03-07T13:51:04.133237",
          "exception": false,
          "start_time": "2021-03-07T13:51:03.934079",
          "status": "completed"
        },
        "tags": [],
        "colab": {
          "base_uri": "https://localhost:8080/",
          "height": 0
        },
        "id": "IzcapaOaAJHK",
        "outputId": "e7de2067-5b0a-4fdd-de41-13f4ffadc0fc"
      },
      "outputs": [
        {
          "output_type": "execute_result",
          "data": {
            "text/plain": [
              "  LoanOnCard        Age  CustomerSince  HighestSpend       ZipCode  \\\n",
              "0        0.0  45.383111      20.146889     66.290444  93152.337111   \n",
              "1        1.0  45.066667      19.843750    144.745833  93153.202083   \n",
              "\n",
              "   MonthlyAverageSpend    Mortgage  \n",
              "0             1.729849   51.869111  \n",
              "1             3.905354  100.845833  "
            ],
            "text/html": [
              "\n",
              "  <div id=\"df-3f9da8dc-b93a-4d8e-bc2f-a5042f67d0bc\">\n",
              "    <div class=\"colab-df-container\">\n",
              "      <div>\n",
              "<style scoped>\n",
              "    .dataframe tbody tr th:only-of-type {\n",
              "        vertical-align: middle;\n",
              "    }\n",
              "\n",
              "    .dataframe tbody tr th {\n",
              "        vertical-align: top;\n",
              "    }\n",
              "\n",
              "    .dataframe thead th {\n",
              "        text-align: right;\n",
              "    }\n",
              "</style>\n",
              "<table border=\"1\" class=\"dataframe\">\n",
              "  <thead>\n",
              "    <tr style=\"text-align: right;\">\n",
              "      <th></th>\n",
              "      <th>LoanOnCard</th>\n",
              "      <th>Age</th>\n",
              "      <th>CustomerSince</th>\n",
              "      <th>HighestSpend</th>\n",
              "      <th>ZipCode</th>\n",
              "      <th>MonthlyAverageSpend</th>\n",
              "      <th>Mortgage</th>\n",
              "    </tr>\n",
              "  </thead>\n",
              "  <tbody>\n",
              "    <tr>\n",
              "      <th>0</th>\n",
              "      <td>0.0</td>\n",
              "      <td>45.383111</td>\n",
              "      <td>20.146889</td>\n",
              "      <td>66.290444</td>\n",
              "      <td>93152.337111</td>\n",
              "      <td>1.729849</td>\n",
              "      <td>51.869111</td>\n",
              "    </tr>\n",
              "    <tr>\n",
              "      <th>1</th>\n",
              "      <td>1.0</td>\n",
              "      <td>45.066667</td>\n",
              "      <td>19.843750</td>\n",
              "      <td>144.745833</td>\n",
              "      <td>93153.202083</td>\n",
              "      <td>3.905354</td>\n",
              "      <td>100.845833</td>\n",
              "    </tr>\n",
              "  </tbody>\n",
              "</table>\n",
              "</div>\n",
              "      <button class=\"colab-df-convert\" onclick=\"convertToInteractive('df-3f9da8dc-b93a-4d8e-bc2f-a5042f67d0bc')\"\n",
              "              title=\"Convert this dataframe to an interactive table.\"\n",
              "              style=\"display:none;\">\n",
              "        \n",
              "  <svg xmlns=\"http://www.w3.org/2000/svg\" height=\"24px\"viewBox=\"0 0 24 24\"\n",
              "       width=\"24px\">\n",
              "    <path d=\"M0 0h24v24H0V0z\" fill=\"none\"/>\n",
              "    <path d=\"M18.56 5.44l.94 2.06.94-2.06 2.06-.94-2.06-.94-.94-2.06-.94 2.06-2.06.94zm-11 1L8.5 8.5l.94-2.06 2.06-.94-2.06-.94L8.5 2.5l-.94 2.06-2.06.94zm10 10l.94 2.06.94-2.06 2.06-.94-2.06-.94-.94-2.06-.94 2.06-2.06.94z\"/><path d=\"M17.41 7.96l-1.37-1.37c-.4-.4-.92-.59-1.43-.59-.52 0-1.04.2-1.43.59L10.3 9.45l-7.72 7.72c-.78.78-.78 2.05 0 2.83L4 21.41c.39.39.9.59 1.41.59.51 0 1.02-.2 1.41-.59l7.78-7.78 2.81-2.81c.8-.78.8-2.07 0-2.86zM5.41 20L4 18.59l7.72-7.72 1.47 1.35L5.41 20z\"/>\n",
              "  </svg>\n",
              "      </button>\n",
              "      \n",
              "  <style>\n",
              "    .colab-df-container {\n",
              "      display:flex;\n",
              "      flex-wrap:wrap;\n",
              "      gap: 12px;\n",
              "    }\n",
              "\n",
              "    .colab-df-convert {\n",
              "      background-color: #E8F0FE;\n",
              "      border: none;\n",
              "      border-radius: 50%;\n",
              "      cursor: pointer;\n",
              "      display: none;\n",
              "      fill: #1967D2;\n",
              "      height: 32px;\n",
              "      padding: 0 0 0 0;\n",
              "      width: 32px;\n",
              "    }\n",
              "\n",
              "    .colab-df-convert:hover {\n",
              "      background-color: #E2EBFA;\n",
              "      box-shadow: 0px 1px 2px rgba(60, 64, 67, 0.3), 0px 1px 3px 1px rgba(60, 64, 67, 0.15);\n",
              "      fill: #174EA6;\n",
              "    }\n",
              "\n",
              "    [theme=dark] .colab-df-convert {\n",
              "      background-color: #3B4455;\n",
              "      fill: #D2E3FC;\n",
              "    }\n",
              "\n",
              "    [theme=dark] .colab-df-convert:hover {\n",
              "      background-color: #434B5C;\n",
              "      box-shadow: 0px 1px 3px 1px rgba(0, 0, 0, 0.15);\n",
              "      filter: drop-shadow(0px 1px 2px rgba(0, 0, 0, 0.3));\n",
              "      fill: #FFFFFF;\n",
              "    }\n",
              "  </style>\n",
              "\n",
              "      <script>\n",
              "        const buttonEl =\n",
              "          document.querySelector('#df-3f9da8dc-b93a-4d8e-bc2f-a5042f67d0bc button.colab-df-convert');\n",
              "        buttonEl.style.display =\n",
              "          google.colab.kernel.accessAllowed ? 'block' : 'none';\n",
              "\n",
              "        async function convertToInteractive(key) {\n",
              "          const element = document.querySelector('#df-3f9da8dc-b93a-4d8e-bc2f-a5042f67d0bc');\n",
              "          const dataTable =\n",
              "            await google.colab.kernel.invokeFunction('convertToInteractive',\n",
              "                                                     [key], {});\n",
              "          if (!dataTable) return;\n",
              "\n",
              "          const docLinkHtml = 'Like what you see? Visit the ' +\n",
              "            '<a target=\"_blank\" href=https://colab.research.google.com/notebooks/data_table.ipynb>data table notebook</a>'\n",
              "            + ' to learn more about interactive tables.';\n",
              "          element.innerHTML = '';\n",
              "          dataTable['output_type'] = 'display_data';\n",
              "          await google.colab.output.renderOutput(dataTable, element);\n",
              "          const docLink = document.createElement('div');\n",
              "          docLink.innerHTML = docLinkHtml;\n",
              "          element.appendChild(docLink);\n",
              "        }\n",
              "      </script>\n",
              "    </div>\n",
              "  </div>\n",
              "  "
            ]
          },
          "metadata": {},
          "execution_count": 61
        }
      ],
      "source": [
        "summary_df =df.groupby('LoanOnCard')\n",
        "summary_df.mean().reset_index()"
      ]
    },
    {
      "cell_type": "markdown",
      "metadata": {
        "papermill": {
          "duration": 0.173241,
          "end_time": "2021-03-07T13:51:04.485023",
          "exception": false,
          "start_time": "2021-03-07T13:51:04.311782",
          "status": "completed"
        },
        "tags": [],
        "id": "qEjRIfc6AJHK"
      },
      "source": [
        "** Conclusions **\n",
        "\n",
        "*   Mean of age is equal for both the classes\n",
        "*   HighestSpend mean values differ a lot for loan and non-loan customer.\n"
      ]
    },
    {
      "cell_type": "markdown",
      "metadata": {
        "papermill": {
          "duration": 0.179092,
          "end_time": "2021-03-07T13:51:05.949184",
          "exception": false,
          "start_time": "2021-03-07T13:51:05.770092",
          "status": "completed"
        },
        "tags": [],
        "id": "ccvGLdzsAJHL"
      },
      "source": [
        "**Ho(Null Hypothesis):There is no significant difference in independent feature with different category of Target variable**\n",
        "\n",
        "**H1(Alternate Hypothesis):There is significant difference in independent feature with different category of Target variable**"
      ]
    },
    {
      "cell_type": "code",
      "source": [
        "#Two-sample unpaired t-test\n",
        "# Numerical Columns\n",
        "col=list(df.select_dtypes(include=['int64','float64']).columns)\n",
        "\n",
        "ttest_df = pd.DataFrame()\n",
        "ttest_df['Column'] = col\n",
        "p_values = []\n",
        "results = []\n",
        "\n",
        "for i in col:\n",
        "    x = np.array(df[df.LoanOnCard == 0][i]) \n",
        "    y = np.array(df[df.LoanOnCard == 1][i])\n",
        "    t, p_value  = stats.ttest_ind(x,y, axis = 0,equal_var=False) \n",
        "    p_values.append(p_value)\n",
        "    if p_value < 0.05:  # Setting our significance level at 5%\n",
        "        results.append('f{} Rejecting Null Hypothesis. {}  of Loan holders and non-Loan holders are not same'.format('\\033[1m',i))\n",
        "    else:\n",
        "        results.append('f{} Fail to Reject Null Hypothesis. {} of Loan holders and non-Loan holders are  same'.format('\\033[1m',i))\n",
        "\n",
        "ttest_df['P_values'] = p_values\n",
        "ttest_df['Results'] = results\n",
        "\n",
        "ttest_df"
      ],
      "metadata": {
        "colab": {
          "base_uri": "https://localhost:8080/",
          "height": 0
        },
        "id": "DMbPhcApYFGX",
        "outputId": "ddcc9fec-7ae3-40f9-9d3c-a8d6d8c13fda"
      },
      "execution_count": 62,
      "outputs": [
        {
          "output_type": "execute_result",
          "data": {
            "text/plain": [
              "                Column       P_values  \\\n",
              "0                  Age   5.694160e-01   \n",
              "1        CustomerSince   5.855243e-01   \n",
              "2         HighestSpend  1.527530e-227   \n",
              "3              ZipCode   9.920253e-01   \n",
              "4  MonthlyAverageSpend   2.414410e-77   \n",
              "5             Mortgage   1.338960e-10   \n",
              "\n",
              "                                             Results  \n",
              "0  f\u001b[1m Fail to Reject Null Hypothesis. Age of L...  \n",
              "1  f\u001b[1m Fail to Reject Null Hypothesis. Customer...  \n",
              "2  f\u001b[1m Rejecting Null Hypothesis. HighestSpend ...  \n",
              "3  f\u001b[1m Fail to Reject Null Hypothesis. ZipCode ...  \n",
              "4  f\u001b[1m Rejecting Null Hypothesis. MonthlyAverag...  \n",
              "5  f\u001b[1m Rejecting Null Hypothesis. Mortgage  of ...  "
            ],
            "text/html": [
              "\n",
              "  <div id=\"df-b9ab6f4c-3927-4398-a5bd-b927e12b7649\">\n",
              "    <div class=\"colab-df-container\">\n",
              "      <div>\n",
              "<style scoped>\n",
              "    .dataframe tbody tr th:only-of-type {\n",
              "        vertical-align: middle;\n",
              "    }\n",
              "\n",
              "    .dataframe tbody tr th {\n",
              "        vertical-align: top;\n",
              "    }\n",
              "\n",
              "    .dataframe thead th {\n",
              "        text-align: right;\n",
              "    }\n",
              "</style>\n",
              "<table border=\"1\" class=\"dataframe\">\n",
              "  <thead>\n",
              "    <tr style=\"text-align: right;\">\n",
              "      <th></th>\n",
              "      <th>Column</th>\n",
              "      <th>P_values</th>\n",
              "      <th>Results</th>\n",
              "    </tr>\n",
              "  </thead>\n",
              "  <tbody>\n",
              "    <tr>\n",
              "      <th>0</th>\n",
              "      <td>Age</td>\n",
              "      <td>5.694160e-01</td>\n",
              "      <td>f\u001b[1m Fail to Reject Null Hypothesis. Age of L...</td>\n",
              "    </tr>\n",
              "    <tr>\n",
              "      <th>1</th>\n",
              "      <td>CustomerSince</td>\n",
              "      <td>5.855243e-01</td>\n",
              "      <td>f\u001b[1m Fail to Reject Null Hypothesis. Customer...</td>\n",
              "    </tr>\n",
              "    <tr>\n",
              "      <th>2</th>\n",
              "      <td>HighestSpend</td>\n",
              "      <td>1.527530e-227</td>\n",
              "      <td>f\u001b[1m Rejecting Null Hypothesis. HighestSpend ...</td>\n",
              "    </tr>\n",
              "    <tr>\n",
              "      <th>3</th>\n",
              "      <td>ZipCode</td>\n",
              "      <td>9.920253e-01</td>\n",
              "      <td>f\u001b[1m Fail to Reject Null Hypothesis. ZipCode ...</td>\n",
              "    </tr>\n",
              "    <tr>\n",
              "      <th>4</th>\n",
              "      <td>MonthlyAverageSpend</td>\n",
              "      <td>2.414410e-77</td>\n",
              "      <td>f\u001b[1m Rejecting Null Hypothesis. MonthlyAverag...</td>\n",
              "    </tr>\n",
              "    <tr>\n",
              "      <th>5</th>\n",
              "      <td>Mortgage</td>\n",
              "      <td>1.338960e-10</td>\n",
              "      <td>f\u001b[1m Rejecting Null Hypothesis. Mortgage  of ...</td>\n",
              "    </tr>\n",
              "  </tbody>\n",
              "</table>\n",
              "</div>\n",
              "      <button class=\"colab-df-convert\" onclick=\"convertToInteractive('df-b9ab6f4c-3927-4398-a5bd-b927e12b7649')\"\n",
              "              title=\"Convert this dataframe to an interactive table.\"\n",
              "              style=\"display:none;\">\n",
              "        \n",
              "  <svg xmlns=\"http://www.w3.org/2000/svg\" height=\"24px\"viewBox=\"0 0 24 24\"\n",
              "       width=\"24px\">\n",
              "    <path d=\"M0 0h24v24H0V0z\" fill=\"none\"/>\n",
              "    <path d=\"M18.56 5.44l.94 2.06.94-2.06 2.06-.94-2.06-.94-.94-2.06-.94 2.06-2.06.94zm-11 1L8.5 8.5l.94-2.06 2.06-.94-2.06-.94L8.5 2.5l-.94 2.06-2.06.94zm10 10l.94 2.06.94-2.06 2.06-.94-2.06-.94-.94-2.06-.94 2.06-2.06.94z\"/><path d=\"M17.41 7.96l-1.37-1.37c-.4-.4-.92-.59-1.43-.59-.52 0-1.04.2-1.43.59L10.3 9.45l-7.72 7.72c-.78.78-.78 2.05 0 2.83L4 21.41c.39.39.9.59 1.41.59.51 0 1.02-.2 1.41-.59l7.78-7.78 2.81-2.81c.8-.78.8-2.07 0-2.86zM5.41 20L4 18.59l7.72-7.72 1.47 1.35L5.41 20z\"/>\n",
              "  </svg>\n",
              "      </button>\n",
              "      \n",
              "  <style>\n",
              "    .colab-df-container {\n",
              "      display:flex;\n",
              "      flex-wrap:wrap;\n",
              "      gap: 12px;\n",
              "    }\n",
              "\n",
              "    .colab-df-convert {\n",
              "      background-color: #E8F0FE;\n",
              "      border: none;\n",
              "      border-radius: 50%;\n",
              "      cursor: pointer;\n",
              "      display: none;\n",
              "      fill: #1967D2;\n",
              "      height: 32px;\n",
              "      padding: 0 0 0 0;\n",
              "      width: 32px;\n",
              "    }\n",
              "\n",
              "    .colab-df-convert:hover {\n",
              "      background-color: #E2EBFA;\n",
              "      box-shadow: 0px 1px 2px rgba(60, 64, 67, 0.3), 0px 1px 3px 1px rgba(60, 64, 67, 0.15);\n",
              "      fill: #174EA6;\n",
              "    }\n",
              "\n",
              "    [theme=dark] .colab-df-convert {\n",
              "      background-color: #3B4455;\n",
              "      fill: #D2E3FC;\n",
              "    }\n",
              "\n",
              "    [theme=dark] .colab-df-convert:hover {\n",
              "      background-color: #434B5C;\n",
              "      box-shadow: 0px 1px 3px 1px rgba(0, 0, 0, 0.15);\n",
              "      filter: drop-shadow(0px 1px 2px rgba(0, 0, 0, 0.3));\n",
              "      fill: #FFFFFF;\n",
              "    }\n",
              "  </style>\n",
              "\n",
              "      <script>\n",
              "        const buttonEl =\n",
              "          document.querySelector('#df-b9ab6f4c-3927-4398-a5bd-b927e12b7649 button.colab-df-convert');\n",
              "        buttonEl.style.display =\n",
              "          google.colab.kernel.accessAllowed ? 'block' : 'none';\n",
              "\n",
              "        async function convertToInteractive(key) {\n",
              "          const element = document.querySelector('#df-b9ab6f4c-3927-4398-a5bd-b927e12b7649');\n",
              "          const dataTable =\n",
              "            await google.colab.kernel.invokeFunction('convertToInteractive',\n",
              "                                                     [key], {});\n",
              "          if (!dataTable) return;\n",
              "\n",
              "          const docLinkHtml = 'Like what you see? Visit the ' +\n",
              "            '<a target=\"_blank\" href=https://colab.research.google.com/notebooks/data_table.ipynb>data table notebook</a>'\n",
              "            + ' to learn more about interactive tables.';\n",
              "          element.innerHTML = '';\n",
              "          dataTable['output_type'] = 'display_data';\n",
              "          await google.colab.output.renderOutput(dataTable, element);\n",
              "          const docLink = document.createElement('div');\n",
              "          docLink.innerHTML = docLinkHtml;\n",
              "          element.appendChild(docLink);\n",
              "        }\n",
              "      </script>\n",
              "    </div>\n",
              "  </div>\n",
              "  "
            ]
          },
          "metadata": {},
          "execution_count": 62
        }
      ]
    },
    {
      "cell_type": "code",
      "execution_count": 63,
      "metadata": {
        "execution": {
          "iopub.execute_input": "2021-03-07T13:51:07.092720Z",
          "iopub.status.busy": "2021-03-07T13:51:07.092017Z",
          "iopub.status.idle": "2021-03-07T13:51:07.095277Z",
          "shell.execute_reply": "2021-03-07T13:51:07.095797Z"
        },
        "papermill": {
          "duration": 0.188593,
          "end_time": "2021-03-07T13:51:07.095994",
          "exception": false,
          "start_time": "2021-03-07T13:51:06.907401",
          "status": "completed"
        },
        "tags": [],
        "id": "CvNIiJ8XAJHL"
      },
      "outputs": [],
      "source": [
        "# Age, CustomerSince and ZipCode do not have effect on target variable.\n",
        "# Dropping these column before building model\n",
        "df.drop(['Age','CustomerSince','ZipCode'],axis=1,inplace=True)"
      ]
    },
    {
      "cell_type": "markdown",
      "metadata": {
        "papermill": {
          "duration": 0.176887,
          "end_time": "2021-03-07T13:51:07.816852",
          "exception": false,
          "start_time": "2021-03-07T13:51:07.639965",
          "status": "completed"
        },
        "tags": [],
        "id": "NOCzrYkeAJHM"
      },
      "source": [
        "**Ho: There is no significant difference in hidden score for different category of target variable(Loan on card)**\n",
        "\n",
        "**H1: There is significant difference in hidden score for different category of target variable(Loan on card)**    "
      ]
    },
    {
      "cell_type": "code",
      "execution_count": 64,
      "metadata": {
        "execution": {
          "iopub.execute_input": "2021-03-07T13:51:08.178303Z",
          "iopub.status.busy": "2021-03-07T13:51:08.177649Z",
          "iopub.status.idle": "2021-03-07T13:51:08.203385Z",
          "shell.execute_reply": "2021-03-07T13:51:08.202819Z"
        },
        "papermill": {
          "duration": 0.211224,
          "end_time": "2021-03-07T13:51:08.203527",
          "exception": false,
          "start_time": "2021-03-07T13:51:07.992303",
          "status": "completed"
        },
        "tags": [],
        "colab": {
          "base_uri": "https://localhost:8080/"
        },
        "id": "ZANCSIJvAJHM",
        "outputId": "094765df-3c90-495f-9a3a-2c1976f09469"
      },
      "outputs": [
        {
          "output_type": "stream",
          "name": "stdout",
          "text": [
            "HiddenScore     1     2    3     4\n",
            "LoanOnCard                        \n",
            "0.0          1359  1187  873  1081\n",
            "1.0           107   106  133   134\n"
          ]
        }
      ],
      "source": [
        "# Categorical Variables\n",
        "lc_hs=pd.crosstab(df['LoanOnCard'],df['HiddenScore'])\n",
        "print(lc_hs)"
      ]
    },
    {
      "cell_type": "code",
      "execution_count": 65,
      "metadata": {
        "execution": {
          "iopub.execute_input": "2021-03-07T13:51:08.931753Z",
          "iopub.status.busy": "2021-03-07T13:51:08.930909Z",
          "iopub.status.idle": "2021-03-07T13:51:08.934660Z",
          "shell.execute_reply": "2021-03-07T13:51:08.933937Z"
        },
        "papermill": {
          "duration": 0.193014,
          "end_time": "2021-03-07T13:51:08.934817",
          "exception": false,
          "start_time": "2021-03-07T13:51:08.741803",
          "status": "completed"
        },
        "tags": [],
        "colab": {
          "base_uri": "https://localhost:8080/"
        },
        "id": "iz25C0diAJHN",
        "outputId": "3c837af8-4743-4d4c-9cca-d76072e5cfda"
      },
      "outputs": [
        {
          "output_type": "stream",
          "name": "stdout",
          "text": [
            "P_Value: 1.5107064617649127e-06\n",
            "{} Rejecting Null Hypothesis. \n",
            " There is significant difference in hidden score for different category of LoanOnCard)\n"
          ]
        }
      ],
      "source": [
        "chi, p_value, dof, expected = stats.chi2_contingency(lc_hs)\n",
        "print('P_Value:', p_value)\n",
        "\n",
        "if p_value < 0.05: \n",
        "    print('{} Rejecting Null Hypothesis. \\n There is significant difference in hidden score for different category of LoanOnCard)')\n",
        "else:\n",
        "    print('{} Fail to Reject Null Hypothesis.\\n There is no significant difference in hidden score for different category of LoanOnCard)')"
      ]
    },
    {
      "cell_type": "code",
      "execution_count": 66,
      "metadata": {
        "execution": {
          "iopub.execute_input": "2021-03-07T13:51:10.071954Z",
          "iopub.status.busy": "2021-03-07T13:51:10.071276Z",
          "iopub.status.idle": "2021-03-07T13:51:10.074173Z",
          "shell.execute_reply": "2021-03-07T13:51:10.073490Z"
        },
        "papermill": {
          "duration": 0.200516,
          "end_time": "2021-03-07T13:51:10.074322",
          "exception": false,
          "start_time": "2021-03-07T13:51:09.873806",
          "status": "completed"
        },
        "tags": [],
        "colab": {
          "base_uri": "https://localhost:8080/",
          "height": 0
        },
        "id": "z-gD6h_4AJHN",
        "outputId": "1e0ff483-aab9-4d18-88ce-9a1f000a87c1"
      },
      "outputs": [
        {
          "output_type": "execute_result",
          "data": {
            "text/plain": [
              "                Column      P_values  \\\n",
              "0                Level  1.916153e-24   \n",
              "1             Security  1.492227e-01   \n",
              "2  FixedDepositAccount  3.934087e-30   \n",
              "3      InternetBanking  6.696352e-01   \n",
              "4           CreditCard  8.585873e-01   \n",
              "\n",
              "                                             Results  \n",
              "0  f\u001b[1m Rejecting Null Hypothesis. Level  of Loa...  \n",
              "1  f\u001b[1m Fail to Reject Null Hypothesis. Security...  \n",
              "2  f\u001b[1m Rejecting Null Hypothesis. FixedDepositA...  \n",
              "3  f\u001b[1m Fail to Reject Null Hypothesis. Internet...  \n",
              "4  f\u001b[1m Fail to Reject Null Hypothesis. CreditCa...  "
            ],
            "text/html": [
              "\n",
              "  <div id=\"df-773d0b4b-3cd7-4832-8871-4f590b4a1a58\">\n",
              "    <div class=\"colab-df-container\">\n",
              "      <div>\n",
              "<style scoped>\n",
              "    .dataframe tbody tr th:only-of-type {\n",
              "        vertical-align: middle;\n",
              "    }\n",
              "\n",
              "    .dataframe tbody tr th {\n",
              "        vertical-align: top;\n",
              "    }\n",
              "\n",
              "    .dataframe thead th {\n",
              "        text-align: right;\n",
              "    }\n",
              "</style>\n",
              "<table border=\"1\" class=\"dataframe\">\n",
              "  <thead>\n",
              "    <tr style=\"text-align: right;\">\n",
              "      <th></th>\n",
              "      <th>Column</th>\n",
              "      <th>P_values</th>\n",
              "      <th>Results</th>\n",
              "    </tr>\n",
              "  </thead>\n",
              "  <tbody>\n",
              "    <tr>\n",
              "      <th>0</th>\n",
              "      <td>Level</td>\n",
              "      <td>1.916153e-24</td>\n",
              "      <td>f\u001b[1m Rejecting Null Hypothesis. Level  of Loa...</td>\n",
              "    </tr>\n",
              "    <tr>\n",
              "      <th>1</th>\n",
              "      <td>Security</td>\n",
              "      <td>1.492227e-01</td>\n",
              "      <td>f\u001b[1m Fail to Reject Null Hypothesis. Security...</td>\n",
              "    </tr>\n",
              "    <tr>\n",
              "      <th>2</th>\n",
              "      <td>FixedDepositAccount</td>\n",
              "      <td>3.934087e-30</td>\n",
              "      <td>f\u001b[1m Rejecting Null Hypothesis. FixedDepositA...</td>\n",
              "    </tr>\n",
              "    <tr>\n",
              "      <th>3</th>\n",
              "      <td>InternetBanking</td>\n",
              "      <td>6.696352e-01</td>\n",
              "      <td>f\u001b[1m Fail to Reject Null Hypothesis. Internet...</td>\n",
              "    </tr>\n",
              "    <tr>\n",
              "      <th>4</th>\n",
              "      <td>CreditCard</td>\n",
              "      <td>8.585873e-01</td>\n",
              "      <td>f\u001b[1m Fail to Reject Null Hypothesis. CreditCa...</td>\n",
              "    </tr>\n",
              "  </tbody>\n",
              "</table>\n",
              "</div>\n",
              "      <button class=\"colab-df-convert\" onclick=\"convertToInteractive('df-773d0b4b-3cd7-4832-8871-4f590b4a1a58')\"\n",
              "              title=\"Convert this dataframe to an interactive table.\"\n",
              "              style=\"display:none;\">\n",
              "        \n",
              "  <svg xmlns=\"http://www.w3.org/2000/svg\" height=\"24px\"viewBox=\"0 0 24 24\"\n",
              "       width=\"24px\">\n",
              "    <path d=\"M0 0h24v24H0V0z\" fill=\"none\"/>\n",
              "    <path d=\"M18.56 5.44l.94 2.06.94-2.06 2.06-.94-2.06-.94-.94-2.06-.94 2.06-2.06.94zm-11 1L8.5 8.5l.94-2.06 2.06-.94-2.06-.94L8.5 2.5l-.94 2.06-2.06.94zm10 10l.94 2.06.94-2.06 2.06-.94-2.06-.94-.94-2.06-.94 2.06-2.06.94z\"/><path d=\"M17.41 7.96l-1.37-1.37c-.4-.4-.92-.59-1.43-.59-.52 0-1.04.2-1.43.59L10.3 9.45l-7.72 7.72c-.78.78-.78 2.05 0 2.83L4 21.41c.39.39.9.59 1.41.59.51 0 1.02-.2 1.41-.59l7.78-7.78 2.81-2.81c.8-.78.8-2.07 0-2.86zM5.41 20L4 18.59l7.72-7.72 1.47 1.35L5.41 20z\"/>\n",
              "  </svg>\n",
              "      </button>\n",
              "      \n",
              "  <style>\n",
              "    .colab-df-container {\n",
              "      display:flex;\n",
              "      flex-wrap:wrap;\n",
              "      gap: 12px;\n",
              "    }\n",
              "\n",
              "    .colab-df-convert {\n",
              "      background-color: #E8F0FE;\n",
              "      border: none;\n",
              "      border-radius: 50%;\n",
              "      cursor: pointer;\n",
              "      display: none;\n",
              "      fill: #1967D2;\n",
              "      height: 32px;\n",
              "      padding: 0 0 0 0;\n",
              "      width: 32px;\n",
              "    }\n",
              "\n",
              "    .colab-df-convert:hover {\n",
              "      background-color: #E2EBFA;\n",
              "      box-shadow: 0px 1px 2px rgba(60, 64, 67, 0.3), 0px 1px 3px 1px rgba(60, 64, 67, 0.15);\n",
              "      fill: #174EA6;\n",
              "    }\n",
              "\n",
              "    [theme=dark] .colab-df-convert {\n",
              "      background-color: #3B4455;\n",
              "      fill: #D2E3FC;\n",
              "    }\n",
              "\n",
              "    [theme=dark] .colab-df-convert:hover {\n",
              "      background-color: #434B5C;\n",
              "      box-shadow: 0px 1px 3px 1px rgba(0, 0, 0, 0.15);\n",
              "      filter: drop-shadow(0px 1px 2px rgba(0, 0, 0, 0.3));\n",
              "      fill: #FFFFFF;\n",
              "    }\n",
              "  </style>\n",
              "\n",
              "      <script>\n",
              "        const buttonEl =\n",
              "          document.querySelector('#df-773d0b4b-3cd7-4832-8871-4f590b4a1a58 button.colab-df-convert');\n",
              "        buttonEl.style.display =\n",
              "          google.colab.kernel.accessAllowed ? 'block' : 'none';\n",
              "\n",
              "        async function convertToInteractive(key) {\n",
              "          const element = document.querySelector('#df-773d0b4b-3cd7-4832-8871-4f590b4a1a58');\n",
              "          const dataTable =\n",
              "            await google.colab.kernel.invokeFunction('convertToInteractive',\n",
              "                                                     [key], {});\n",
              "          if (!dataTable) return;\n",
              "\n",
              "          const docLinkHtml = 'Like what you see? Visit the ' +\n",
              "            '<a target=\"_blank\" href=https://colab.research.google.com/notebooks/data_table.ipynb>data table notebook</a>'\n",
              "            + ' to learn more about interactive tables.';\n",
              "          element.innerHTML = '';\n",
              "          dataTable['output_type'] = 'display_data';\n",
              "          await google.colab.output.renderOutput(dataTable, element);\n",
              "          const docLink = document.createElement('div');\n",
              "          docLink.innerHTML = docLinkHtml;\n",
              "          element.appendChild(docLink);\n",
              "        }\n",
              "      </script>\n",
              "    </div>\n",
              "  </div>\n",
              "  "
            ]
          },
          "metadata": {},
          "execution_count": 66
        }
      ],
      "source": [
        "# Categorical Columns\n",
        "cat_col=list(df.select_dtypes(include=['category']).columns)\n",
        "\n",
        "# Removing HiddenScore and LoanOnCard column\n",
        "cat_col.remove('HiddenScore')\n",
        "cat_col.remove('LoanOnCard')\n",
        "\n",
        "ttest_df_cat = pd.DataFrame()\n",
        "ttest_df_cat['Column'] = cat_col\n",
        "p_values = []\n",
        "results = []\n",
        "\n",
        "for i in cat_col:\n",
        "    x = np.array(df[df.LoanOnCard == 0][i]) \n",
        "    y = np.array(df[df.LoanOnCard == 1][i])\n",
        "    t, p_value  = stats.ttest_ind(x,y, axis = 0,equal_var=False) \n",
        "    p_values.append(p_value)\n",
        "    if p_value < 0.05:  # Setting our significance level at 5%\n",
        "        results.append('f{} Rejecting Null Hypothesis. {}  of Loan holders and non-Loan holders are not same'.format('\\033[1m',i))\n",
        "    else:\n",
        "        results.append('f{} Fail to Reject Null Hypothesis. {} of Loan holders and non-Loan holders are  same'.format('\\033[1m',i))\n",
        "\n",
        "ttest_df_cat['P_values'] = p_values\n",
        "ttest_df_cat['Results'] = results\n",
        "\n",
        "ttest_df_cat"
      ]
    },
    {
      "cell_type": "code",
      "execution_count": 67,
      "metadata": {
        "execution": {
          "iopub.execute_input": "2021-03-07T13:51:11.631018Z",
          "iopub.status.busy": "2021-03-07T13:51:11.630365Z",
          "iopub.status.idle": "2021-03-07T13:51:11.632609Z",
          "shell.execute_reply": "2021-03-07T13:51:11.633232Z"
        },
        "papermill": {
          "duration": 0.191388,
          "end_time": "2021-03-07T13:51:11.633412",
          "exception": false,
          "start_time": "2021-03-07T13:51:11.442024",
          "status": "completed"
        },
        "tags": [],
        "id": "RINjmgLpAJHO"
      },
      "outputs": [],
      "source": [
        "# We can see CreditCard, InternetBanking and Security does not have significant difference in target variable.\n",
        "# So dropping these columns before building model\n",
        "df.drop(['CreditCard','InternetBanking','Security'],axis=1,inplace=True)"
      ]
    },
    {
      "cell_type": "markdown",
      "metadata": {
        "papermill": {
          "duration": 0.183083,
          "end_time": "2021-03-07T13:51:11.996904",
          "exception": false,
          "start_time": "2021-03-07T13:51:11.813821",
          "status": "completed"
        },
        "tags": [],
        "id": "wOjR9uk1AJHO"
      },
      "source": [
        "# 4. Data Pre-processing"
      ]
    },
    {
      "cell_type": "markdown",
      "metadata": {
        "papermill": {
          "duration": 0.180956,
          "end_time": "2021-03-07T13:51:12.362664",
          "exception": false,
          "start_time": "2021-03-07T13:51:12.181708",
          "status": "completed"
        },
        "tags": [],
        "id": "ea-UKjitAJHO"
      },
      "source": [
        "# **Outlier Analysis and Target Imbalance**"
      ]
    },
    {
      "cell_type": "code",
      "execution_count": 68,
      "metadata": {
        "execution": {
          "iopub.execute_input": "2021-03-07T13:51:13.459454Z",
          "iopub.status.busy": "2021-03-07T13:51:13.458733Z",
          "iopub.status.idle": "2021-03-07T13:51:13.511209Z",
          "shell.execute_reply": "2021-03-07T13:51:13.511750Z"
        },
        "papermill": {
          "duration": 0.24099,
          "end_time": "2021-03-07T13:51:13.511944",
          "exception": false,
          "start_time": "2021-03-07T13:51:13.270954",
          "status": "completed"
        },
        "tags": [],
        "colab": {
          "base_uri": "https://localhost:8080/"
        },
        "id": "g7GUY2fXAJHO",
        "outputId": "cfb4b053-3d4a-4230-b87c-a971ca98e16c"
      },
      "outputs": [
        {
          "output_type": "stream",
          "name": "stdout",
          "text": [
            "Column: HighestSpend\n",
            "Total Number of outliers in HighestSpend Before Imputing : 96\n",
            "Mean of HighestSpend is 71\n",
            "Total Number of outliers in HighestSpend After Imputing : 0\n",
            "\n",
            "\n",
            "Column: MonthlyAverageSpend\n",
            "Total Number of outliers in MonthlyAverageSpend Before Imputing : 324\n",
            "Mean of MonthlyAverageSpend is 1\n",
            "Total Number of outliers in MonthlyAverageSpend After Imputing : 0\n",
            "\n",
            "\n",
            "Column: Mortgage\n",
            "Total Number of outliers in Mortgage Before Imputing : 291\n",
            "Mean of Mortgage is 38\n",
            "Total Number of outliers in Mortgage After Imputing : 0\n",
            "\n",
            "\n"
          ]
        }
      ],
      "source": [
        "# Outlier Analysis\n",
        "col=['HighestSpend','MonthlyAverageSpend','Mortgage']\n",
        "\n",
        "for c in col:\n",
        "    #getting upper lower quartile values\n",
        "    print('Column: {}'.format(c))\n",
        "    q25,q75=np.percentile(df[c],25),np.percentile(df[c],75)\n",
        "    IQR=q75-q25\n",
        "    Threshold=IQR*1.5\n",
        "    lower,upper=q25-Threshold,q75+Threshold\n",
        "    Outliers=[i for i in df[c] if i < lower or i > upper]\n",
        "    print('Total Number of outliers in {} Before Imputing : {}'.format(c,len(Outliers)))\n",
        "\n",
        "    #taking mean of a column without considering outliers\n",
        "    df_include = df.loc[(df[c] >= lower) & (df[c] <= upper)]\n",
        "    mean=int(df_include[c].mean())\n",
        "    print('Mean of {} is {}'.format(c,mean))\n",
        "\n",
        "    #imputing outliers with mean\n",
        "    df[c]=np.where(df[c]>upper,mean,df[c])\n",
        "    df[c]=np.where(df[c]<lower,mean,df[c])\n",
        "    Outliers=[i for i in df[c] if i < lower or i > upper]\n",
        "    print('Total Number of outliers in {} After Imputing : {}'.format(c,len(Outliers)))  \n",
        "    print('\\n')"
      ]
    },
    {
      "cell_type": "markdown",
      "metadata": {
        "papermill": {
          "duration": 0.183336,
          "end_time": "2021-03-07T13:51:14.269523",
          "exception": false,
          "start_time": "2021-03-07T13:51:14.086187",
          "status": "completed"
        },
        "tags": [],
        "id": "wCwcNxhgAJHP"
      },
      "source": [
        "# **Checking on Target Imbalance**"
      ]
    },
    {
      "cell_type": "code",
      "source": [
        "s = df['LoanOnCard'].value_counts()\n",
        "fig = plt.pie(s,labels = s.index, autopct=autopct_format(s))"
      ],
      "metadata": {
        "colab": {
          "base_uri": "https://localhost:8080/",
          "height": 0
        },
        "id": "NNV4uk-ijlQy",
        "outputId": "83be2473-9c26-4313-bf3f-c24eaa56513a"
      },
      "execution_count": 69,
      "outputs": [
        {
          "output_type": "display_data",
          "data": {
            "text/plain": [
              "<Figure size 432x288 with 1 Axes>"
            ],
            "image/png": "[encoded data removed]"
          },
          "metadata": {}
        }
      ]
    },
    {
      "cell_type": "markdown",
      "metadata": {
        "papermill": {
          "duration": 0.183496,
          "end_time": "2021-03-07T13:51:15.293071",
          "exception": false,
          "start_time": "2021-03-07T13:51:15.109575",
          "status": "completed"
        },
        "tags": [],
        "id": "DcKRerjZAJHP"
      },
      "source": [
        "**Conclusions**\n",
        "*   Imbalance in target variable is observed.\n",
        "*   It is necessary to treat imbalanced data to prevent high bias and low accuracy in our classifier model.\n",
        "*   We will thus use SMOTE (oversampling) so that important information from the dataset is not lost.\n",
        "\n",
        "\n"
      ]
    },
    {
      "cell_type": "code",
      "execution_count": 70,
      "metadata": {
        "execution": {
          "iopub.execute_input": "2021-03-07T13:51:16.766006Z",
          "iopub.status.busy": "2021-03-07T13:51:16.765352Z",
          "iopub.status.idle": "2021-03-07T13:51:16.768352Z",
          "shell.execute_reply": "2021-03-07T13:51:16.767771Z"
        },
        "papermill": {
          "duration": 0.197987,
          "end_time": "2021-03-07T13:51:16.768500",
          "exception": false,
          "start_time": "2021-03-07T13:51:16.570513",
          "status": "completed"
        },
        "tags": [],
        "id": "0vG_fMXGAJHQ"
      },
      "outputs": [],
      "source": [
        "# Splitting data into independent variables and dependent variables(target variable)\n",
        "X=df.drop(columns='LoanOnCard')\n",
        "y=df['LoanOnCard']"
      ]
    },
    {
      "cell_type": "code",
      "execution_count": 71,
      "metadata": {
        "execution": {
          "iopub.execute_input": "2021-03-07T13:51:18.305666Z",
          "iopub.status.busy": "2021-03-07T13:51:18.304980Z",
          "iopub.status.idle": "2021-03-07T13:51:18.311353Z",
          "shell.execute_reply": "2021-03-07T13:51:18.310618Z"
        },
        "papermill": {
          "duration": 0.200576,
          "end_time": "2021-03-07T13:51:18.311504",
          "exception": false,
          "start_time": "2021-03-07T13:51:18.110928",
          "status": "completed"
        },
        "tags": [],
        "id": "q0cXXMDkAJHQ"
      },
      "outputs": [],
      "source": [
        "# Splitting X and y into training and test set in 70:30 ratio\n",
        "X_train, X_test, y_train, y_test = train_test_split(X, y, test_size=0.30, random_state=10)"
      ]
    },
    {
      "cell_type": "markdown",
      "metadata": {
        "papermill": {
          "duration": 0.181108,
          "end_time": "2021-03-07T13:51:18.671602",
          "exception": false,
          "start_time": "2021-03-07T13:51:18.490494",
          "status": "completed"
        },
        "tags": [],
        "id": "t6CmhN6EAJHR"
      },
      "source": [
        "# 5. Model training, testing and tuning:"
      ]
    },
    {
      "cell_type": "markdown",
      "metadata": {
        "papermill": {
          "duration": 0.183827,
          "end_time": "2021-03-07T13:51:19.034835",
          "exception": false,
          "start_time": "2021-03-07T13:51:18.851008",
          "status": "completed"
        },
        "tags": [],
        "id": "uI07FGG3AJHR"
      },
      "source": [
        "# **Logistic Regression Model**"
      ]
    },
    {
      "cell_type": "code",
      "execution_count": 72,
      "metadata": {
        "execution": {
          "iopub.execute_input": "2021-03-07T13:51:19.416161Z",
          "iopub.status.busy": "2021-03-07T13:51:19.415492Z",
          "iopub.status.idle": "2021-03-07T13:51:19.496750Z",
          "shell.execute_reply": "2021-03-07T13:51:19.496050Z"
        },
        "papermill": {
          "duration": 0.274066,
          "end_time": "2021-03-07T13:51:19.496909",
          "exception": false,
          "start_time": "2021-03-07T13:51:19.222843",
          "status": "completed"
        },
        "tags": [],
        "colab": {
          "base_uri": "https://localhost:8080/"
        },
        "id": "oHQTM0cuAJHR",
        "outputId": "a3f1d64f-2afb-436f-b6c9-ee46b50f8564"
      },
      "outputs": [
        {
          "output_type": "stream",
          "name": "stdout",
          "text": [
            "Accuracy on Training data: 0.9506597819850832\n",
            "Accuracy on Test data: 0.9424364123159303\n"
          ]
        }
      ],
      "source": [
        "logistic_model = LogisticRegression()\n",
        "logistic_model.fit(X_train, y_train)\n",
        "logistic_pred = logistic_model.predict(X_test)\n",
        "\n",
        "print('Accuracy on Training data:',logistic_model.score(X_train, y_train) )\n",
        "print('Accuracy on Test data:',logistic_model.score(X_test, y_test) )"
      ]
    },
    {
      "cell_type": "markdown",
      "metadata": {
        "papermill": {
          "duration": 0.182212,
          "end_time": "2021-03-07T13:51:19.867933",
          "exception": false,
          "start_time": "2021-03-07T13:51:19.685721",
          "status": "completed"
        },
        "tags": [],
        "id": "8wHhaSAeAJHR"
      },
      "source": [
        "**Conclusions:**\n",
        "\n",
        "*   94% accuracy on training data\n",
        "*   93% accuracy on test set\n"
      ]
    },
    {
      "cell_type": "markdown",
      "metadata": {
        "papermill": {
          "duration": 0.179664,
          "end_time": "2021-03-07T13:51:20.231243",
          "exception": false,
          "start_time": "2021-03-07T13:51:20.051579",
          "status": "completed"
        },
        "tags": [],
        "id": "RvsGKDGeAJHR"
      },
      "source": [
        "**Confusion Matrix**"
      ]
    },
    {
      "cell_type": "code",
      "source": [
        "confusion_mat = confusion_matrix(y_test, logistic_pred, labels=[0, 1])\n",
        "confusion_mat"
      ],
      "metadata": {
        "colab": {
          "base_uri": "https://localhost:8080/"
        },
        "id": "jjC5fGiWmraA",
        "outputId": "4b3af3a8-40e0-4dbf-c72d-60bf64e0a8ea"
      },
      "execution_count": 73,
      "outputs": [
        {
          "output_type": "execute_result",
          "data": {
            "text/plain": [
              "array([[1320,   27],\n",
              "       [  59,   88]])"
            ]
          },
          "metadata": {},
          "execution_count": 73
        }
      ]
    },
    {
      "cell_type": "code",
      "execution_count": 74,
      "metadata": {
        "execution": {
          "iopub.execute_input": "2021-03-07T13:51:21.593876Z",
          "iopub.status.busy": "2021-03-07T13:51:21.593177Z",
          "iopub.status.idle": "2021-03-07T13:51:21.605828Z",
          "shell.execute_reply": "2021-03-07T13:51:21.605022Z"
        },
        "papermill": {
          "duration": 0.20308,
          "end_time": "2021-03-07T13:51:21.606023",
          "exception": false,
          "start_time": "2021-03-07T13:51:21.402943",
          "status": "completed"
        },
        "tags": [],
        "colab": {
          "base_uri": "https://localhost:8080/"
        },
        "id": "W7XkKCjgAJHS",
        "outputId": "7cd3acab-cf9d-4d8a-a47d-2c83a0f2e8b9"
      },
      "outputs": [
        {
          "output_type": "stream",
          "name": "stdout",
          "text": [
            "classification  Matrix:\n",
            "               precision    recall  f1-score   support\n",
            "\n",
            "         0.0       0.96      0.98      0.97      1347\n",
            "         1.0       0.77      0.60      0.67       147\n",
            "\n",
            "    accuracy                           0.94      1494\n",
            "   macro avg       0.86      0.79      0.82      1494\n",
            "weighted avg       0.94      0.94      0.94      1494\n",
            "\n"
          ]
        }
      ],
      "source": [
        "print(\"classification  Matrix:\\n\",classification_report(y_test,logistic_pred))"
      ]
    },
    {
      "cell_type": "markdown",
      "metadata": {
        "papermill": {
          "duration": 0.183898,
          "end_time": "2021-03-07T13:51:21.979056",
          "exception": false,
          "start_time": "2021-03-07T13:51:21.795158",
          "status": "completed"
        },
        "tags": [],
        "id": "UcclfOqxAJHS"
      },
      "source": [
        "**Conclusions:** \n",
        "\n",
        "*   The model is poor at predicting class 1 compared to class 0.\n",
        "*   Recall tells that only 48% class 1 is predicted correctly from actual values as we dont have enough data of class 1 to train the model\n",
        "*   We will do the sampling and check how recall values improves in this case.\n"
      ]
    },
    {
      "cell_type": "markdown",
      "metadata": {
        "papermill": {
          "duration": 0.186316,
          "end_time": "2021-03-07T13:51:22.352254",
          "exception": false,
          "start_time": "2021-03-07T13:51:22.165938",
          "status": "completed"
        },
        "tags": [],
        "id": "t4CKXgInAJHS"
      },
      "source": [
        "# **SMOTE**"
      ]
    },
    {
      "cell_type": "code",
      "execution_count": 75,
      "metadata": {
        "execution": {
          "iopub.execute_input": "2021-03-07T13:51:23.108017Z",
          "iopub.status.busy": "2021-03-07T13:51:23.106999Z",
          "iopub.status.idle": "2021-03-07T13:51:23.534401Z",
          "shell.execute_reply": "2021-03-07T13:51:23.534887Z"
        },
        "papermill": {
          "duration": 0.623597,
          "end_time": "2021-03-07T13:51:23.535078",
          "exception": false,
          "start_time": "2021-03-07T13:51:22.911481",
          "status": "completed"
        },
        "tags": [],
        "id": "nE2K4S_mAJHT"
      },
      "outputs": [],
      "source": [
        "smote_model = SMOTENC(categorical_features=[1,3,5],random_state=42) #specifying categorical column numbers\n",
        "x_s,y_s=smote_model.fit_resample(X,y)"
      ]
    },
    {
      "cell_type": "code",
      "source": [
        "count_df = pd.DataFrame()\n",
        "count_df['Before SMOTE'] = y.value_counts()\n",
        "count_df['After SMOTE'] = y_s.value_counts()\n",
        "count_df\n"
      ],
      "metadata": {
        "colab": {
          "base_uri": "https://localhost:8080/",
          "height": 112
        },
        "id": "mqEOojYiq0y1",
        "outputId": "2489f248-683a-4067-88ce-9ec5d5738f70"
      },
      "execution_count": 76,
      "outputs": [
        {
          "output_type": "execute_result",
          "data": {
            "text/plain": [
              "     Before SMOTE  After SMOTE\n",
              "0.0          4500         4500\n",
              "1.0           480         4500"
            ],
            "text/html": [
              "\n",
              "  <div id=\"df-196b93ea-591b-4060-a9ec-19f08b9a7290\">\n",
              "    <div class=\"colab-df-container\">\n",
              "      <div>\n",
              "<style scoped>\n",
              "    .dataframe tbody tr th:only-of-type {\n",
              "        vertical-align: middle;\n",
              "    }\n",
              "\n",
              "    .dataframe tbody tr th {\n",
              "        vertical-align: top;\n",
              "    }\n",
              "\n",
              "    .dataframe thead th {\n",
              "        text-align: right;\n",
              "    }\n",
              "</style>\n",
              "<table border=\"1\" class=\"dataframe\">\n",
              "  <thead>\n",
              "    <tr style=\"text-align: right;\">\n",
              "      <th></th>\n",
              "      <th>Before SMOTE</th>\n",
              "      <th>After SMOTE</th>\n",
              "    </tr>\n",
              "  </thead>\n",
              "  <tbody>\n",
              "    <tr>\n",
              "      <th>0.0</th>\n",
              "      <td>4500</td>\n",
              "      <td>4500</td>\n",
              "    </tr>\n",
              "    <tr>\n",
              "      <th>1.0</th>\n",
              "      <td>480</td>\n",
              "      <td>4500</td>\n",
              "    </tr>\n",
              "  </tbody>\n",
              "</table>\n",
              "</div>\n",
              "      <button class=\"colab-df-convert\" onclick=\"convertToInteractive('df-196b93ea-591b-4060-a9ec-19f08b9a7290')\"\n",
              "              title=\"Convert this dataframe to an interactive table.\"\n",
              "              style=\"display:none;\">\n",
              "        \n",
              "  <svg xmlns=\"http://www.w3.org/2000/svg\" height=\"24px\"viewBox=\"0 0 24 24\"\n",
              "       width=\"24px\">\n",
              "    <path d=\"M0 0h24v24H0V0z\" fill=\"none\"/>\n",
              "    <path d=\"M18.56 5.44l.94 2.06.94-2.06 2.06-.94-2.06-.94-.94-2.06-.94 2.06-2.06.94zm-11 1L8.5 8.5l.94-2.06 2.06-.94-2.06-.94L8.5 2.5l-.94 2.06-2.06.94zm10 10l.94 2.06.94-2.06 2.06-.94-2.06-.94-.94-2.06-.94 2.06-2.06.94z\"/><path d=\"M17.41 7.96l-1.37-1.37c-.4-.4-.92-.59-1.43-.59-.52 0-1.04.2-1.43.59L10.3 9.45l-7.72 7.72c-.78.78-.78 2.05 0 2.83L4 21.41c.39.39.9.59 1.41.59.51 0 1.02-.2 1.41-.59l7.78-7.78 2.81-2.81c.8-.78.8-2.07 0-2.86zM5.41 20L4 18.59l7.72-7.72 1.47 1.35L5.41 20z\"/>\n",
              "  </svg>\n",
              "      </button>\n",
              "      \n",
              "  <style>\n",
              "    .colab-df-container {\n",
              "      display:flex;\n",
              "      flex-wrap:wrap;\n",
              "      gap: 12px;\n",
              "    }\n",
              "\n",
              "    .colab-df-convert {\n",
              "      background-color: #E8F0FE;\n",
              "      border: none;\n",
              "      border-radius: 50%;\n",
              "      cursor: pointer;\n",
              "      display: none;\n",
              "      fill: #1967D2;\n",
              "      height: 32px;\n",
              "      padding: 0 0 0 0;\n",
              "      width: 32px;\n",
              "    }\n",
              "\n",
              "    .colab-df-convert:hover {\n",
              "      background-color: #E2EBFA;\n",
              "      box-shadow: 0px 1px 2px rgba(60, 64, 67, 0.3), 0px 1px 3px 1px rgba(60, 64, 67, 0.15);\n",
              "      fill: #174EA6;\n",
              "    }\n",
              "\n",
              "    [theme=dark] .colab-df-convert {\n",
              "      background-color: #3B4455;\n",
              "      fill: #D2E3FC;\n",
              "    }\n",
              "\n",
              "    [theme=dark] .colab-df-convert:hover {\n",
              "      background-color: #434B5C;\n",
              "      box-shadow: 0px 1px 3px 1px rgba(0, 0, 0, 0.15);\n",
              "      filter: drop-shadow(0px 1px 2px rgba(0, 0, 0, 0.3));\n",
              "      fill: #FFFFFF;\n",
              "    }\n",
              "  </style>\n",
              "\n",
              "      <script>\n",
              "        const buttonEl =\n",
              "          document.querySelector('#df-196b93ea-591b-4060-a9ec-19f08b9a7290 button.colab-df-convert');\n",
              "        buttonEl.style.display =\n",
              "          google.colab.kernel.accessAllowed ? 'block' : 'none';\n",
              "\n",
              "        async function convertToInteractive(key) {\n",
              "          const element = document.querySelector('#df-196b93ea-591b-4060-a9ec-19f08b9a7290');\n",
              "          const dataTable =\n",
              "            await google.colab.kernel.invokeFunction('convertToInteractive',\n",
              "                                                     [key], {});\n",
              "          if (!dataTable) return;\n",
              "\n",
              "          const docLinkHtml = 'Like what you see? Visit the ' +\n",
              "            '<a target=\"_blank\" href=https://colab.research.google.com/notebooks/data_table.ipynb>data table notebook</a>'\n",
              "            + ' to learn more about interactive tables.';\n",
              "          element.innerHTML = '';\n",
              "          dataTable['output_type'] = 'display_data';\n",
              "          await google.colab.output.renderOutput(dataTable, element);\n",
              "          const docLink = document.createElement('div');\n",
              "          docLink.innerHTML = docLinkHtml;\n",
              "          element.appendChild(docLink);\n",
              "        }\n",
              "      </script>\n",
              "    </div>\n",
              "  </div>\n",
              "  "
            ]
          },
          "metadata": {},
          "execution_count": 76
        }
      ]
    },
    {
      "cell_type": "markdown",
      "metadata": {
        "papermill": {
          "duration": 0.185137,
          "end_time": "2021-03-07T13:51:24.685619",
          "exception": false,
          "start_time": "2021-03-07T13:51:24.500482",
          "status": "completed"
        },
        "tags": [],
        "id": "6Tx2IN2oAJHT"
      },
      "source": [
        "**Conclusion**\n",
        "Target is balanced after SMOTE (sampling)"
      ]
    },
    {
      "cell_type": "code",
      "execution_count": 77,
      "metadata": {
        "execution": {
          "iopub.execute_input": "2021-03-07T13:51:25.092269Z",
          "iopub.status.busy": "2021-03-07T13:51:25.091521Z",
          "iopub.status.idle": "2021-03-07T13:51:25.097454Z",
          "shell.execute_reply": "2021-03-07T13:51:25.097991Z"
        },
        "papermill": {
          "duration": 0.19586,
          "end_time": "2021-03-07T13:51:25.098228",
          "exception": false,
          "start_time": "2021-03-07T13:51:24.902368",
          "status": "completed"
        },
        "tags": [],
        "id": "qhlrhiz_AJHT"
      },
      "outputs": [],
      "source": [
        "# Splitting X and y into training and test set in 70:30 ratio\n",
        "X_train, X_test, y_train, y_test = train_test_split(x_s, y_s, test_size=0.30, random_state=10)"
      ]
    },
    {
      "cell_type": "code",
      "execution_count": 78,
      "metadata": {
        "execution": {
          "iopub.execute_input": "2021-03-07T13:51:25.487336Z",
          "iopub.status.busy": "2021-03-07T13:51:25.486502Z",
          "iopub.status.idle": "2021-03-07T13:51:25.591332Z",
          "shell.execute_reply": "2021-03-07T13:51:25.590669Z"
        },
        "papermill": {
          "duration": 0.292664,
          "end_time": "2021-03-07T13:51:25.591485",
          "exception": false,
          "start_time": "2021-03-07T13:51:25.298821",
          "status": "completed"
        },
        "tags": [],
        "colab": {
          "base_uri": "https://localhost:8080/"
        },
        "id": "oLytvSuDAJHT",
        "outputId": "2ccaf7e8-03f3-4ecc-b640-0d064b71ef18"
      },
      "outputs": [
        {
          "output_type": "stream",
          "name": "stdout",
          "text": [
            "Accuracy on Training data: 0.8749206349206349\n",
            "Accuracy on Test data: 0.8818518518518519\n"
          ]
        }
      ],
      "source": [
        "logistic_model = LogisticRegression()\n",
        "logistic_model.fit(X_train, y_train)\n",
        "logistic_pred = logistic_model.predict(X_test)\n",
        "\n",
        "print('Accuracy on Training data:',logistic_model.score(X_train, y_train) )\n",
        "print('Accuracy on Test data:',logistic_model.score(X_test, y_test) )"
      ]
    },
    {
      "cell_type": "code",
      "execution_count": 79,
      "metadata": {
        "execution": {
          "iopub.execute_input": "2021-03-07T13:51:26.345201Z",
          "iopub.status.busy": "2021-03-07T13:51:26.344449Z",
          "iopub.status.idle": "2021-03-07T13:51:26.583994Z",
          "shell.execute_reply": "2021-03-07T13:51:26.583476Z"
        },
        "papermill": {
          "duration": 0.433973,
          "end_time": "2021-03-07T13:51:26.584160",
          "exception": false,
          "start_time": "2021-03-07T13:51:26.150187",
          "status": "completed"
        },
        "tags": [],
        "colab": {
          "base_uri": "https://localhost:8080/",
          "height": 321
        },
        "id": "oV0TQ9CoAJHU",
        "outputId": "120d650f-516d-4568-ccec-2605aeba63e1"
      },
      "outputs": [
        {
          "output_type": "display_data",
          "data": {
            "text/plain": [
              "<Figure size 504x360 with 2 Axes>"
            ],
            "image/png": "[encoded data removed]"
          },
          "metadata": {
            "needs_background": "light"
          }
        }
      ],
      "source": [
        "cm = confusion_matrix(y_test, logistic_pred, labels=[0, 1])\n",
        "\n",
        "df_cm = pd.DataFrame(cm, index = [i for i in [\"Non-Loan holders\",\"Loan holders\"]],\n",
        "                  columns = [i for i in [\"Non-Loan holders\",\"Loan holders\"]])\n",
        "plt.figure(figsize = (7,5))\n",
        "sns.heatmap(df_cm, annot=True ,fmt='g')\n",
        "plt.show()"
      ]
    },
    {
      "cell_type": "code",
      "execution_count": 80,
      "metadata": {
        "execution": {
          "iopub.execute_input": "2021-03-07T13:51:26.970371Z",
          "iopub.status.busy": "2021-03-07T13:51:26.969375Z",
          "iopub.status.idle": "2021-03-07T13:51:26.986449Z",
          "shell.execute_reply": "2021-03-07T13:51:26.986979Z"
        },
        "papermill": {
          "duration": 0.214665,
          "end_time": "2021-03-07T13:51:26.987180",
          "exception": false,
          "start_time": "2021-03-07T13:51:26.772515",
          "status": "completed"
        },
        "tags": [],
        "colab": {
          "base_uri": "https://localhost:8080/"
        },
        "id": "DV4B021AAJHU",
        "outputId": "af502f74-7175-49e9-f8b9-ba6e3fd09813"
      },
      "outputs": [
        {
          "output_type": "stream",
          "name": "stdout",
          "text": [
            "              precision    recall  f1-score   support\n",
            "\n",
            "         0.0       0.89      0.87      0.88      1349\n",
            "         1.0       0.87      0.90      0.88      1351\n",
            "\n",
            "    accuracy                           0.88      2700\n",
            "   macro avg       0.88      0.88      0.88      2700\n",
            "weighted avg       0.88      0.88      0.88      2700\n",
            "\n"
          ]
        }
      ],
      "source": [
        "# Classification  Matrix\n",
        "print(classification_report(y_test,logistic_pred))"
      ]
    },
    {
      "cell_type": "markdown",
      "metadata": {
        "papermill": {
          "duration": 0.191669,
          "end_time": "2021-03-07T13:51:28.147468",
          "exception": false,
          "start_time": "2021-03-07T13:51:27.955799",
          "status": "completed"
        },
        "tags": [],
        "id": "O4nsUM8MAJHU"
      },
      "source": [
        "**Smote for training data**"
      ]
    },
    {
      "cell_type": "code",
      "execution_count": 81,
      "metadata": {
        "execution": {
          "iopub.execute_input": "2021-03-07T13:51:28.532815Z",
          "iopub.status.busy": "2021-03-07T13:51:28.532052Z",
          "iopub.status.idle": "2021-03-07T13:51:28.539295Z",
          "shell.execute_reply": "2021-03-07T13:51:28.539820Z"
        },
        "papermill": {
          "duration": 0.203543,
          "end_time": "2021-03-07T13:51:28.540019",
          "exception": false,
          "start_time": "2021-03-07T13:51:28.336476",
          "status": "completed"
        },
        "tags": [],
        "id": "5zHpJqDfAJHU"
      },
      "outputs": [],
      "source": [
        "# Splitting X and y into training and test set in 70:30 ratio\n",
        "X_train, X_test, y_train, y_test = train_test_split(X, y, test_size=0.30, random_state=10)"
      ]
    },
    {
      "cell_type": "code",
      "execution_count": 82,
      "metadata": {
        "execution": {
          "iopub.execute_input": "2021-03-07T13:51:28.920406Z",
          "iopub.status.busy": "2021-03-07T13:51:28.919724Z",
          "iopub.status.idle": "2021-03-07T13:51:29.211343Z",
          "shell.execute_reply": "2021-03-07T13:51:29.211846Z"
        },
        "papermill": {
          "duration": 0.485134,
          "end_time": "2021-03-07T13:51:29.212034",
          "exception": false,
          "start_time": "2021-03-07T13:51:28.726900",
          "status": "completed"
        },
        "tags": [],
        "id": "j_GWHAB6AJHU"
      },
      "outputs": [],
      "source": [
        "# Creating SMOTE model\n",
        "smote_model=SMOTENC(categorical_features=[1,3,5],random_state=42)\n",
        "x_train_res, y_train_res = smote_model.fit_resample(X_train, y_train)"
      ]
    },
    {
      "cell_type": "code",
      "execution_count": 83,
      "metadata": {
        "execution": {
          "iopub.execute_input": "2021-03-07T13:51:29.596075Z",
          "iopub.status.busy": "2021-03-07T13:51:29.594650Z",
          "iopub.status.idle": "2021-03-07T13:51:29.684466Z",
          "shell.execute_reply": "2021-03-07T13:51:29.683743Z"
        },
        "papermill": {
          "duration": 0.284456,
          "end_time": "2021-03-07T13:51:29.684715",
          "exception": false,
          "start_time": "2021-03-07T13:51:29.400259",
          "status": "completed"
        },
        "tags": [],
        "colab": {
          "base_uri": "https://localhost:8080/"
        },
        "id": "G1WLJy72AJHU",
        "outputId": "b2f8adfd-7d59-4e9d-d857-d9d17730fee0"
      },
      "outputs": [
        {
          "output_type": "stream",
          "name": "stdout",
          "text": [
            "Accuracy on Training data: 0.8763625932300632\n",
            "Accuracy on Test data: 0.8641231593038822\n"
          ]
        }
      ],
      "source": [
        "# Creating logistic model\n",
        "logistic_model = LogisticRegression()\n",
        "logistic_model.fit(x_train_res, y_train_res)\n",
        "logistic_pred = logistic_model.predict(X_test)\n",
        "\n",
        "print('Accuracy on Training data:',logistic_model.score(X_train, y_train) )\n",
        "print('Accuracy on Test data:',logistic_model.score(X_test, y_test) )"
      ]
    },
    {
      "cell_type": "markdown",
      "metadata": {
        "papermill": {
          "duration": 0.188397,
          "end_time": "2021-03-07T13:51:30.066651",
          "exception": false,
          "start_time": "2021-03-07T13:51:29.878254",
          "status": "completed"
        },
        "tags": [],
        "id": "mXUbHtIAAJHU"
      },
      "source": [
        "**Conclusion:**\n",
        "\n",
        "*  Accuracy has decreased\n",
        "\n"
      ]
    },
    {
      "cell_type": "code",
      "execution_count": 84,
      "metadata": {
        "execution": {
          "iopub.execute_input": "2021-03-07T13:51:30.450667Z",
          "iopub.status.busy": "2021-03-07T13:51:30.449940Z",
          "iopub.status.idle": "2021-03-07T13:51:30.670463Z",
          "shell.execute_reply": "2021-03-07T13:51:30.669499Z"
        },
        "papermill": {
          "duration": 0.414828,
          "end_time": "2021-03-07T13:51:30.670626",
          "exception": false,
          "start_time": "2021-03-07T13:51:30.255798",
          "status": "completed"
        },
        "tags": [],
        "colab": {
          "base_uri": "https://localhost:8080/"
        },
        "id": "E0NRnsJuAJHV",
        "outputId": "1e89e4e6-5bb2-4932-af4f-86a03eebda02"
      },
      "outputs": [
        {
          "output_type": "execute_result",
          "data": {
            "text/plain": [
              "array([[1157,  190],\n",
              "       [  13,  134]])"
            ]
          },
          "metadata": {},
          "execution_count": 84
        }
      ],
      "source": [
        "confusion_mat = confusion_matrix(y_test, logistic_pred, labels=[0, 1])\n",
        "confusion_mat"
      ]
    },
    {
      "cell_type": "code",
      "execution_count": 85,
      "metadata": {
        "execution": {
          "iopub.execute_input": "2021-03-07T13:51:31.058180Z",
          "iopub.status.busy": "2021-03-07T13:51:31.057403Z",
          "iopub.status.idle": "2021-03-07T13:51:31.071753Z",
          "shell.execute_reply": "2021-03-07T13:51:31.071048Z"
        },
        "papermill": {
          "duration": 0.210712,
          "end_time": "2021-03-07T13:51:31.071912",
          "exception": false,
          "start_time": "2021-03-07T13:51:30.861200",
          "status": "completed"
        },
        "tags": [],
        "colab": {
          "base_uri": "https://localhost:8080/"
        },
        "id": "cBbvAkPYAJHV",
        "outputId": "e7c439c5-fd4d-4d0e-d631-5c5e181f1fe3"
      },
      "outputs": [
        {
          "output_type": "stream",
          "name": "stdout",
          "text": [
            "              precision    recall  f1-score   support\n",
            "\n",
            "         0.0       0.99      0.86      0.92      1347\n",
            "         1.0       0.41      0.91      0.57       147\n",
            "\n",
            "    accuracy                           0.86      1494\n",
            "   macro avg       0.70      0.89      0.74      1494\n",
            "weighted avg       0.93      0.86      0.88      1494\n",
            "\n"
          ]
        }
      ],
      "source": [
        "# Classification  Matrix:\n",
        "print(classification_report(y_test,logistic_pred))"
      ]
    },
    {
      "cell_type": "markdown",
      "metadata": {
        "papermill": {
          "duration": 0.194715,
          "end_time": "2021-03-07T13:51:31.459187",
          "exception": false,
          "start_time": "2021-03-07T13:51:31.264472",
          "status": "completed"
        },
        "tags": [],
        "id": "cLHQDFdfAJHV"
      },
      "source": [
        "**Conclusions:**\n",
        "\n",
        "*   We are getting good recall value but the precision value is reduced after SMOTE."
      ]
    },
    {
      "cell_type": "markdown",
      "metadata": {
        "papermill": {
          "duration": 0.191683,
          "end_time": "2021-03-07T13:51:31.848027",
          "exception": false,
          "start_time": "2021-03-07T13:51:31.656344",
          "status": "completed"
        },
        "tags": [],
        "id": "sX9zFFeiAJHV"
      },
      "source": [
        "# **Naive Bayes Model**"
      ]
    },
    {
      "cell_type": "code",
      "execution_count": 86,
      "metadata": {
        "execution": {
          "iopub.execute_input": "2021-03-07T13:51:32.255481Z",
          "iopub.status.busy": "2021-03-07T13:51:32.250233Z",
          "iopub.status.idle": "2021-03-07T13:51:32.274820Z",
          "shell.execute_reply": "2021-03-07T13:51:32.274000Z"
        },
        "papermill": {
          "duration": 0.225694,
          "end_time": "2021-03-07T13:51:32.275046",
          "exception": false,
          "start_time": "2021-03-07T13:51:32.049352",
          "status": "completed"
        },
        "tags": [],
        "colab": {
          "base_uri": "https://localhost:8080/"
        },
        "id": "FpsE1F3DAJHV",
        "outputId": "106be322-5fa6-417f-e60c-523addf35e67"
      },
      "outputs": [
        {
          "output_type": "stream",
          "name": "stdout",
          "text": [
            "Accuracy on Training data: 0.8818129661503156\n",
            "Accuracy on Test data: 0.8627844712182061\n"
          ]
        }
      ],
      "source": [
        "# Naive Bayes Model\n",
        "naive_bayes_model = GaussianNB()\n",
        "naive_bayes_model.fit(x_train_res, y_train_res.ravel())\n",
        "naive_bayes_pred = naive_bayes_model.predict(X_test)\n",
        "\n",
        "print('Accuracy on Training data:',naive_bayes_model.score(X_train, y_train) )\n",
        "print('Accuracy on Test data:',naive_bayes_model.score(X_test, y_test) )"
      ]
    },
    {
      "cell_type": "code",
      "execution_count": 87,
      "metadata": {
        "execution": {
          "iopub.execute_input": "2021-03-07T13:51:33.101261Z",
          "iopub.status.busy": "2021-03-07T13:51:33.100570Z",
          "iopub.status.idle": "2021-03-07T13:51:33.327822Z",
          "shell.execute_reply": "2021-03-07T13:51:33.327062Z"
        },
        "papermill": {
          "duration": 0.42463,
          "end_time": "2021-03-07T13:51:33.327979",
          "exception": false,
          "start_time": "2021-03-07T13:51:32.903349",
          "status": "completed"
        },
        "tags": [],
        "colab": {
          "base_uri": "https://localhost:8080/"
        },
        "id": "5yPx0TnCAJHW",
        "outputId": "f1e1c315-3eb7-4c90-d542-434c6d0d9e82"
      },
      "outputs": [
        {
          "output_type": "execute_result",
          "data": {
            "text/plain": [
              "array([[1165,  182],\n",
              "       [  23,  124]])"
            ]
          },
          "metadata": {},
          "execution_count": 87
        }
      ],
      "source": [
        "confusion_mat = confusion_matrix(y_test, naive_bayes_pred, labels=[0, 1])\n",
        "confusion_mat"
      ]
    },
    {
      "cell_type": "code",
      "execution_count": 88,
      "metadata": {
        "execution": {
          "iopub.execute_input": "2021-03-07T13:51:33.729157Z",
          "iopub.status.busy": "2021-03-07T13:51:33.728499Z",
          "iopub.status.idle": "2021-03-07T13:51:33.742776Z",
          "shell.execute_reply": "2021-03-07T13:51:33.741005Z"
        },
        "papermill": {
          "duration": 0.211116,
          "end_time": "2021-03-07T13:51:33.742936",
          "exception": false,
          "start_time": "2021-03-07T13:51:33.531820",
          "status": "completed"
        },
        "tags": [],
        "colab": {
          "base_uri": "https://localhost:8080/"
        },
        "id": "NW-g4UwFAJHW",
        "outputId": "a93ed78d-22da-444e-de58-65613ec1781f"
      },
      "outputs": [
        {
          "output_type": "stream",
          "name": "stdout",
          "text": [
            "              precision    recall  f1-score   support\n",
            "\n",
            "         0.0       0.98      0.86      0.92      1347\n",
            "         1.0       0.41      0.84      0.55       147\n",
            "\n",
            "    accuracy                           0.86      1494\n",
            "   macro avg       0.69      0.85      0.73      1494\n",
            "weighted avg       0.92      0.86      0.88      1494\n",
            "\n"
          ]
        }
      ],
      "source": [
        "# Classification  Matrix\n",
        "print(classification_report(y_test,naive_bayes_pred))"
      ]
    },
    {
      "cell_type": "markdown",
      "metadata": {
        "papermill": {
          "duration": 0.191914,
          "end_time": "2021-03-07T13:51:34.126776",
          "exception": false,
          "start_time": "2021-03-07T13:51:33.934862",
          "status": "completed"
        },
        "tags": [],
        "id": "RvKFdm6zAJHW"
      },
      "source": [
        "**Conclusions:**\n",
        "\n",
        "*   Recall value for class 1 is less in naive bayes model compared to logistic regression.\n",
        "*   Recall value is good for both the classes unlike before.\n"
      ]
    },
    {
      "cell_type": "markdown",
      "metadata": {
        "papermill": {
          "duration": 0.194055,
          "end_time": "2021-03-07T13:51:34.512195",
          "exception": false,
          "start_time": "2021-03-07T13:51:34.318140",
          "status": "completed"
        },
        "tags": [],
        "id": "VJmHWOyJAJHW"
      },
      "source": [
        "**K-Fold CV for finding best model**"
      ]
    },
    {
      "cell_type": "code",
      "execution_count": 89,
      "metadata": {
        "execution": {
          "iopub.execute_input": "2021-03-07T13:51:34.897947Z",
          "iopub.status.busy": "2021-03-07T13:51:34.897237Z",
          "iopub.status.idle": "2021-03-07T13:51:34.900319Z",
          "shell.execute_reply": "2021-03-07T13:51:34.899724Z"
        },
        "papermill": {
          "duration": 0.199243,
          "end_time": "2021-03-07T13:51:34.900465",
          "exception": false,
          "start_time": "2021-03-07T13:51:34.701222",
          "status": "completed"
        },
        "tags": [],
        "id": "WqUAgeKGAJHW"
      },
      "outputs": [],
      "source": [
        "LR_model=LogisticRegression()\n",
        "KNN_model=KNeighborsClassifier(n_neighbors=13)\n",
        "NB_model=GaussianNB()"
      ]
    },
    {
      "cell_type": "code",
      "execution_count": 90,
      "metadata": {
        "execution": {
          "iopub.execute_input": "2021-03-07T13:51:35.431623Z",
          "iopub.status.busy": "2021-03-07T13:51:35.304879Z",
          "iopub.status.idle": "2021-03-07T13:51:36.919634Z",
          "shell.execute_reply": "2021-03-07T13:51:36.920141Z"
        },
        "papermill": {
          "duration": 1.815517,
          "end_time": "2021-03-07T13:51:36.920325",
          "exception": false,
          "start_time": "2021-03-07T13:51:35.104808",
          "status": "completed"
        },
        "tags": [],
        "colab": {
          "base_uri": "https://localhost:8080/"
        },
        "id": "aY3Qwd7-AJHX",
        "outputId": "1fbfa4c9-8873-45bb-f921-5ed1b9b84e62"
      },
      "outputs": [
        {
          "output_type": "stream",
          "name": "stdout",
          "text": [
            "LR: 0.946787 (0.007254)\n",
            "KNN: 0.924900 (0.007082)\n",
            "NB: 0.907430 (0.013750)\n"
          ]
        }
      ],
      "source": [
        "#seed = 7\n",
        "# prepare models\n",
        "models = []\n",
        "models.append(('LR', LR_model))\n",
        "models.append(('KNN', KNN_model))\n",
        "models.append(('NB', NB_model))\n",
        "\n",
        "# evaluate each model in turn\n",
        "results = []\n",
        "names = []\n",
        "scoring = 'accuracy'\n",
        "for name, model in models:\n",
        "\tkfold = model_selection.KFold(n_splits=10)\n",
        "\tcv_results = model_selection.cross_val_score(model,  X,y, cv=kfold, scoring=scoring)\n",
        "\tresults.append(cv_results)\n",
        "\tnames.append(name)\n",
        "\taccuracy = \"%s: %f (%f)\" % (name, cv_results.mean(), cv_results.std())\n",
        "\tprint(accuracy)"
      ]
    },
    {
      "cell_type": "code",
      "source": [
        "# boxplot algorithm comparison\n",
        "fig = plt.figure()\n",
        "fig.suptitle('Algorithm Comparison')\n",
        "ax = fig.add_subplot(111)\n",
        "plt.boxplot(results)\n",
        "ax.set_xticklabels(names)\n",
        "plt.show()"
      ],
      "metadata": {
        "colab": {
          "base_uri": "https://localhost:8080/",
          "height": 294
        },
        "id": "9P1nhuP1_wVd",
        "outputId": "61e6a5cb-78c5-4634-a80c-857846d4b9d8"
      },
      "execution_count": 91,
      "outputs": [
        {
          "output_type": "display_data",
          "data": {
            "text/plain": [
              "<Figure size 432x288 with 1 Axes>"
            ],
            "image/png": "[encoded data removed]"
          },
          "metadata": {
            "needs_background": "light"
          }
        }
      ]
    },
    {
      "cell_type": "markdown",
      "metadata": {
        "papermill": {
          "duration": 0.197953,
          "end_time": "2021-03-07T13:51:37.318315",
          "exception": false,
          "start_time": "2021-03-07T13:51:37.120362",
          "status": "completed"
        },
        "tags": [],
        "id": "iydPl9UjAJHX"
      },
      "source": [
        "**Conclusions:** \n",
        "\n",
        "*   There's good accuracy even without sampling.\n",
        "*   Performance of Naive bayes is less compared to Logistic\n",
        "\n"
      ]
    },
    {
      "cell_type": "code",
      "execution_count": 92,
      "metadata": {
        "execution": {
          "iopub.execute_input": "2021-03-07T13:51:38.102261Z",
          "iopub.status.busy": "2021-03-07T13:51:38.101238Z",
          "iopub.status.idle": "2021-03-07T13:51:39.530452Z",
          "shell.execute_reply": "2021-03-07T13:51:39.529739Z"
        },
        "papermill": {
          "duration": 1.632359,
          "end_time": "2021-03-07T13:51:39.530618",
          "exception": false,
          "start_time": "2021-03-07T13:51:37.898259",
          "status": "completed"
        },
        "tags": [],
        "colab": {
          "base_uri": "https://localhost:8080/"
        },
        "id": "uZb2E1Y7AJHX",
        "outputId": "f7a27d70-e221-4167-b427-44ad4ff97298"
      },
      "outputs": [
        {
          "output_type": "stream",
          "name": "stdout",
          "text": [
            "LR: 0.945582 (0.004255)\n",
            "KNN: 0.924900 (0.005694)\n",
            "NB: 0.908233 (0.015162)\n"
          ]
        }
      ],
      "source": [
        "#seed = 7\n",
        "# stratified k-fold to check the performance due to imbalance data\n",
        "# prepare models\n",
        "models = []\n",
        "models.append(('LR', LR_model))\n",
        "models.append(('KNN', KNN_model))\n",
        "models.append(('NB', NB_model))\n",
        "\n",
        "# evaluate each model in turn\n",
        "results = []\n",
        "names = []\n",
        "scoring = 'accuracy'\n",
        "for name, model in models:\n",
        "\tkfold = model_selection.StratifiedKFold(n_splits=10)\n",
        "\tcv_results = model_selection.cross_val_score(model,  X,y, cv=kfold, scoring=scoring)\n",
        "\tresults.append(cv_results)\n",
        "\tnames.append(name)\n",
        "\taccuracy = \"%s: %f (%f)\" % (name, cv_results.mean(), cv_results.std())\n",
        "\tprint(accuracy)"
      ]
    },
    {
      "cell_type": "code",
      "source": [
        "# boxplot algorithm comparison\n",
        "fig = plt.figure()\n",
        "fig.suptitle('Algorithm Comparison')\n",
        "ax = fig.add_subplot(111)\n",
        "plt.boxplot(results)\n",
        "ax.set_xticklabels(names)\n",
        "plt.show()"
      ],
      "metadata": {
        "colab": {
          "base_uri": "https://localhost:8080/",
          "height": 294
        },
        "id": "RPZ_1pzp_44b",
        "outputId": "92856e3e-c70a-494d-f504-44a6b287e001"
      },
      "execution_count": 93,
      "outputs": [
        {
          "output_type": "display_data",
          "data": {
            "text/plain": [
              "<Figure size 432x288 with 1 Axes>"
            ],
            "image/png": "[encoded data removed]"
          },
          "metadata": {
            "needs_background": "light"
          }
        }
      ]
    },
    {
      "cell_type": "markdown",
      "metadata": {
        "papermill": {
          "duration": 0.211954,
          "end_time": "2021-03-07T13:51:39.946309",
          "exception": false,
          "start_time": "2021-03-07T13:51:39.734355",
          "status": "completed"
        },
        "tags": [],
        "id": "cMIoZA5JAJHY"
      },
      "source": [
        "**Conclusion:**\n",
        "\n",
        "Slight increase in accuracy from before"
      ]
    },
    {
      "cell_type": "markdown",
      "metadata": {
        "papermill": {
          "duration": 0.198738,
          "end_time": "2021-03-07T13:51:40.340950",
          "exception": false,
          "start_time": "2021-03-07T13:51:40.142212",
          "status": "completed"
        },
        "tags": [],
        "id": "HDuOKTIeAJHY"
      },
      "source": [
        "# **6.Conclusion  and improvisation.**"
      ]
    },
    {
      "cell_type": "markdown",
      "metadata": {
        "papermill": {
          "duration": 0.199895,
          "end_time": "2021-03-07T13:51:40.742834",
          "exception": false,
          "start_time": "2021-03-07T13:51:40.542939",
          "status": "completed"
        },
        "tags": [],
        "id": "jQLIig9kAJHY"
      },
      "source": [
        "> \n",
        "\n",
        "*   Selected final model: Logistic Regression\n",
        "> It performs well in training and testing test.\n",
        "*   Logistic regression performed well in k-fold cross validation as well.\n",
        "*   Less deviation in Logistic Regression\n",
        "*   Logistic Regression is not affected by overfitting and it is also has good recall value.\n",
        "\n",
        "\n",
        "*  Prediction on minority classes improved because of Sampling.\n",
        "> Thus data should be equally collected for both classes.\n",
        "\n",
        "> **Few customers does't have credit card but those customer having loan on card. This data error can be avoided**\n"
      ]
    }
  ],
  "metadata": {
    "kernelspec": {
      "display_name": "Python 3",
      "language": "python",
      "name": "python3"
    },
    "language_info": {
      "codemirror_mode": {
        "name": "ipython",
        "version": 3
      },
      "file_extension": ".py",
      "mimetype": "text/x-python",
      "name": "python",
      "nbconvert_exporter": "python",
      "pygments_lexer": "ipython3",
      "version": "3.7.9"
    },
    "papermill": {
      "default_parameters": {},
      "duration": 103.819786,
      "end_time": "2021-03-07T13:51:41.647712",
      "environment_variables": {},
      "exception": null,
      "input_path": "__notebook__.ipynb",
      "output_path": "__notebook__.ipynb",
      "parameters": {},
      "start_time": "2021-03-07T13:49:57.827926",
      "version": "2.2.2"
    },
    "colab": {
      "provenance": [],
      "collapsed_sections": [
        "GeQzAvsxAJG1",
        "ZNVTnBliAJHK",
        "ea-UKjitAJHO",
        "wCwcNxhgAJHP",
        "uI07FGG3AJHR",
        "HDuOKTIeAJHY"
      ]
    }
  },
  "nbformat": 4,
  "nbformat_minor": 0
}